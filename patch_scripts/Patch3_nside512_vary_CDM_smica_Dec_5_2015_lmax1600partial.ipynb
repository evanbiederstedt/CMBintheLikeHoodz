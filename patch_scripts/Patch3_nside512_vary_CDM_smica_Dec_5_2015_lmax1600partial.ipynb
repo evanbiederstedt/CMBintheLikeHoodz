{
 "cells": [
  {
   "cell_type": "code",
   "execution_count": 1,
   "metadata": {
    "collapsed": true
   },
   "outputs": [],
   "source": [
    "from __future__ import (division, print_function, absolute_import)"
   ]
  },
  {
   "cell_type": "code",
   "execution_count": 2,
   "metadata": {
    "collapsed": true
   },
   "outputs": [],
   "source": [
    "%matplotlib inline\n",
    "import math\n",
    "import matplotlib.pyplot as plt \n",
    "import numpy as np\n",
    "import healpy as hp\n",
    "import pyfits as pf\n",
    "import astropy as ap\n",
    "import os\n",
    "from scipy.special import eval_legendre  ##special scipy function\n"
   ]
  },
  {
   "cell_type": "code",
   "execution_count": 3,
   "metadata": {
    "collapsed": true
   },
   "outputs": [],
   "source": [
    "# http://docs.scipy.org/doc/scipy-0.16.0/reference/generated/scipy.io.readsav.html\n",
    "# http://www.astrobetter.com/blog/2009/11/24/read-idl-save-files-into-python/"
   ]
  },
  {
   "cell_type": "code",
   "execution_count": 4,
   "metadata": {
    "collapsed": false
   },
   "outputs": [],
   "source": [
    "import scipy\n",
    "import scipy.io"
   ]
  },
  {
   "cell_type": "code",
   "execution_count": 5,
   "metadata": {
    "collapsed": false
   },
   "outputs": [
    {
     "name": "stdout",
     "output_type": "stream",
     "text": [
      "/Users/evanbiederstedt/Downloads\n"
     ]
    }
   ],
   "source": [
    "cd ~/Downloads"
   ]
  },
  {
   "cell_type": "code",
   "execution_count": 6,
   "metadata": {
    "collapsed": false
   },
   "outputs": [
    {
     "name": "stdout",
     "output_type": "stream",
     "text": [
      "768\n",
      "The total number of pixels is 3145728\n",
      "The maximum ell of the power spectrum C_l set to lmax = 2*nside 1024\n",
      "Healpix tells me total number of pixels npix is equal to 3145728\n",
      "NSIDE = 2048\n",
      "ORDERING = NESTED in fits file\n",
      "Ordering converted to RING\n",
      "CMB map, Noise map\n",
      "NSIDE = 2048\n",
      "ORDERING = NESTED in fits file\n",
      "Ordering converted to RING\n",
      "[-149.29827881 -110.67951965  -97.61709595 -163.04072571 -176.72653198\n",
      " -120.62650299  -96.60706329  -85.72504425  -45.77533722  -81.54304504\n",
      " -138.88243103 -190.0241394  -198.08218384 -160.84889221 -103.28009033\n",
      "  -83.06707001  -81.32474518  -63.77209091  -14.57890129  -20.42744637]\n",
      "[ -9.46955872 -18.9770813    4.07545471  -2.22019196   5.77149963\n",
      "  -4.3202858  -32.39636993  -4.47360992  12.77639008  11.26256943\n",
      "  13.93226242  -8.88911438  20.69018555  15.28821564   3.15649033\n",
      " -25.5931778  -23.94864082  12.71397209  22.85354424  -1.77952194]\n",
      "[ -1.55347087e+02  -6.99120010e+01  -1.67105378e+01  -1.41747673e+02\n",
      "  -1.48236466e+02  -7.43404467e+01  -6.92688653e+01  -4.39213580e+01\n",
      "   4.08769279e+01   1.28313720e-01  -3.78078317e+01  -1.72654424e+02\n",
      "  -5.52089704e+01  -7.23699434e+01  -5.21782598e+01  -6.63131703e+01\n",
      "  -6.64638903e+01  -8.75960823e+01  -1.34917786e+01  -2.94065932e+01]\n",
      "[ 10.26340151  -4.2456615    2.85139173  12.22886217   7.96902156\n",
      "  10.57378757  -3.55501878   6.50660163   4.50673336 -11.06330222\n",
      "   0.69204187 -11.61016417  -2.35611764   5.14554012  18.56626385\n",
      "  -6.9778665  -10.47027302  -2.89633691   1.09779429   3.13967326]\n",
      "3145728\n",
      "3145728\n",
      "3145728\n",
      "(3145728,)\n",
      "768\n",
      "768\n",
      "[ 197.13106251  145.43990898  156.90945959  104.4102273   142.53444529\n",
      "  170.86083889  102.90736341  135.73611784  191.29680252  218.36973476\n",
      "   62.73745954  106.66435051  152.87459087  239.82903862  211.17898083\n",
      "   -4.41460153   49.50428286  126.03755713  201.27997303  208.92056561\n",
      "  184.38660431  -86.81240416  -28.40482717   46.48131257  124.48480701\n",
      "  144.46641493  164.79262924  154.26004219 -134.35840654  -32.16925643]\n",
      "[ -8.99367619   0.28109169  -2.96515441  -1.76370049   3.27548909\n",
      "   0.13937426  -2.9340862   -7.41833878   0.16448689  -0.12759924\n",
      "   0.47788197  -4.12307167   0.19859385   2.4307766    4.51490402\n",
      " -10.93819064  -4.36249346   3.79951596  -3.79144049  -8.77222157\n",
      "   3.24096727  -2.36502111   4.82807714  -6.41646916   4.48551607\n",
      "   7.61491716  -1.27481318  -2.10183764   4.08788204  -2.37571752]\n"
     ]
    }
   ],
   "source": [
    "# In[8]:\n",
    "\n",
    "patch_file = scipy.io.readsav('listpix_patch3.sav')\n",
    "\n",
    "\n",
    "# In[ ]:\n",
    "\n",
    "\n",
    "\n",
    "\n",
    "# In[9]:\n",
    "\n",
    "type(patch_file)\n",
    "\n",
    "\n",
    "# In[10]:\n",
    "\n",
    "arr3 = patch_file['listpix_patch3']\n",
    "#print(arr3)\n",
    "\n",
    "\n",
    "# In[11]:\n",
    "\n",
    "type(arr3)\n",
    "\n",
    "\n",
    "# In[12]:\n",
    "\n",
    "print(len(arr3)) # pixels total 12476\n",
    "\n",
    "\n",
    "# In[13]:\n",
    "\n",
    "smica_map = \"COM_CompMap_CMB-smica_2048_R1.20.fits\"\n",
    "\n",
    "\n",
    "# In[ ]:\n",
    "\n",
    "\n",
    "\n",
    "\n",
    "# In[14]:\n",
    "\n",
    "nside=512\n",
    "npix = 12*(nside**2) #total number of pixels, npix\n",
    "LMAX = ((2*nside)) #maximum l of the power spectrum C_l\n",
    "heal_npix = hp.nside2npix(nside) # Healpix calculated npix\n",
    "\n",
    "print(\"The total number of pixels is \" + str(npix))\n",
    "print(\"The maximum ell of the power spectrum C_l set to lmax = 2*nside \" +str(LMAX))\n",
    "print(\"Healpix tells me total number of pixels npix is equal to \" + str(heal_npix))\n",
    "\n",
    "\n",
    "# In[15]:\n",
    "\n",
    "mapread_smica = hp.read_map(smica_map, field=0)\n",
    "#hp.mollview(mapread_camb512)\n",
    "#hp.mollview(mapread_smica)\n",
    "print(\"CMB map, Noise map\")\n",
    "smica_noise = hp.read_map(smica_map, field=1)\n",
    "#hp.mollview(smica_noise)\n",
    "\n",
    "\n",
    "# In[16]:\n",
    "\n",
    "print(mapread_smica[:20])\n",
    "print(smica_noise[:20])\n",
    "\n",
    "\n",
    "# In[17]:\n",
    "\n",
    "smica512 = hp.pixelfunc.ud_grade(mapread_smica, 512)\n",
    "noise512 = hp.pixelfunc.ud_grade(smica_noise, 512)\n",
    "print(smica512[:20])\n",
    "print(noise512[:20])\n",
    "\n",
    "\n",
    "# In[18]:\n",
    "\n",
    "print(len(smica512))\n",
    "print(len(noise512))\n",
    "\n",
    "\n",
    "# In[ ]:\n",
    "\n",
    "\n",
    "\n",
    "\n",
    "# In[19]:\n",
    "\n",
    "# rename array for convenience\n",
    "tempval = smica512\n",
    "\n",
    "# Data:\n",
    "#     tempval      # the array of pixel values, (3145728,)\n",
    "\n",
    "\n",
    "# In[20]:\n",
    "\n",
    "print(len(tempval))\n",
    "print(tempval.shape)\n",
    "tempval[:10]\n",
    "\n",
    "\n",
    "# In[21]:\n",
    "\n",
    "#\n",
    "# We only wish to use the pixels defined in our patch\n",
    "# These pixel indices are listed in arr3 such that total number pixels total 12476\n",
    "#\n",
    "# arr3: this defines pixel indices within patch\n",
    "# \n",
    "# To access pixel indices within array of CMB pixels, just use tempval[arr3]\n",
    "#\n",
    "patch=smica512[arr3]\n",
    "noisepatch = noise512[arr3]\n",
    "\n",
    "\n",
    "# In[22]:\n",
    "\n",
    "print(len(patch))\n",
    "print(len(noisepatch))\n",
    "\n",
    "\n",
    "# In[23]:\n",
    "\n",
    "print(patch[:30])\n",
    "print(noisepatch[:30])"
   ]
  },
  {
   "cell_type": "code",
   "execution_count": null,
   "metadata": {
    "collapsed": true
   },
   "outputs": [],
   "source": []
  },
  {
   "cell_type": "code",
   "execution_count": 7,
   "metadata": {
    "collapsed": true
   },
   "outputs": [],
   "source": [
    "# For lmax = 1600, we must create an array of ell values, i.e. [0 1 2 3....1599 1600]\n",
    "ell = np.arange(1601)\n",
    "#print(ell)\n",
    "# \n",
    "# Subtract the monopole and dipole, l=0, l=1\n",
    "ellval = ell[2:]\n",
    "#print(ellval)\n"
   ]
  },
  {
   "cell_type": "code",
   "execution_count": null,
   "metadata": {
    "collapsed": false,
    "scrolled": true
   },
   "outputs": [],
   "source": []
  },
  {
   "cell_type": "code",
   "execution_count": 8,
   "metadata": {
    "collapsed": false
   },
   "outputs": [],
   "source": [
    "PlM_50 = \"cl_varyCDMlmax1600ptPlMat50.npy\"\n",
    "PlM_100 = \"cl_varyCDMlmax1600ptPlMat100.npy\"\n",
    "PlM_150 = \"cl_varyCDMlmax1600ptPlMat150.npy\""
   ]
  },
  {
   "cell_type": "code",
   "execution_count": 9,
   "metadata": {
    "collapsed": true
   },
   "outputs": [],
   "source": [
    "data1 = np.load(PlM_50)\n",
    "data2 = np.load(PlM_100)\n",
    "data3 = np.load(PlM_150)"
   ]
  },
  {
   "cell_type": "code",
   "execution_count": 10,
   "metadata": {
    "collapsed": false
   },
   "outputs": [
    {
     "name": "stdout",
     "output_type": "stream",
     "text": [
      "(550, 768, 768)\n",
      "(549, 768, 768)\n",
      "(500, 768, 768)\n"
     ]
    }
   ],
   "source": [
    "print(data1.shape)\n",
    "print(data2.shape)\n",
    "print(data3.shape)"
   ]
  },
  {
   "cell_type": "code",
   "execution_count": 11,
   "metadata": {
    "collapsed": false
   },
   "outputs": [
    {
     "data": {
      "text/plain": [
       "numpy.ndarray"
      ]
     },
     "execution_count": 11,
     "metadata": {},
     "output_type": "execute_result"
    }
   ],
   "source": [
    "type(data1)"
   ]
  },
  {
   "cell_type": "code",
   "execution_count": null,
   "metadata": {
    "collapsed": false
   },
   "outputs": [],
   "source": []
  },
  {
   "cell_type": "code",
   "execution_count": 12,
   "metadata": {
    "collapsed": true
   },
   "outputs": [],
   "source": [
    "\n",
    "ff = \"CAMB_cl_varyCDMlmax1600.npy\"\n",
    "\n",
    "cell_array = np.load(ff)\n"
   ]
  },
  {
   "cell_type": "code",
   "execution_count": null,
   "metadata": {
    "collapsed": true
   },
   "outputs": [],
   "source": []
  },
  {
   "cell_type": "code",
   "execution_count": 13,
   "metadata": {
    "collapsed": true
   },
   "outputs": [],
   "source": [
    "\n",
    "PlMat_total = np.concatenate((data1, data2, data3))\n"
   ]
  },
  {
   "cell_type": "code",
   "execution_count": 14,
   "metadata": {
    "collapsed": false
   },
   "outputs": [
    {
     "data": {
      "text/plain": [
       "(1599, 768, 768)"
      ]
     },
     "execution_count": 14,
     "metadata": {},
     "output_type": "execute_result"
    }
   ],
   "source": [
    "PlMat_total.shape"
   ]
  },
  {
   "cell_type": "code",
   "execution_count": null,
   "metadata": {
    "collapsed": false
   },
   "outputs": [],
   "source": []
  },
  {
   "cell_type": "code",
   "execution_count": 15,
   "metadata": {
    "collapsed": true
   },
   "outputs": [],
   "source": [
    "PlMat = PlMat_total"
   ]
  },
  {
   "cell_type": "code",
   "execution_count": 16,
   "metadata": {
    "collapsed": false
   },
   "outputs": [
    {
     "data": {
      "text/plain": [
       "array([[ 1.        ,  0.99997988,  0.99997988, ...,  0.96158791,\n",
       "         0.96036615,  0.95910766],\n",
       "       [ 0.99997988,  1.        ,  0.99996458, ...,  0.96282875,\n",
       "         0.96164559,  0.96042561],\n",
       "       [ 0.99997988,  0.99996458,  1.        , ...,  0.96290159,\n",
       "         0.96168201,  0.96042561],\n",
       "       ..., \n",
       "       [ 0.96158791,  0.96282875,  0.96290159, ...,  1.        ,\n",
       "         0.99998002,  0.99992007],\n",
       "       [ 0.96036615,  0.96164559,  0.96168201, ...,  0.99998002,\n",
       "         1.        ,  0.99998002],\n",
       "       [ 0.95910766,  0.96042561,  0.96042561, ...,  0.99992007,\n",
       "         0.99998002,  1.        ]])"
      ]
     },
     "execution_count": 16,
     "metadata": {},
     "output_type": "execute_result"
    }
   ],
   "source": [
    "PlMat[2]"
   ]
  },
  {
   "cell_type": "code",
   "execution_count": 17,
   "metadata": {
    "collapsed": false
   },
   "outputs": [
    {
     "name": "stdout",
     "output_type": "stream",
     "text": [
      "1599\n",
      "(1599,)\n",
      "0.716197243914\n"
     ]
    }
   ],
   "source": [
    "# Step 3: (2*l +1)/4pi from l=2 to l=lmax\n",
    "#          [5/4pi 7/4pi 9/4pi 11/4pi .... 65/4pi ]\n",
    "norm = ((2*ellval + 1))/(4*math.pi)\n",
    "print(len(ellval))\n",
    "print(norm.shape)\n",
    "print(norm[2])"
   ]
  },
  {
   "cell_type": "code",
   "execution_count": 18,
   "metadata": {
    "collapsed": false
   },
   "outputs": [],
   "source": [
    "\n",
    "# Step 4: multiply \n",
    "#         [5/4pi*P_2(M) + 7/4pi*P_3(M) +...... + 65/4pi*P_32(M)]\n",
    "#\n",
    "# multiply PlMat by (2*l+1)/4pi, i.e. norm\n",
    "norm_matrix = norm[:, None, None] * PlMat\n",
    "# [5/4pi * P_2(M)  7/4pi * P_3(M) ....   65/4pi * P_32(M)]"
   ]
  },
  {
   "cell_type": "code",
   "execution_count": 19,
   "metadata": {
    "collapsed": false
   },
   "outputs": [
    {
     "data": {
      "text/plain": [
       "(1599, 768, 768)"
      ]
     },
     "execution_count": 19,
     "metadata": {},
     "output_type": "execute_result"
    }
   ],
   "source": [
    "norm_matrix.shape"
   ]
  },
  {
   "cell_type": "code",
   "execution_count": 20,
   "metadata": {
    "collapsed": false
   },
   "outputs": [
    {
     "data": {
      "text/plain": [
       "(1599, 768, 768)"
      ]
     },
     "execution_count": 20,
     "metadata": {},
     "output_type": "execute_result"
    }
   ],
   "source": [
    "PlMat.shape"
   ]
  },
  {
   "cell_type": "code",
   "execution_count": 21,
   "metadata": {
    "collapsed": true
   },
   "outputs": [],
   "source": [
    "# Step 5: multiply by theoretical CAMB values, [C_2 C_3    C_31 C_32]\n",
    "#         [5/4pi**C_2* P_2(M) + 7/4pi*C_3* P_3(M) +...... + 65/4pi*C_32* P_32(M)]\n",
    "\n"
   ]
  },
  {
   "cell_type": "code",
   "execution_count": 22,
   "metadata": {
    "collapsed": false
   },
   "outputs": [
    {
     "name": "stdout",
     "output_type": "stream",
     "text": [
      "(1, 768)\n",
      "(768, 1)\n",
      "4825.48631591\n"
     ]
    }
   ],
   "source": [
    "# define pixel-value arrays\n",
    "mT = np.matrix(patch)     # mT.shape = (1, 3072)\n",
    "m = np.matrix(patch).T    # m.shape = (3072, 1)\n",
    "Npix2pi = (len(patch))*2*math.pi  # LF constant\n",
    "print(mT.shape)\n",
    "print(m.shape)\n",
    "print(Npix2pi)"
   ]
  },
  {
   "cell_type": "code",
   "execution_count": 23,
   "metadata": {
    "collapsed": false
   },
   "outputs": [],
   "source": [
    "#print(mT)"
   ]
  },
  {
   "cell_type": "code",
   "execution_count": 24,
   "metadata": {
    "collapsed": false
   },
   "outputs": [
    {
     "data": {
      "text/plain": [
       "'\\n\\ntempp = (1e6)*patch # multiply CMB maps by 1e6\\n\\ndef LogLikehood_wNoise_1e12(param, sig):\\n    # param is our parameter, C_3\\n    Sij = param[:, None, None] * correctmatrix[None, :, :]\\n    newSij = (1e12)*Sij   # multiply S_ij by 1e12\\n    Nij = sig[:, None, None] * id_mat[None, :, :]\\n    newNij = (1e12)*Nij\\n    # Format 7/4pi * param * P_3(M) where param is the parameter we vary, C_l\\n    # Sij.shape = (20, 3072, 3072)\\n    Cij = newSij + newNij\\n    #invCij = np.linalg.inv(Cij)\\n    logdetC = np.linalg.slogdet(Cij)  # returns sign and determinant; use logdetC[1]\\n    # model_fit_terms = m^T C^-1 m\\n    #\\n    # model_fit_terms = np.array([np.dot(tempval.T , np.dot(invCij[i] , tempval) ) \\n    # for i in range(invCij.shape[0])])\\n    #\\n    model_fit_terms = np.array([np.dot(tempp.T , np.linalg.solve(Cij[i], tempp) ) for i in range(Cij.shape[0]) ]) \\n    return model_fit_terms + logdetC[1] + Npix2pi\\n'"
      ]
     },
     "execution_count": 24,
     "metadata": {},
     "output_type": "execute_result"
    }
   ],
   "source": [
    "\"\"\"\n",
    "\n",
    "tempp = (1e6)*patch # multiply CMB maps by 1e6\n",
    "\n",
    "def LogLikehood_wNoise_1e12(param, sig):\n",
    "    # param is our parameter, C_3\n",
    "    Sij = param[:, None, None] * correctmatrix[None, :, :]\n",
    "    newSij = (1e12)*Sij   # multiply S_ij by 1e12\n",
    "    Nij = sig[:, None, None] * id_mat[None, :, :]\n",
    "    newNij = (1e12)*Nij\n",
    "    # Format 7/4pi * param * P_3(M) where param is the parameter we vary, C_l\n",
    "    # Sij.shape = (20, 3072, 3072)\n",
    "    Cij = newSij + newNij\n",
    "    #invCij = np.linalg.inv(Cij)\n",
    "    logdetC = np.linalg.slogdet(Cij)  # returns sign and determinant; use logdetC[1]\n",
    "    # model_fit_terms = m^T C^-1 m\n",
    "    #\n",
    "    # model_fit_terms = np.array([np.dot(tempval.T , np.dot(invCij[i] , tempval) ) \n",
    "    # for i in range(invCij.shape[0])])\n",
    "    #\n",
    "    model_fit_terms = np.array([np.dot(tempp.T , np.linalg.solve(Cij[i], tempp) ) for i in range(Cij.shape[0]) ]) \n",
    "    return model_fit_terms + logdetC[1] + Npix2pi\n",
    "\"\"\""
   ]
  },
  {
   "cell_type": "code",
   "execution_count": 25,
   "metadata": {
    "collapsed": true
   },
   "outputs": [],
   "source": [
    "# tempp = patch\n",
    "# noise = \n",
    "\n"
   ]
  },
  {
   "cell_type": "code",
   "execution_count": null,
   "metadata": {
    "collapsed": true
   },
   "outputs": [],
   "source": []
  },
  {
   "cell_type": "code",
   "execution_count": null,
   "metadata": {
    "collapsed": true
   },
   "outputs": [],
   "source": []
  },
  {
   "cell_type": "code",
   "execution_count": null,
   "metadata": {
    "collapsed": false
   },
   "outputs": [],
   "source": []
  },
  {
   "cell_type": "code",
   "execution_count": 26,
   "metadata": {
    "collapsed": false
   },
   "outputs": [
    {
     "name": "stdout",
     "output_type": "stream",
     "text": [
      "[  1.60783694e-10   1.46076927e-10   1.34117628e-10 ...,   8.86319019e-11\n",
      "   8.82252505e-11   8.78165488e-11]\n"
     ]
    }
   ],
   "source": [
    "tempp = patch\n",
    "noise = noisepatch\n",
    "\n",
    "cls0 = cell_array[0]\n",
    "\n",
    "print(cls0)"
   ]
  },
  {
   "cell_type": "code",
   "execution_count": 27,
   "metadata": {
    "collapsed": false
   },
   "outputs": [],
   "source": [
    "tempp = patch\n",
    "noise = noisepatch\n",
    "\n",
    "# cell 0.075\n",
    "cls0 = cell_array[0]\n",
    "cell = cls0"
   ]
  },
  {
   "cell_type": "code",
   "execution_count": 28,
   "metadata": {
    "collapsed": false
   },
   "outputs": [],
   "source": [
    "# norm_matrix is (2*l+1)/4pi * P_ell(Mat)\n",
    "CellPellM = cell[:, None, None] * norm_matrix # elementwise (2*l+1)/4pi * C^th_ell * P_ell(Mat)\n",
    "Sij =  np.sum(CellPellM, axis=0) # now one matrix"
   ]
  },
  {
   "cell_type": "code",
   "execution_count": 29,
   "metadata": {
    "collapsed": false
   },
   "outputs": [
    {
     "data": {
      "text/plain": [
       "(1599, 768, 768)"
      ]
     },
     "execution_count": 29,
     "metadata": {},
     "output_type": "execute_result"
    }
   ],
   "source": [
    "CellPellM.shape"
   ]
  },
  {
   "cell_type": "code",
   "execution_count": 30,
   "metadata": {
    "collapsed": false
   },
   "outputs": [
    {
     "data": {
      "text/plain": [
       "(768, 768)"
      ]
     },
     "execution_count": 30,
     "metadata": {},
     "output_type": "execute_result"
    }
   ],
   "source": [
    "Sij.shape"
   ]
  },
  {
   "cell_type": "code",
   "execution_count": 31,
   "metadata": {
    "collapsed": false
   },
   "outputs": [
    {
     "name": "stdout",
     "output_type": "stream",
     "text": [
      "[[  4.38215188e-05   1.67650687e-05   1.67650687e-05 ...,   1.60785519e-08\n",
      "   -1.43081699e-08   2.57570491e-09]\n",
      " [  1.67650687e-05   4.38215188e-05   7.04409912e-06 ...,  -6.86003731e-09\n",
      "    1.66273196e-08  -1.32954472e-08]\n",
      " [  1.67650687e-05   7.04409912e-06   4.38215188e-05 ...,  -9.02091048e-09\n",
      "    1.68768776e-08  -1.32954472e-08]\n",
      " ..., \n",
      " [  1.60785519e-08  -6.86003731e-09  -9.02091048e-09 ...,   4.38215188e-05\n",
      "    1.68862302e-05   7.37147700e-07]\n",
      " [ -1.43081699e-08   1.66273196e-08   1.68768776e-08 ...,   1.68862302e-05\n",
      "    4.38215188e-05   1.68869169e-05]\n",
      " [  2.57570491e-09  -1.32954472e-08  -1.32954472e-08 ...,   7.37147700e-07\n",
      "    1.68869169e-05   4.38215188e-05]]\n"
     ]
    }
   ],
   "source": [
    "print(Sij)"
   ]
  },
  {
   "cell_type": "code",
   "execution_count": 32,
   "metadata": {
    "collapsed": false
   },
   "outputs": [
    {
     "data": {
      "text/plain": [
       "768"
      ]
     },
     "execution_count": 32,
     "metadata": {},
     "output_type": "execute_result"
    }
   ],
   "source": [
    "len(noise)"
   ]
  },
  {
   "cell_type": "code",
   "execution_count": 33,
   "metadata": {
    "collapsed": false
   },
   "outputs": [
    {
     "data": {
      "text/plain": [
       "768"
      ]
     },
     "execution_count": 33,
     "metadata": {},
     "output_type": "execute_result"
    }
   ],
   "source": [
    "len(tempp)"
   ]
  },
  {
   "cell_type": "code",
   "execution_count": 34,
   "metadata": {
    "collapsed": false
   },
   "outputs": [
    {
     "name": "stdout",
     "output_type": "stream",
     "text": [
      "(768, 768)\n"
     ]
    }
   ],
   "source": [
    "id_matrix = np.identity(len(tempp))\n",
    "print(id_matrix.shape)"
   ]
  },
  {
   "cell_type": "code",
   "execution_count": 35,
   "metadata": {
    "collapsed": false
   },
   "outputs": [],
   "source": [
    "Nij = noise * id_matrix"
   ]
  },
  {
   "cell_type": "code",
   "execution_count": 36,
   "metadata": {
    "collapsed": false
   },
   "outputs": [
    {
     "data": {
      "text/plain": [
       "(768, 768)"
      ]
     },
     "execution_count": 36,
     "metadata": {},
     "output_type": "execute_result"
    }
   ],
   "source": [
    "Nij.shape"
   ]
  },
  {
   "cell_type": "code",
   "execution_count": 37,
   "metadata": {
    "collapsed": false
   },
   "outputs": [
    {
     "name": "stdout",
     "output_type": "stream",
     "text": [
      "[[-8.99367619  0.         -0.         ..., -0.          0.         -0.        ]\n",
      " [-0.          0.28109169 -0.         ..., -0.          0.         -0.        ]\n",
      " [-0.          0.         -2.96515441 ..., -0.          0.         -0.        ]\n",
      " ..., \n",
      " [-0.          0.         -0.         ..., -9.02694303  0.         -0.        ]\n",
      " [-0.          0.         -0.         ..., -0.          3.09493291 -0.        ]\n",
      " [-0.          0.         -0.         ..., -0.          0.         -4.99160525]]\n"
     ]
    }
   ],
   "source": [
    "print(Nij)"
   ]
  },
  {
   "cell_type": "code",
   "execution_count": 38,
   "metadata": {
    "collapsed": false
   },
   "outputs": [],
   "source": [
    "Cij = Sij + Nij"
   ]
  },
  {
   "cell_type": "code",
   "execution_count": 39,
   "metadata": {
    "collapsed": false
   },
   "outputs": [],
   "source": [
    "model_fit_terms = np.array([np.dot(tempp.T , (np.linalg.solve(Cij, tempp)) )])"
   ]
  },
  {
   "cell_type": "code",
   "execution_count": 40,
   "metadata": {
    "collapsed": false
   },
   "outputs": [
    {
     "name": "stdout",
     "output_type": "stream",
     "text": [
      "[-4108549.15488275]\n"
     ]
    }
   ],
   "source": [
    "print(model_fit_terms)"
   ]
  },
  {
   "cell_type": "code",
   "execution_count": 41,
   "metadata": {
    "collapsed": false
   },
   "outputs": [],
   "source": [
    "logdetC = np.linalg.slogdet(Cij)  #"
   ]
  },
  {
   "cell_type": "code",
   "execution_count": 42,
   "metadata": {
    "collapsed": false
   },
   "outputs": [
    {
     "name": "stdout",
     "output_type": "stream",
     "text": [
      "759.300474574\n"
     ]
    }
   ],
   "source": [
    "print(logdetC[1])"
   ]
  },
  {
   "cell_type": "code",
   "execution_count": 43,
   "metadata": {
    "collapsed": false
   },
   "outputs": [
    {
     "name": "stdout",
     "output_type": "stream",
     "text": [
      "4825.48631591\n"
     ]
    }
   ],
   "source": [
    "print(Npix2pi)"
   ]
  },
  {
   "cell_type": "code",
   "execution_count": null,
   "metadata": {
    "collapsed": true
   },
   "outputs": [],
   "source": []
  },
  {
   "cell_type": "code",
   "execution_count": 44,
   "metadata": {
    "collapsed": true
   },
   "outputs": [],
   "source": [
    "tempp = patch\n",
    "noise = noisepatch\n",
    "\n",
    "\n",
    "def LogLF(cell):\n",
    "    # norm_matrix is (2*l+1)/4pi * P_ell(Mat)\n",
    "    CellPellM = cell[:, None, None] * norm_matrix # elementwise (2*l+1)/4pi * C^th_ell * P_ell(Mat)\n",
    "    Sij =  np.sum(CellPellM, axis=0) # now one matrix\n",
    "    id_matrix = np.identity(len(tempp))\n",
    "    Nij = noise * id_matrix\n",
    "    Cij = Sij + Nij\n",
    "    model_fit_terms = np.array([np.dot(tempp.T , (np.linalg.solve(Cij, tempp)) )])\n",
    "    logdetC = np.linalg.slogdet(Cij)\n",
    "    return model_fit_terms + logdetC[1] + Npix2pi\n",
    "\n",
    "def modelfit(cell):\n",
    "    # norm_matrix is (2*l+1)/4pi * P_ell(Mat)\n",
    "    CellPellM = cell[:, None, None] * norm_matrix # elementwise (2*l+1)/4pi * C^th_ell * P_ell(Mat)\n",
    "    Sij =  np.sum(CellPellM, axis=0) # now one matrix\n",
    "    id_matrix = np.identity(len(tempp))\n",
    "    Nij = noise * id_matrix\n",
    "    Cij = Sij + Nij\n",
    "    model_fit_terms = np.array([np.dot(tempp.T , (np.linalg.solve(Cij, tempp)) )])\n",
    "    logdetC = np.linalg.slogdet(Cij)\n",
    "    return model_fit_terms\n",
    "\n",
    "def logdet(cell):\n",
    "    # norm_matrix is (2*l+1)/4pi * P_ell(Mat)\n",
    "    CellPellM = cell[:, None, None] * norm_matrix # elementwise (2*l+1)/4pi * C^th_ell * P_ell(Mat)\n",
    "    Sij =  np.sum(CellPellM, axis=0) # now one matrix\n",
    "    id_matrix = np.identity(len(tempp))\n",
    "    Nij = noise * id_matrix\n",
    "    Cij = Sij + Nij\n",
    "    model_fit_terms = np.array([np.dot(tempp.T , (np.linalg.solve(Cij, tempp)) )])\n",
    "    logdetC = np.linalg.slogdet(Cij)\n",
    "    return logdetC[1] \n",
    "\n",
    "\n",
    "def squaredLogLF(cell):\n",
    "    # norm_matrix is (2*l+1)/4pi * P_ell(Mat)\n",
    "    CellPellM = cell[:, None, None] * norm_matrix # elementwise (2*l+1)/4pi * C^th_ell * P_ell(Mat)\n",
    "    Sij =  np.sum(CellPellM, axis=0) # now one matrix\n",
    "    id_matrix = np.identity(len(tempp))\n",
    "    Nij = (noise**2) * id_matrix\n",
    "    Cij = Sij + Nij\n",
    "    model_fit_terms = np.array([np.dot(tempp.T , (np.linalg.solve(Cij, tempp)) )])\n",
    "    logdetC = np.linalg.slogdet(Cij)\n",
    "    return model_fit_terms + logdetC[1] + Npix2pi\n",
    "\n",
    "def squared_modelfit(cell):\n",
    "    # norm_matrix is (2*l+1)/4pi * P_ell(Mat)\n",
    "    CellPellM = cell[:, None, None] * norm_matrix # elementwise (2*l+1)/4pi * C^th_ell * P_ell(Mat)\n",
    "    Sij =  np.sum(CellPellM, axis=0) # now one matrix\n",
    "    id_matrix = np.identity(len(tempp))\n",
    "    Nij = (noise**2) * id_matrix\n",
    "    Cij = Sij + Nij\n",
    "    model_fit_terms = np.array([np.dot(tempp.T , (np.linalg.solve(Cij, tempp)) )])\n",
    "    logdetC = np.linalg.slogdet(Cij)\n",
    "    return model_fit_terms\n",
    "\n",
    "def squared_logdet(cell):\n",
    "    # norm_matrix is (2*l+1)/4pi * P_ell(Mat)\n",
    "    CellPellM = cell[:, None, None] * norm_matrix # elementwise (2*l+1)/4pi * C^th_ell * P_ell(Mat)\n",
    "    Sij =  np.sum(CellPellM, axis=0) # now one matrix\n",
    "    id_matrix = np.identity(len(tempp))\n",
    "    Nij = (noise**2) * id_matrix\n",
    "    Cij = Sij + Nij\n",
    "    model_fit_terms = np.array([np.dot(tempp.T , (np.linalg.solve(Cij, tempp)) )])\n",
    "    logdetC = np.linalg.slogdet(Cij)\n",
    "    return logdetC[1] \n",
    "\n",
    "\n",
    "\n",
    "def noiselessLogLF(cell):\n",
    "    # norm_matrix is (2*l+1)/4pi * P_ell(Mat)\n",
    "    CellPellM = cell[:, None, None] * norm_matrix # elementwise (2*l+1)/4pi * C^th_ell * P_ell(Mat)\n",
    "    Sij =  np.sum(CellPellM, axis=0) # now one matrix\n",
    "    id_matrix = np.identity(len(tempp))\n",
    "    Nij = noise * id_matrix\n",
    "    Cij = Sij #+ Nij\n",
    "    model_fit_terms = np.array([np.dot(tempp.T , (np.linalg.solve(Cij, tempp)) )])\n",
    "    logdetC = np.linalg.slogdet(Cij)\n",
    "    return model_fit_terms + logdetC[1] + Npix2pi\n",
    "\n",
    "def noiselessmodelfit(cell):\n",
    "    # norm_matrix is (2*l+1)/4pi * P_ell(Mat)\n",
    "    CellPellM = cell[:, None, None] * norm_matrix # elementwise (2*l+1)/4pi * C^th_ell * P_ell(Mat)\n",
    "    Sij =  np.sum(CellPellM, axis=0) # now one matrix\n",
    "    id_matrix = np.identity(len(tempp))\n",
    "    Nij = noise * id_matrix\n",
    "    Cij = Sij #+ Nij\n",
    "    model_fit_terms = np.array([np.dot(tempp.T , (np.linalg.solve(Cij, tempp)) )])\n",
    "    logdetC = np.linalg.slogdet(Cij)\n",
    "    return model_fit_terms\n",
    "\n",
    "def noiselesslogdet(cell):\n",
    "    # norm_matrix is (2*l+1)/4pi * P_ell(Mat)\n",
    "    CellPellM = cell[:, None, None] * norm_matrix # elementwise (2*l+1)/4pi * C^th_ell * P_ell(Mat)\n",
    "    Sij =  np.sum(CellPellM, axis=0) # now one matrix\n",
    "    id_matrix = np.identity(len(tempp))\n",
    "    Nij = noise * id_matrix\n",
    "    Cij = Sij #+ Nij\n",
    "    model_fit_terms = np.array([np.dot(tempp.T , (np.linalg.solve(Cij, tempp)) )])\n",
    "    logdetC = np.linalg.slogdet(Cij)\n",
    "    return logdetC[1] "
   ]
  },
  {
   "cell_type": "code",
   "execution_count": 45,
   "metadata": {
    "collapsed": true
   },
   "outputs": [],
   "source": [
    "def noiseonlyLogLF(cell):\n",
    "    # norm_matrix is (2*l+1)/4pi * P_ell(Mat)\n",
    "    CellPellM = cell[:, None, None] * norm_matrix # elementwise (2*l+1)/4pi * C^th_ell * P_ell(Mat)\n",
    "    Sij =  np.sum(CellPellM, axis=0) # now one matrix\n",
    "    id_matrix = np.identity(len(tempp))\n",
    "    Nij = noise * id_matrix\n",
    "    Cij = Nij\n",
    "    model_fit_terms = np.array([np.dot(tempp.T , (np.linalg.solve(Cij, tempp)) )])\n",
    "    logdetC = np.linalg.slogdet(Cij)\n",
    "    return model_fit_terms + logdetC[1] + Npix2pi\n",
    "\n",
    "def noiseonlymodelfit(cell):\n",
    "    # norm_matrix is (2*l+1)/4pi * P_ell(Mat)\n",
    "    CellPellM = cell[:, None, None] * norm_matrix # elementwise (2*l+1)/4pi * C^th_ell * P_ell(Mat)\n",
    "    Sij =  np.sum(CellPellM, axis=0) # now one matrix\n",
    "    id_matrix = np.identity(len(tempp))\n",
    "    Nij = noise * id_matrix\n",
    "    Cij = Nij\n",
    "    model_fit_terms = np.array([np.dot(tempp.T , (np.linalg.solve(Cij, tempp)) )])\n",
    "    logdetC = np.linalg.slogdet(Cij)\n",
    "    return model_fit_terms\n",
    "\n",
    "def noiseonlylogdet(cell):\n",
    "    # norm_matrix is (2*l+1)/4pi * P_ell(Mat)\n",
    "    CellPellM = cell[:, None, None] * norm_matrix # elementwise (2*l+1)/4pi * C^th_ell * P_ell(Mat)\n",
    "    Sij =  np.sum(CellPellM, axis=0) # now one matrix\n",
    "    id_matrix = np.identity(len(tempp))\n",
    "    Nij = noise * id_matrix\n",
    "    Cij = Nij\n",
    "    model_fit_terms = np.array([np.dot(tempp.T , (np.linalg.solve(Cij, tempp)) )])\n",
    "    logdetC = np.linalg.slogdet(Cij)\n",
    "    return logdetC[1] "
   ]
  },
  {
   "cell_type": "code",
   "execution_count": 73,
   "metadata": {
    "collapsed": true
   },
   "outputs": [],
   "source": [
    "forty_samples = np.linspace(0.075, 0.1655, num=40)"
   ]
  },
  {
   "cell_type": "code",
   "execution_count": 47,
   "metadata": {
    "collapsed": true
   },
   "outputs": [],
   "source": [
    "logLF_40 = [LogLF(cell_array[i]) for i in range(40)]"
   ]
  },
  {
   "cell_type": "code",
   "execution_count": 48,
   "metadata": {
    "collapsed": true
   },
   "outputs": [],
   "source": [
    "modelfit_terms = [modelfit(cell_array[i])  for i in range(40)]"
   ]
  },
  {
   "cell_type": "code",
   "execution_count": 49,
   "metadata": {
    "collapsed": true
   },
   "outputs": [],
   "source": [
    "logdet_terms = [logdet(cell_array[i]) for i in range(40)]"
   ]
  },
  {
   "cell_type": "code",
   "execution_count": 50,
   "metadata": {
    "collapsed": true
   },
   "outputs": [],
   "source": [
    "sqlogLF_40 = [squaredLogLF(cell_array[i]) for i in range(40)]"
   ]
  },
  {
   "cell_type": "code",
   "execution_count": 51,
   "metadata": {
    "collapsed": true
   },
   "outputs": [],
   "source": [
    "sqmodelfit_terms = [squared_modelfit(cell_array[i]) for i in range(40)]"
   ]
  },
  {
   "cell_type": "code",
   "execution_count": 52,
   "metadata": {
    "collapsed": true
   },
   "outputs": [],
   "source": [
    "sqlogdet_terms = [squared_logdet(cell_array[i]) for i in range(40)]"
   ]
  },
  {
   "cell_type": "code",
   "execution_count": 53,
   "metadata": {
    "collapsed": true
   },
   "outputs": [],
   "source": [
    "noise_logLF = [noiselessLogLF(cell_array[i]) for i in range(40)]"
   ]
  },
  {
   "cell_type": "code",
   "execution_count": 54,
   "metadata": {
    "collapsed": true
   },
   "outputs": [],
   "source": [
    "noise_modelfits = [noiselessmodelfit(cell_array[i]) for i in range(40)]"
   ]
  },
  {
   "cell_type": "code",
   "execution_count": 55,
   "metadata": {
    "collapsed": true
   },
   "outputs": [],
   "source": [
    "noise_logdet = [noiselesslogdet(cell_array[i]) for i in range(40)]"
   ]
  },
  {
   "cell_type": "code",
   "execution_count": 56,
   "metadata": {
    "collapsed": true
   },
   "outputs": [],
   "source": [
    "onlynoise_logLF = [noiseonlyLogLF(cell_array[i]) for i in range(40)]"
   ]
  },
  {
   "cell_type": "code",
   "execution_count": 57,
   "metadata": {
    "collapsed": true
   },
   "outputs": [],
   "source": [
    "onlynoise_modelfits = [noiseonlymodelfit(cell_array[i]) for i in range(40)]"
   ]
  },
  {
   "cell_type": "code",
   "execution_count": 58,
   "metadata": {
    "collapsed": true
   },
   "outputs": [],
   "source": [
    "onlynoise_logdet = [noiseonlylogdet(cell_array[i]) for i in range(40)]"
   ]
  },
  {
   "cell_type": "code",
   "execution_count": null,
   "metadata": {
    "collapsed": true
   },
   "outputs": [],
   "source": []
  },
  {
   "cell_type": "code",
   "execution_count": 59,
   "metadata": {
    "collapsed": false
   },
   "outputs": [
    {
     "data": {
      "text/plain": [
       "[array([-4108549.15488275]),\n",
       " array([-4107511.51333607]),\n",
       " array([-4106495.80850621]),\n",
       " array([-4105520.33490178]),\n",
       " array([-4104565.28711929]),\n",
       " array([-4103634.24293556]),\n",
       " array([-4102733.56000226]),\n",
       " array([-4101855.01187121]),\n",
       " array([-4100998.61914878]),\n",
       " array([-4100161.47895587]),\n",
       " array([-4099352.47625596]),\n",
       " array([-4098563.28336661]),\n",
       " array([-4097788.38242914]),\n",
       " array([-4097035.42232614]),\n",
       " array([-4096307.73145498]),\n",
       " array([-4095592.78395258]),\n",
       " array([-4094899.36402536]),\n",
       " array([-4094217.09677314]),\n",
       " array([-4093556.04158297]),\n",
       " array([-4092910.97630469]),\n",
       " array([-4092280.49124315]),\n",
       " array([-4091664.45484129]),\n",
       " array([-4091066.9998536]),\n",
       " array([-4090479.47072659]),\n",
       " array([-4089909.75976299]),\n",
       " array([-4089352.68273442]),\n",
       " array([-4088808.57469352]),\n",
       " array([-4088276.92525974]),\n",
       " array([-4087756.96799069]),\n",
       " array([-4087248.49210737]),\n",
       " array([-4086751.41173452]),\n",
       " array([-4086267.65858564]),\n",
       " array([-4085796.63367258]),\n",
       " array([-4085329.28311799]),\n",
       " array([-4084876.95535302]),\n",
       " array([-4084434.78846358]),\n",
       " array([-4083999.23833759]),\n",
       " array([-4083575.25753222]),\n",
       " array([-4083157.17315753]),\n",
       " array([-4082753.04972239])]"
      ]
     },
     "execution_count": 59,
     "metadata": {},
     "output_type": "execute_result"
    }
   ],
   "source": [
    "modelfit_terms"
   ]
  },
  {
   "cell_type": "code",
   "execution_count": 95,
   "metadata": {
    "collapsed": false
   },
   "outputs": [
    {
     "data": {
      "text/plain": [
       "<matplotlib.lines.Line2D at 0x11495b190>"
      ]
     },
     "execution_count": 95,
     "metadata": {},
     "output_type": "execute_result"
    },
    {
     "data": {
      "image/png": "[encoded data removed]",
      "text/plain": [
       "<matplotlib.figure.Figure at 0x11495b050>"
      ]
     },
     "metadata": {},
     "output_type": "display_data"
    }
   ],
   "source": [
    "plt.plot(forty_samples, logLF_40)\n",
    "plt.title(\"-2loglF ouput, SMICA Planck map\")\n",
    "plt.ylabel(\"-2logLF\")\n",
    "plt.xlabel(\"Omega_CDM\")\n",
    "plt.axvline(x = 0.12029, color = 'r')"
   ]
  },
  {
   "cell_type": "code",
   "execution_count": 96,
   "metadata": {
    "collapsed": false
   },
   "outputs": [
    {
     "data": {
      "text/plain": [
       "<matplotlib.lines.Line2D at 0x114a86a10>"
      ]
     },
     "execution_count": 96,
     "metadata": {},
     "output_type": "execute_result"
    },
    {
     "data": {
      "image/png": "[encoded data removed]",
      "text/plain": [
       "<matplotlib.figure.Figure at 0x114a931d0>"
      ]
     },
     "metadata": {},
     "output_type": "display_data"
    }
   ],
   "source": [
    "plt.plot(forty_samples, modelfit_terms)\n",
    "plt.title(\"only model fit terms, SMICA Planck map\")\n",
    "plt.ylabel(\"-2logLF\")\n",
    "plt.xlabel(\"Omega_CDM\")\n",
    "plt.axvline(x = 0.12029, color = 'r')"
   ]
  },
  {
   "cell_type": "code",
   "execution_count": 97,
   "metadata": {
    "collapsed": false
   },
   "outputs": [
    {
     "data": {
      "text/plain": [
       "<matplotlib.lines.Line2D at 0x114bbc4d0>"
      ]
     },
     "execution_count": 97,
     "metadata": {},
     "output_type": "execute_result"
    },
    {
     "data": {
      "image/png": "[encoded data removed]",
      "text/plain": [
       "<matplotlib.figure.Figure at 0x114bbc450>"
      ]
     },
     "metadata": {},
     "output_type": "display_data"
    }
   ],
   "source": [
    "plt.plot(forty_samples, logdet_terms)\n",
    "plt.title(\"only logdetC, SMICA Planck map\")\n",
    "plt.ylabel(\"-2logLF\")\n",
    "plt.xlabel(\"Omega_CDM\")\n",
    "plt.axvline(x = 0.12029, color = 'r')"
   ]
  },
  {
   "cell_type": "code",
   "execution_count": 98,
   "metadata": {
    "collapsed": false
   },
   "outputs": [
    {
     "data": {
      "text/plain": [
       "<matplotlib.lines.Line2D at 0x114c6f990>"
      ]
     },
     "execution_count": 98,
     "metadata": {},
     "output_type": "execute_result"
    },
    {
     "data": {
      "image/png": "[encoded data removed]",
      "text/plain": [
       "<matplotlib.figure.Figure at 0x114c6fd50>"
      ]
     },
     "metadata": {},
     "output_type": "display_data"
    }
   ],
   "source": [
    "plt.plot(forty_samples, sqlogLF_40)\n",
    "plt.title(\"squared noise, -2logLF, SMICA Planck map\")\n",
    "plt.ylabel(\"-2logLF\")\n",
    "plt.xlabel(\"Omega_CDM\")\n",
    "plt.axvline(x = 0.12029, color = 'r')"
   ]
  },
  {
   "cell_type": "code",
   "execution_count": 94,
   "metadata": {
    "collapsed": false
   },
   "outputs": [
    {
     "data": {
      "text/plain": [
       "<matplotlib.lines.Line2D at 0x114832710>"
      ]
     },
     "execution_count": 94,
     "metadata": {},
     "output_type": "execute_result"
    },
    {
     "data": {
      "image/png": "[encoded data removed]",
      "text/plain": [
       "<matplotlib.figure.Figure at 0x114832910>"
      ]
     },
     "metadata": {},
     "output_type": "display_data"
    }
   ],
   "source": [
    "plt.plot(forty_samples, sqmodelfit_terms)\n",
    "plt.title(\"squared noise, model fit terms, SMICA Planck map\")\n",
    "plt.ylabel(\"-2logLF\")\n",
    "plt.xlabel(\"Omega_CDM\")\n",
    "plt.axvline(x = 0.12029, color = 'r')"
   ]
  },
  {
   "cell_type": "code",
   "execution_count": 93,
   "metadata": {
    "collapsed": false
   },
   "outputs": [
    {
     "data": {
      "text/plain": [
       "<matplotlib.lines.Line2D at 0x1146ecd10>"
      ]
     },
     "execution_count": 93,
     "metadata": {},
     "output_type": "execute_result"
    },
    {
     "data": {
      "image/png": "[encoded data removed]",
      "text/plain": [
       "<matplotlib.figure.Figure at 0x1146ece10>"
      ]
     },
     "metadata": {},
     "output_type": "display_data"
    }
   ],
   "source": [
    "plt.plot(forty_samples, sqlogdet_terms)\n",
    "plt.title(\"squared noise, logdet C terms, SMICA Planck map\")\n",
    "plt.ylabel(\"-2logLF\")\n",
    "plt.xlabel(\"Omega_CDM\")\n",
    "plt.axvline(x = 0.12029, color = 'r')"
   ]
  },
  {
   "cell_type": "code",
   "execution_count": 92,
   "metadata": {
    "collapsed": false
   },
   "outputs": [
    {
     "data": {
      "text/plain": [
       "<matplotlib.lines.Line2D at 0x114637e50>"
      ]
     },
     "execution_count": 92,
     "metadata": {},
     "output_type": "execute_result"
    },
    {
     "data": {
      "image/png": "[encoded data removed]",
      "text/plain": [
       "<matplotlib.figure.Figure at 0x114637fd0>"
      ]
     },
     "metadata": {},
     "output_type": "display_data"
    }
   ],
   "source": [
    "plt.plot(forty_samples, onlynoise_logLF)\n",
    "plt.title(\"Sij=0, -2logLF, SMICA Planck map\")\n",
    "plt.ylabel(\"-2logLF\")\n",
    "plt.xlabel(\"Omega_CDM\")\n",
    "plt.axvline(x = 0.12029, color = 'r')"
   ]
  },
  {
   "cell_type": "code",
   "execution_count": 91,
   "metadata": {
    "collapsed": false
   },
   "outputs": [
    {
     "data": {
      "text/plain": [
       "<matplotlib.lines.Line2D at 0x1143c2510>"
      ]
     },
     "execution_count": 91,
     "metadata": {},
     "output_type": "execute_result"
    },
    {
     "data": {
      "image/png": "[encoded data removed]",
      "text/plain": [
       "<matplotlib.figure.Figure at 0x1143c2890>"
      ]
     },
     "metadata": {},
     "output_type": "display_data"
    }
   ],
   "source": [
    "plt.plot(forty_samples, onlynoise_modelfits)\n",
    "plt.title(\"Sij=0, model fit terms, SMICA Planck map\")\n",
    "plt.ylabel(\"-2logLF\")\n",
    "plt.xlabel(\"Omega_CDM\")\n",
    "plt.axvline(x = 0.12029, color = 'r')"
   ]
  },
  {
   "cell_type": "code",
   "execution_count": 90,
   "metadata": {
    "collapsed": false
   },
   "outputs": [
    {
     "data": {
      "text/plain": [
       "<matplotlib.lines.Line2D at 0x1142df050>"
      ]
     },
     "execution_count": 90,
     "metadata": {},
     "output_type": "execute_result"
    },
    {
     "data": {
      "image/png": "[encoded data removed]",
      "text/plain": [
       "<matplotlib.figure.Figure at 0x1142df7d0>"
      ]
     },
     "metadata": {},
     "output_type": "display_data"
    }
   ],
   "source": [
    "plt.plot(forty_samples, onlynoise_logdet)\n",
    "plt.title(\"Sij=0, logdet C, SMICA Planck map\")\n",
    "plt.ylabel(\"-2logLF\")\n",
    "plt.xlabel(\"Omega_CDM\")\n",
    "plt.axvline(x = 0.12029, color = 'r')"
   ]
  },
  {
   "cell_type": "code",
   "execution_count": null,
   "metadata": {
    "collapsed": true
   },
   "outputs": [],
   "source": []
  },
  {
   "cell_type": "code",
   "execution_count": 89,
   "metadata": {
    "collapsed": false
   },
   "outputs": [
    {
     "data": {
      "text/plain": [
       "<matplotlib.lines.Line2D at 0x11422c390>"
      ]
     },
     "execution_count": 89,
     "metadata": {},
     "output_type": "execute_result"
    },
    {
     "data": {
      "image/png": "[encoded data removed]",
      "text/plain": [
       "<matplotlib.figure.Figure at 0x11422c290>"
      ]
     },
     "metadata": {},
     "output_type": "display_data"
    }
   ],
   "source": [
    "plt.plot(forty_samples, noise_logLF)\n",
    "plt.title(\"Nij=0, -2logLF, SMICA Planck map\")\n",
    "plt.ylabel(\"-2logLF\")\n",
    "plt.xlabel(\"Omega_CDM\")\n",
    "plt.axvline(x = 0.12029, color = 'r')"
   ]
  },
  {
   "cell_type": "code",
   "execution_count": 88,
   "metadata": {
    "collapsed": false
   },
   "outputs": [
    {
     "data": {
      "text/plain": [
       "<matplotlib.lines.Line2D at 0x1140fd4d0>"
      ]
     },
     "execution_count": 88,
     "metadata": {},
     "output_type": "execute_result"
    },
    {
     "data": {
      "image/png": "[encoded data removed]",
      "text/plain": [
       "<matplotlib.figure.Figure at 0x1140fd210>"
      ]
     },
     "metadata": {},
     "output_type": "display_data"
    }
   ],
   "source": [
    "plt.plot(forty_samples, noise_modelfits)\n",
    "plt.title(\"Nij=0, model fit terms, SMICA Planck map\")\n",
    "plt.ylabel(\"-2logLF\")\n",
    "plt.xlabel(\"Omega_CDM\")\n",
    "plt.axvline(x = 0.12029, color = 'r')"
   ]
  },
  {
   "cell_type": "code",
   "execution_count": 87,
   "metadata": {
    "collapsed": false
   },
   "outputs": [
    {
     "data": {
      "text/plain": [
       "<matplotlib.lines.Line2D at 0x113fcded0>"
      ]
     },
     "execution_count": 87,
     "metadata": {},
     "output_type": "execute_result"
    },
    {
     "data": {
      "image/png": "[encoded data removed]",
      "text/plain": [
       "<matplotlib.figure.Figure at 0x114060110>"
      ]
     },
     "metadata": {},
     "output_type": "display_data"
    }
   ],
   "source": [
    "plt.plot(forty_samples, noise_logdet)\n",
    "plt.title(\"Nij=0, logdet C, SMICA Planck map\")\n",
    "plt.ylabel(\"-2logLF\")\n",
    "plt.xlabel(\"Omega_CDM\")\n",
    "plt.axvline(x = 0.12029, color = 'r')"
   ]
  },
  {
   "cell_type": "code",
   "execution_count": 86,
   "metadata": {
    "collapsed": false
   },
   "outputs": [
    {
     "data": {
      "text/plain": [
       "array([ 0.075     ,  0.07732051,  0.07964103,  0.08196154,  0.08428205,\n",
       "        0.08660256,  0.08892308,  0.09124359,  0.0935641 ,  0.09588462,\n",
       "        0.09820513,  0.10052564,  0.10284615,  0.10516667,  0.10748718,\n",
       "        0.10980769,  0.11212821,  0.11444872,  0.11676923,  0.11908974,\n",
       "        0.12141026,  0.12373077,  0.12605128,  0.12837179,  0.13069231,\n",
       "        0.13301282,  0.13533333,  0.13765385,  0.13997436,  0.14229487,\n",
       "        0.14461538,  0.1469359 ,  0.14925641,  0.15157692,  0.15389744,\n",
       "        0.15621795,  0.15853846,  0.16085897,  0.16317949,  0.1655    ])"
      ]
     },
     "execution_count": 86,
     "metadata": {},
     "output_type": "execute_result"
    }
   ],
   "source": [
    "forty_samples"
   ]
  },
  {
   "cell_type": "code",
   "execution_count": null,
   "metadata": {
    "collapsed": true
   },
   "outputs": [],
   "source": []
  },
  {
   "cell_type": "code",
   "execution_count": null,
   "metadata": {
    "collapsed": true
   },
   "outputs": [],
   "source": []
  },
  {
   "cell_type": "code",
   "execution_count": null,
   "metadata": {
    "collapsed": true
   },
   "outputs": [],
   "source": []
  },
  {
   "cell_type": "code",
   "execution_count": null,
   "metadata": {
    "collapsed": true
   },
   "outputs": [],
   "source": []
  }
 ],
 "metadata": {
  "kernelspec": {
   "display_name": "Python 2",
   "language": "python",
   "name": "python2"
  },
  "language_info": {
   "codemirror_mode": {
    "name": "ipython",
    "version": 2
   },
   "file_extension": ".py",
   "mimetype": "text/x-python",
   "name": "python",
   "nbconvert_exporter": "python",
   "pygments_lexer": "ipython2",
   "version": "2.7.11"
  }
 },
 "nbformat": 4,
 "nbformat_minor": 0
}
