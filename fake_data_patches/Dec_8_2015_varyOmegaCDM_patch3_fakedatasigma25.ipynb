{
 "cells": [
  {
   "cell_type": "code",
   "execution_count": 1,
   "metadata": {
    "collapsed": true
   },
   "outputs": [],
   "source": [
    "%matplotlib inline\n"
   ]
  },
  {
   "cell_type": "code",
   "execution_count": 2,
   "metadata": {
    "collapsed": false
   },
   "outputs": [
    {
     "name": "stdout",
     "output_type": "stream",
     "text": [
      "768\n",
      "The total number of pixels is 3145728\n",
      "The maximum ell of the power spectrum C_l set to lmax = 2*nside 1024\n",
      "Healpix tells me total number of pixels npix is equal to 3145728\n",
      "NSIDE = 2048768\n",
      "The total number of pixels is 3145728\n",
      "The maximum ell of the power spectrum C_l set to lmax = 2*nside 1024\n",
      "Healpix tells me total number of pixels npix is equal to 3145728\n",
      "NSIDE = 2048\n",
      "ORDERING = NESTED in fits file\n",
      "Ordering converted to RING\n",
      "ORDERING = NESTED in fits file\n",
      "Ordering converted to RING\n",
      "CMB map, Noise map\n",
      "CMB map, Noise map\n",
      "NSIDE = 2048\n",
      "ORDERING = NESTED in fits file\n",
      "Ordering converted to RING\n",
      "NSIDE = 2048\n",
      "ORDERING = NESTED in fits file\n",
      "Ordering converted to RING\n",
      "[-149.29827881 -110.67951965  -97.61709595 -163.04072571 -176.72653198\n",
      " -120.62650299  -96.60706329  -85.72504425  -45.77533722  -81.54304504\n",
      " -138.88243103 -190.0241394  -198.08218384 -160.84889221 -103.28009033\n",
      "  -83.06707001  -81.32474518  -63.77209091  -14.57890129  -20.42744637]\n",
      "[-149.29827881 -110.67951965  -97.61709595 -163.04072571 -176.72653198\n",
      " -120.62650299  -96.60706329  -85.72504425  -45.77533722  -81.54304504\n",
      " -138.88243103 -190.0241394  -198.08218384 -160.84889221 -103.28009033\n",
      "  -83.06707001  -81.32474518  -63.77209091  -14.57890129  -20.42744637]\n",
      "[ -9.46955872 -18.9770813    4.07545471  -2.22019196   5.77149963\n",
      "  -4.3202858  -32.39636993  -4.47360992  12.77639008  11.26256943\n",
      "  13.93226242  -8.88911438  20.69018555  15.28821564   3.15649033\n",
      " -25.5931778  -23.94864082  12.71397209  22.85354424  -1.77952194]\n",
      "[ -1.55347087e+02  -6.99120010e+01  -1.67105378e+01  -1.41747673e+02\n",
      "  -1.48236466e+02  -7.43404467e+01  -6.92688653e+01  -4.39213580e+01\n",
      "   4.08769279e+01   1.28313720e-01  -3.78078317e+01  -1.72654424e+02\n",
      "  -5.52089704e+01  -7.23699434e+01  -5.21782598e+01  -6.63131703e+01\n",
      "  -6.64638903e+01  -8.75960823e+01  -1.34917786e+01  -2.94065932e+01]\n",
      "[ -9.46955872 -18.9770813    4.07545471  -2.22019196   5.77149963\n",
      "  -4.3202858  -32.39636993  -4.47360992  12.77639008  11.26256943\n",
      "  13.93226242  -8.88911438  20.69018555  15.28821564   3.15649033\n",
      " -25.5931778  -23.94864082  12.71397209  22.85354424  -1.77952194]\n",
      "[ -1.55347087e+02  -6.99120010e+01  -1.67105378e+01  -1.41747673e+02\n",
      "  -1.48236466e+02  -7.43404467e+01  -6.92688653e+01  -4.39213580e+01\n",
      "   4.08769279e+01   1.28313720e-01  -3.78078317e+01  -1.72654424e+02\n",
      "  -5.52089704e+01  -7.23699434e+01  -5.21782598e+01  -6.63131703e+01\n",
      "  -6.64638903e+01  -8.75960823e+01  -1.34917786e+01  -2.94065932e+01]\n",
      "[ 10.26340151  -4.2456615    2.85139173  12.22886217   7.96902156\n",
      "  10.57378757  -3.55501878   6.50660163   4.50673336 -11.06330222\n",
      "   0.69204187 -11.61016417  -2.35611764   5.14554012  18.56626385\n",
      "  -6.9778665  -10.47027302  -2.89633691   1.09779429   3.13967326]\n",
      "3145728\n",
      "3145728\n",
      "3145728\n",
      "(3145728,)\n",
      "768\n",
      "768\n",
      "[ 197.13106251  145.43990898  156.90945959  104.4102273   142.53444529\n",
      "  170.86083889  102.90736341  135.73611784  191.29680252  218.36973476\n",
      "   62.73745954  106.66435051  152.87459087  239.82903862  211.17898083\n",
      "   -4.41460153   49.50428286  126.03755713  201.27997303  208.92056561\n",
      "  184.38660431  -86.81240416  -28.40482717   46.48131257  124.48480701\n",
      "  144.46641493  164.79262924  154.26004219 -134.35840654  -32.16925643]\n",
      "[ -8.99367619   0.28109169  -2.96515441  -1.76370049   3.27548909\n",
      "   0.13937426  -2.9340862   -7.41833878   0.16448689  -0.12759924\n",
      "   0.47788197  -4.12307167   0.19859385   2.4307766    4.51490402\n",
      " -10.93819064  -4.36249346   3.79951596  -3.79144049  -8.77222157\n",
      "   3.24096727  -2.36502111   4.82807714  -6.41646916   4.48551607\n",
      "   7.61491716  -1.27481318  -2.10183764   4.08788204  -2.37571752]\n",
      "\n",
      "[ 10.26340151  -4.2456615    2.85139173  12.22886217   7.96902156\n",
      "  10.57378757  -3.55501878   6.50660163   4.50673336 -11.06330222\n",
      "   0.69204187 -11.61016417  -2.35611764   5.14554012  18.56626385\n",
      "  -6.9778665  -10.47027302  -2.89633691   1.09779429   3.13967326]\n",
      "3145728\n",
      "3145728\n",
      "3145728\n",
      "(3145728,)\n",
      "768\n",
      "768\n",
      "[ 197.13106251  145.43990898  156.90945959  104.4102273   142.53444529\n",
      "  170.86083889  102.90736341  135.73611784  191.29680252  218.36973476\n",
      "   62.73745954  106.66435051  152.87459087  239.82903862  211.17898083\n",
      "   -4.41460153   49.50428286  126.03755713  201.27997303  208.92056561\n",
      "  184.38660431  -86.81240416  -28.40482717   46.48131257  124.48480701\n",
      "  144.46641493  164.79262924  154.26004219 -134.35840654  -32.16925643]\n",
      "[ -8.99367619   0.28109169  -2.96515441  -1.76370049   3.27548909\n",
      "   0.13937426  -2.9340862   -7.41833878   0.16448689  -0.12759924\n",
      "   0.47788197  -4.12307167   0.19859385   2.4307766    4.51490402\n",
      " -10.93819064  -4.36249346   3.79951596  -3.79144049  -8.77222157\n",
      "   3.24096727  -2.36502111   4.82807714  -6.41646916   4.48551607\n",
      "   7.61491716  -1.27481318  -2.10183764   4.08788204  -2.37571752]\n"
     ]
    }
   ],
   "source": [
    "from __future__ import (division, print_function, absolute_import)\n",
    "\n",
    "\n",
    "# In[7]:\n",
    "\n",
    "import math\n",
    "import matplotlib.pyplot as plt \n",
    "import numpy as np\n",
    "import healpy as hp\n",
    "import pyfits as pf\n",
    "import astropy as ap\n",
    "import os\n",
    "from scipy.special import eval_legendre  ##special scipy function\n",
    "\n",
    "\n",
    "# In[8]:\n",
    "\n",
    "# http://docs.scipy.org/doc/scipy-0.16.0/reference/generated/scipy.io.readsav.html\n",
    "# http://www.astrobetter.com/blog/2009/11/24/read-idl-save-files-into-python/\n",
    "\n",
    "\n",
    "# In[4]:\n",
    "\n",
    "import scipy\n",
    "import scipy.io\n",
    "\n",
    "\n",
    "\n",
    "# In[6]:\n",
    "\n",
    "import os\n",
    "os.getcwd()\n",
    "os.chdir(\"/Users/evanbiederstedt/downloads\")\n",
    "\n",
    "\n",
    "\n",
    "\n",
    "\n",
    "# In[11]:\n",
    "\n",
    "# In[8]:\n",
    "\n",
    "patch_file = scipy.io.readsav('listpix_patch3.sav')\n",
    "\n",
    "\n",
    "# In[ ]:\n",
    "\n",
    "\n",
    "\n",
    "\n",
    "# In[9]:\n",
    "\n",
    "type(patch_file)\n",
    "\n",
    "\n",
    "# In[10]:\n",
    "\n",
    "arr3 = patch_file['listpix_patch3']\n",
    "#print(arr3)\n",
    "\n",
    "\n",
    "# In[11]:\n",
    "\n",
    "type(arr3)\n",
    "\n",
    "\n",
    "# In[12]:\n",
    "\n",
    "print(len(arr3)) # pixels total 12476\n",
    "\n",
    "\n",
    "# In[13]:\n",
    "\n",
    "smica_map = \"COM_CompMap_CMB-smica_2048_R1.20.fits\"\n",
    "\n",
    "\n",
    "# In[ ]:\n",
    "\n",
    "\n",
    "\n",
    "\n",
    "# In[14]:\n",
    "\n",
    "nside=512\n",
    "npix = 12*(nside**2) #total number of pixels, npix\n",
    "LMAX = ((2*nside)) #maximum l of the power spectrum C_l\n",
    "heal_npix = hp.nside2npix(nside) # Healpix calculated npix\n",
    "\n",
    "print(\"The total number of pixels is \" + str(npix))\n",
    "print(\"The maximum ell of the power spectrum C_l set to lmax = 2*nside \" +str(LMAX))\n",
    "print(\"Healpix tells me total number of pixels npix is equal to \" + str(heal_npix))\n",
    "\n",
    "\n",
    "# In[15]:\n",
    "\n",
    "mapread_smica = hp.read_map(smica_map, field=0)\n",
    "#hp.mollview(mapread_camb512)\n",
    "#hp.mollview(mapread_smica)\n",
    "print(\"CMB map, Noise map\")\n",
    "smica_noise = hp.read_map(smica_map, field=1)\n",
    "#hp.mollview(smica_noise)\n",
    "\n",
    "\n",
    "# In[16]:\n",
    "\n",
    "print(mapread_smica[:20])\n",
    "print(smica_noise[:20])\n",
    "\n",
    "\n",
    "# In[17]:\n",
    "\n",
    "smica512 = hp.pixelfunc.ud_grade(mapread_smica, 512)\n",
    "noise512 = hp.pixelfunc.ud_grade(smica_noise, 512)\n",
    "print(smica512[:20])\n",
    "print(noise512[:20])\n",
    "\n",
    "\n",
    "# In[18]:\n",
    "\n",
    "print(len(smica512))\n",
    "print(len(noise512))\n",
    "\n",
    "\n",
    "# In[ ]:\n",
    "\n",
    "\n",
    "\n",
    "\n",
    "# In[19]:\n",
    "\n",
    "# rename array for convenience\n",
    "tempval = smica512\n",
    "\n",
    "# Data:\n",
    "#     tempval      # the array of pixel values, (3145728,)\n",
    "\n",
    "\n",
    "# In[20]:\n",
    "\n",
    "print(len(tempval))\n",
    "print(tempval.shape)\n",
    "tempval[:10]\n",
    "\n",
    "\n",
    "# In[21]:\n",
    "\n",
    "#\n",
    "# We only wish to use the pixels defined in our patch\n",
    "# These pixel indices are listed in arr3 such that total number pixels total 12476\n",
    "#\n",
    "# arr3: this defines pixel indices within patch\n",
    "# \n",
    "# To access pixel indices within array of CMB pixels, just use tempval[arr3]\n",
    "#\n",
    "patch=smica512[arr3]\n",
    "noisepatch = noise512[arr3]\n",
    "\n",
    "\n",
    "# In[22]:\n",
    "\n",
    "print(len(patch))\n",
    "print(len(noisepatch))\n",
    "\n",
    "\n",
    "# In[23]:\n",
    "\n",
    "print(patch[:30])\n",
    "print(noisepatch[:30])\n",
    "\n",
    "\n",
    "# In[ ]:\n",
    "\n",
    "\n",
    "\n",
    "\n",
    "# In[12]:\n",
    "\n",
    "# For lmax = 1600, we must create an array of ell values, i.e. [0 1 2 3....1599 1600]\n",
    "ell = np.arange(1601)\n",
    "#print(ell)\n",
    "# \n",
    "# Subtract the monopole and dipole, l=0, l=1\n",
    "ellval = ell[2:]\n",
    "#print(ellval)\n",
    "\n",
    "\n",
    "# In[ ]:\n"
   ]
  },
  {
   "cell_type": "code",
   "execution_count": 3,
   "metadata": {
    "collapsed": false
   },
   "outputs": [
    {
     "name": "stdout",
     "output_type": "stream",
     "text": [
      "(550, 768, 768)\n",
      "(549, 768, 768)\n",
      "(500, 768, 768)\n",
      "(40, 1599)(550, 768, 768)\n",
      "(549, 768, 768)\n",
      "(500, 768, 768)\n",
      "(40, 1599)\n",
      "\n"
     ]
    }
   ],
   "source": [
    "\n",
    "# In[13]:\n",
    "\n",
    "PlM_50 = \"cl_varyCDMlmax1600ptPlMat50fakesigma25.npy\"\n",
    "PlM_100 = \"cl_varyCDMlmax1600ptPlMat100fakesigma25.npy\"\n",
    "PlM_150 = \"cl_varyCDMlmax1600ptPlMat150fakesigma25.npy\"\n",
    "\n",
    "# In[14]:\n",
    "\n",
    "data1 = np.load(PlM_50)\n",
    "data2 = np.load(PlM_100)\n",
    "data3 = np.load(PlM_150)\n",
    "\n",
    "\n",
    "# In[15]:\n",
    "\n",
    "print(data1.shape)\n",
    "print(data2.shape)\n",
    "print(data3.shape)\n",
    "\n",
    "\n",
    "# In[16]:\n",
    "\n",
    "type(data1)\n",
    "\n",
    "\n",
    "# In[ ]:\n",
    "\n",
    "ff = \"CAMB_cl_varyCDMlmax1600.npy\"\n",
    "\n",
    "cell_array = np.load(ff)\n",
    "\n",
    "print(cell_array.shape)\n"
   ]
  },
  {
   "cell_type": "code",
   "execution_count": 4,
   "metadata": {
    "collapsed": false
   },
   "outputs": [
    {
     "name": "stdout",
     "output_type": "stream",
     "text": [
      "1599\n",
      "(1599,)\n",
      "0.716197243914\n",
      "1599\n",
      "(1599,)\n",
      "0.716197243914\n"
     ]
    }
   ],
   "source": [
    "\n",
    "PlMat_total = np.concatenate((data1, data2, data3))\n",
    "\n",
    "\n",
    "# In[18]:\n",
    "\n",
    "PlMat_total.shape\n",
    "\n",
    "\n",
    "# In[ ]:\n",
    "\n",
    "\n",
    "\n",
    "\n",
    "# In[19]:\n",
    "\n",
    "PlMat = PlMat_total\n",
    "\n",
    "\n",
    "# In[20]:\n",
    "\n",
    "PlMat[2]\n",
    "\n",
    "\n",
    "# In[ ]:\n",
    "\n",
    "# Step 3: (2*l +1)/4pi from l=2 to l=lmax\n",
    "#          [5/4pi 7/4pi 9/4pi 11/4pi .... 65/4pi ]\n",
    "norm = ((2*ellval + 1))/(4*math.pi)\n",
    "print(len(ellval))\n",
    "print(norm.shape)\n",
    "print(norm[2])\n",
    "\n"
   ]
  },
  {
   "cell_type": "code",
   "execution_count": 5,
   "metadata": {
    "collapsed": false
   },
   "outputs": [
    {
     "name": "stdout",
     "output_type": "stream",
     "text": [
      "(1599, 768, 768)\n",
      "(1599, 768, 768)\n",
      "(1599, 768, 768)\n",
      "(1599, 768, 768)\n"
     ]
    }
   ],
   "source": [
    "\n",
    "# Step 4: multiply \n",
    "#         [5/4pi*P_2(M) + 7/4pi*P_3(M) +...... + 65/4pi*P_32(M)]\n",
    "#\n",
    "# multiply PlMat by (2*l+1)/4pi, i.e. norm\n",
    "norm_matrix = norm[:, None, None] * PlMat\n",
    "# [5/4pi * P_2(M)  7/4pi * P_3(M) ....   65/4pi * P_32(M)]\n",
    "\n",
    "\n",
    "# In[ ]:\n",
    "\n",
    "print(norm_matrix.shape)\n",
    "\n",
    "\n",
    "# In[ ]:\n",
    "\n",
    "print(PlMat.shape)\n",
    "\n",
    "\n",
    "# In[ ]:\n",
    "\n",
    "# Step 5: multiply by theoretical CAMB values, [C_2 C_3    C_31 C_32]\n",
    "#         [5/4pi**C_2* P_2(M) + 7/4pi*C_3* P_3(M) +...... + 65/4pi*C_32* P_32(M)]\n",
    "\n"
   ]
  },
  {
   "cell_type": "code",
   "execution_count": 6,
   "metadata": {
    "collapsed": false
   },
   "outputs": [
    {
     "name": "stdout",
     "output_type": "stream",
     "text": [
      "(1, 768)\n",
      "(768, 1)\n",
      "4825.486315913922(1, 768)\n",
      "(768, 1)\n",
      "4825.486315913922\n",
      "\n"
     ]
    }
   ],
   "source": [
    "\n",
    "# define pixel-value arrays\n",
    "mT = np.matrix(patch)     # mT.shape = (1, 3072)\n",
    "m = np.matrix(patch).T    # m.shape = (3072, 1)\n",
    "Npix2pi = (len(patch))*2*math.pi  # LF constant\n",
    "print(mT.shape)\n",
    "print(m.shape)\n",
    "print(Npix2pi)\n",
    "\n"
   ]
  },
  {
   "cell_type": "code",
   "execution_count": 7,
   "metadata": {
    "collapsed": true
   },
   "outputs": [],
   "source": [
    "tempp = patch\n",
    "noise = noisepatch"
   ]
  },
  {
   "cell_type": "code",
   "execution_count": 8,
   "metadata": {
    "collapsed": true
   },
   "outputs": [],
   "source": [
    "forty_samples = np.linspace(0.075, 0.1655, num=40)"
   ]
  },
  {
   "cell_type": "code",
   "execution_count": null,
   "metadata": {
    "collapsed": true
   },
   "outputs": [],
   "source": []
  },
  {
   "cell_type": "code",
   "execution_count": null,
   "metadata": {
    "collapsed": true
   },
   "outputs": [],
   "source": []
  },
  {
   "cell_type": "code",
   "execution_count": null,
   "metadata": {
    "collapsed": true
   },
   "outputs": [],
   "source": []
  },
  {
   "cell_type": "code",
   "execution_count": null,
   "metadata": {
    "collapsed": true
   },
   "outputs": [],
   "source": []
  },
  {
   "cell_type": "code",
   "execution_count": null,
   "metadata": {
    "collapsed": true
   },
   "outputs": [],
   "source": []
  },
  {
   "cell_type": "code",
   "execution_count": null,
   "metadata": {
    "collapsed": true
   },
   "outputs": [],
   "source": []
  },
  {
   "cell_type": "code",
   "execution_count": 9,
   "metadata": {
    "collapsed": false
   },
   "outputs": [
    {
     "name": "stdout",
     "output_type": "stream",
     "text": [
      "(1, 768)\n",
      "(768, 1)\n",
      "4825.486315913922\n",
      "(1, 768)\n",
      "(768, 1)\n",
      "4825.486315913922\n"
     ]
    }
   ],
   "source": [
    "\n",
    "# define pixel-value arrays\n",
    "mT = np.matrix(patch)     # mT.shape = (1, 3072)\n",
    "m = np.matrix(patch).T    # m.shape = (3072, 1)\n",
    "Npix2pi = (len(patch))*2*math.pi  # LF constant\n",
    "print(mT.shape)\n",
    "print(m.shape)\n",
    "print(Npix2pi)\n",
    "\n",
    "\n",
    "\n"
   ]
  },
  {
   "cell_type": "code",
   "execution_count": 10,
   "metadata": {
    "collapsed": true
   },
   "outputs": [],
   "source": [
    "\n",
    "# In[ ]:\n",
    "\n",
    "tempp = patch\n",
    "noise = noisepatch\n",
    "\n",
    "\n",
    "def LogLF(cell):\n",
    "    # norm_matrix is (2*l+1)/4pi * P_ell(Mat)\n",
    "    CellPellM = cell[:, None, None] * norm_matrix # elementwise (2*l+1)/4pi * C^th_ell * P_ell(Mat)\n",
    "    Sij =  np.sum(CellPellM, axis=0) # now one matrix\n",
    "    id_matrix = np.identity(len(tempp))\n",
    "    Nij = noise * id_matrix\n",
    "    Cij = Sij + Nij\n",
    "    model_fit_terms = np.array([np.dot(tempp.T , (np.linalg.solve(Cij, tempp)) )])\n",
    "    logdetC = np.linalg.slogdet(Cij)\n",
    "    return model_fit_terms + logdetC[1] + Npix2pi\n"
   ]
  },
  {
   "cell_type": "code",
   "execution_count": 11,
   "metadata": {
    "collapsed": true
   },
   "outputs": [],
   "source": [
    "\n",
    "def modelfit(cell):\n",
    "    # norm_matrix is (2*l+1)/4pi * P_ell(Mat)\n",
    "    CellPellM = cell[:, None, None] * norm_matrix # elementwise (2*l+1)/4pi * C^th_ell * P_ell(Mat)\n",
    "    Sij =  np.sum(CellPellM, axis=0) # now one matrix\n",
    "    id_matrix = np.identity(len(tempp))\n",
    "    Nij = noise * id_matrix\n",
    "    Cij = Sij + Nij\n",
    "    model_fit_terms = np.array([np.dot(tempp.T , (np.linalg.solve(Cij, tempp)) )])\n",
    "     #logdetC = np.linalg.slogdet(Cij)\n",
    "    return model_fit_terms\n"
   ]
  },
  {
   "cell_type": "code",
   "execution_count": 12,
   "metadata": {
    "collapsed": true
   },
   "outputs": [],
   "source": [
    "\n",
    "def logdet(cell):\n",
    "    # norm_matrix is (2*l+1)/4pi * P_ell(Mat)\n",
    "    CellPellM = cell[:, None, None] * norm_matrix # elementwise (2*l+1)/4pi * C^th_ell * P_ell(Mat)\n",
    "    Sij =  np.sum(CellPellM, axis=0) # now one matrix\n",
    "    id_matrix = np.identity(len(tempp))\n",
    "    Nij = noise * id_matrix\n",
    "    Cij = Sij + Nij\n",
    "    model_fit_terms = np.array([np.dot(tempp.T , (np.linalg.solve(Cij, tempp)) )])\n",
    "    logdetC = np.linalg.slogdet(Cij)\n",
    "    return logdetC[1] \n",
    "\n"
   ]
  },
  {
   "cell_type": "code",
   "execution_count": 13,
   "metadata": {
    "collapsed": true
   },
   "outputs": [],
   "source": [
    "\n",
    "def squaredLogLF(cell):\n",
    "    # norm_matrix is (2*l+1)/4pi * P_ell(Mat)\n",
    "    CellPellM = cell[:, None, None] * norm_matrix # elementwise (2*l+1)/4pi * C^th_ell * P_ell(Mat)\n",
    "    Sij =  np.sum(CellPellM, axis=0) # now one matrix\n",
    "    id_matrix = np.identity(len(tempp))\n",
    "    Nij = (noise**2) * id_matrix\n",
    "    Cij = Sij + Nij\n",
    "    model_fit_terms = np.array([np.dot(tempp.T , (np.linalg.solve(Cij, tempp)) )])\n",
    "    logdetC = np.linalg.slogdet(Cij)\n",
    "    return model_fit_terms + logdetC[1] + Npix2pi\n"
   ]
  },
  {
   "cell_type": "code",
   "execution_count": 14,
   "metadata": {
    "collapsed": true
   },
   "outputs": [],
   "source": [
    "\n",
    "def squared_modelfit(cell):\n",
    "    # norm_matrix is (2*l+1)/4pi * P_ell(Mat)\n",
    "    CellPellM = cell[:, None, None] * norm_matrix # elementwise (2*l+1)/4pi * C^th_ell * P_ell(Mat)\n",
    "    Sij =  np.sum(CellPellM, axis=0) # now one matrix\n",
    "    id_matrix = np.identity(len(tempp))\n",
    "    Nij = (noise**2) * id_matrix\n",
    "    Cij = Sij + Nij\n",
    "    model_fit_terms = np.array([np.dot(tempp.T , (np.linalg.solve(Cij, tempp)) )])\n",
    "    logdetC = np.linalg.slogdet(Cij)\n",
    "    return model_fit_terms\n"
   ]
  },
  {
   "cell_type": "code",
   "execution_count": 15,
   "metadata": {
    "collapsed": true
   },
   "outputs": [],
   "source": [
    "\n",
    "def squared_logdet(cell):\n",
    "    # norm_matrix is (2*l+1)/4pi * P_ell(Mat)\n",
    "    CellPellM = cell[:, None, None] * norm_matrix # elementwise (2*l+1)/4pi * C^th_ell * P_ell(Mat)\n",
    "    Sij =  np.sum(CellPellM, axis=0) # now one matrix\n",
    "    id_matrix = np.identity(len(tempp))\n",
    "    Nij = (noise**2) * id_matrix\n",
    "    Cij = Sij + Nij\n",
    "    model_fit_terms = np.array([np.dot(tempp.T , (np.linalg.solve(Cij, tempp)) )])\n",
    "    logdetC = np.linalg.slogdet(Cij)\n",
    "    return logdetC[1] \n",
    "\n"
   ]
  },
  {
   "cell_type": "code",
   "execution_count": null,
   "metadata": {
    "collapsed": true
   },
   "outputs": [],
   "source": []
  },
  {
   "cell_type": "code",
   "execution_count": null,
   "metadata": {
    "collapsed": true
   },
   "outputs": [],
   "source": []
  },
  {
   "cell_type": "code",
   "execution_count": 16,
   "metadata": {
    "collapsed": true
   },
   "outputs": [],
   "source": [
    "logLF_40 = [LogLF(cell_array[i]) for i in range(40)]\n",
    "\n",
    "\n"
   ]
  },
  {
   "cell_type": "code",
   "execution_count": 17,
   "metadata": {
    "collapsed": true
   },
   "outputs": [],
   "source": [
    "\n",
    "# In[ ]:\n",
    "\n",
    "modelfit_terms = [modelfit(cell_array[i])  for i in range(40)]\n",
    "\n",
    "\n",
    "\n"
   ]
  },
  {
   "cell_type": "code",
   "execution_count": 18,
   "metadata": {
    "collapsed": true
   },
   "outputs": [],
   "source": [
    "\n",
    "# In[ ]:\n",
    "\n",
    "logdet_terms = [logdet(cell_array[i]) for i in range(40)]\n",
    "\n"
   ]
  },
  {
   "cell_type": "code",
   "execution_count": 19,
   "metadata": {
    "collapsed": true
   },
   "outputs": [],
   "source": [
    "\n",
    "# In[ ]:\n",
    "\n",
    "sqlogLF_40 = [squaredLogLF(cell_array[i]) for i in range(40)]\n",
    "\n"
   ]
  },
  {
   "cell_type": "code",
   "execution_count": 20,
   "metadata": {
    "collapsed": true
   },
   "outputs": [],
   "source": [
    "\n",
    "# In[ ]:\n",
    "\n",
    "sqmodelfit_terms = [squared_modelfit(cell_array[i]) for i in range(40)]\n",
    "\n",
    "\n"
   ]
  },
  {
   "cell_type": "code",
   "execution_count": 21,
   "metadata": {
    "collapsed": true
   },
   "outputs": [],
   "source": [
    "# In[ ]:\n",
    "\n",
    "sqlogdet_terms = [squared_logdet(cell_array[i]) for i in range(40)]"
   ]
  },
  {
   "cell_type": "code",
   "execution_count": null,
   "metadata": {
    "collapsed": true
   },
   "outputs": [],
   "source": []
  },
  {
   "cell_type": "code",
   "execution_count": 22,
   "metadata": {
    "collapsed": false
   },
   "outputs": [
    {
     "data": {
      "text/plain": [
       "<matplotlib.lines.Line2D at 0x10d989320>"
      ]
     },
     "execution_count": 22,
     "metadata": {},
     "output_type": "execute_result"
    },
    {
     "data": {
      "text/plain": [
       "<matplotlib.lines.Line2D at 0x10d989320>"
      ]
     },
     "execution_count": 22,
     "metadata": {},
     "output_type": "execute_result"
    },
    {
     "data": {
      "image/png": "[encoded data removed]",
      "text/plain": [
       "<matplotlib.figure.Figure at 0x10f798668>"
      ]
     },
     "metadata": {},
     "output_type": "display_data"
    },
    {
     "data": {
      "image/png": "[encoded data removed]",
      "text/plain": [
       "<matplotlib.figure.Figure at 0x10f798668>"
      ]
     },
     "metadata": {},
     "output_type": "display_data"
    }
   ],
   "source": [
    "plt.plot(forty_samples, logLF_40)\n",
    "plt.title(\"-2loglF ouput, SMICA Planck map\")\n",
    "plt.ylabel(\"-2logLF\")\n",
    "plt.xlabel(\"Omega_CDM\")\n",
    "plt.axvline(x = 0.12029, color = 'r')\n",
    "\n",
    "\n",
    "# In[ ]:\n"
   ]
  },
  {
   "cell_type": "code",
   "execution_count": 23,
   "metadata": {
    "collapsed": false
   },
   "outputs": [
    {
     "data": {
      "text/plain": [
       "<matplotlib.lines.Line2D at 0x10e5ce3c8>"
      ]
     },
     "execution_count": 23,
     "metadata": {},
     "output_type": "execute_result"
    },
    {
     "data": {
      "text/plain": [
       "<matplotlib.lines.Line2D at 0x10e5ce3c8>"
      ]
     },
     "execution_count": 23,
     "metadata": {},
     "output_type": "execute_result"
    },
    {
     "data": {
      "image/png": "[encoded data removed]",
      "text/plain": [
       "<matplotlib.figure.Figure at 0x110d67908>"
      ]
     },
     "metadata": {},
     "output_type": "display_data"
    }
   ],
   "source": [
    "\n",
    "\n",
    "plt.plot(forty_samples, modelfit_terms)\n",
    "plt.title(\"only model fit terms, SMICA Planck map\")\n",
    "plt.ylabel(\"-2logLF\")\n",
    "plt.xlabel(\"Omega_CDM\")\n",
    "plt.axvline(x = 0.12029, color = 'r')\n",
    "\n"
   ]
  },
  {
   "cell_type": "code",
   "execution_count": 24,
   "metadata": {
    "collapsed": false
   },
   "outputs": [
    {
     "data": {
      "text/plain": [
       "<matplotlib.lines.Line2D at 0x1125c4be0>"
      ]
     },
     "execution_count": 24,
     "metadata": {},
     "output_type": "execute_result"
    },
    {
     "data": {
      "text/plain": [
       "<matplotlib.lines.Line2D at 0x1125c4be0>"
      ]
     },
     "execution_count": 24,
     "metadata": {},
     "output_type": "execute_result"
    },
    {
     "data": {
      "image/png": "[encoded data removed]",
      "text/plain": [
       "<matplotlib.figure.Figure at 0x10e5a50f0>"
      ]
     },
     "metadata": {},
     "output_type": "display_data"
    },
    {
     "data": {
      "image/png": "[encoded data removed]",
      "text/plain": [
       "<matplotlib.figure.Figure at 0x10e5a50f0>"
      ]
     },
     "metadata": {},
     "output_type": "display_data"
    }
   ],
   "source": [
    "\n",
    "# In[ ]:\n",
    "\n",
    "plt.plot(forty_samples, logdet_terms)\n",
    "plt.title(\"only logdetC, SMICA Planck map\")\n",
    "plt.ylabel(\"-2logLF\")\n",
    "plt.xlabel(\"Omega_CDM\")\n",
    "plt.axvline(x = 0.12029, color = 'r')\n"
   ]
  },
  {
   "cell_type": "code",
   "execution_count": 25,
   "metadata": {
    "collapsed": false
   },
   "outputs": [
    {
     "data": {
      "text/plain": [
       "<matplotlib.lines.Line2D at 0x112e33a20>"
      ]
     },
     "execution_count": 25,
     "metadata": {},
     "output_type": "execute_result"
    },
    {
     "data": {
      "image/png": "[encoded data removed]",
      "text/plain": [
       "<matplotlib.figure.Figure at 0x1124fdcf8>"
      ]
     },
     "metadata": {},
     "output_type": "display_data"
    },
    {
     "data": {
      "text/plain": [
       "<matplotlib.lines.Line2D at 0x112e33a20>"
      ]
     },
     "execution_count": 25,
     "metadata": {},
     "output_type": "execute_result"
    },
    {
     "data": {
      "image/png": "[encoded data removed]",
      "text/plain": [
       "<matplotlib.figure.Figure at 0x1124fdcf8>"
      ]
     },
     "metadata": {},
     "output_type": "display_data"
    }
   ],
   "source": [
    "\n",
    "\n",
    "# In[ ]:\n",
    "\n",
    "plt.plot(forty_samples, sqlogLF_40)\n",
    "plt.title(\"squared noise, -2logLF, SMICA Planck map\")\n",
    "plt.ylabel(\"-2logLF\")\n",
    "plt.xlabel(\"Omega_CDM\")\n",
    "plt.axvline(x = 0.12029, color = 'r')\n",
    "\n"
   ]
  },
  {
   "cell_type": "code",
   "execution_count": 26,
   "metadata": {
    "collapsed": false
   },
   "outputs": [
    {
     "data": {
      "text/plain": [
       "<matplotlib.lines.Line2D at 0x112f82390>"
      ]
     },
     "execution_count": 26,
     "metadata": {},
     "output_type": "execute_result"
    },
    {
     "data": {
      "image/png": "[encoded data removed]",
      "text/plain": [
       "<matplotlib.figure.Figure at 0x112e0e7b8>"
      ]
     },
     "metadata": {},
     "output_type": "display_data"
    },
    {
     "data": {
      "text/plain": [
       "<matplotlib.lines.Line2D at 0x112f82390>"
      ]
     },
     "execution_count": 26,
     "metadata": {},
     "output_type": "execute_result"
    },
    {
     "data": {
      "image/png": "[encoded data removed]",
      "text/plain": [
       "<matplotlib.figure.Figure at 0x112e0e7b8>"
      ]
     },
     "metadata": {},
     "output_type": "display_data"
    }
   ],
   "source": [
    "\n",
    "# In[ ]:\n",
    "\n",
    "plt.plot(forty_samples, sqmodelfit_terms)\n",
    "plt.title(\"squared noise, model fit terms, SMICA Planck map\")\n",
    "plt.ylabel(\"-2logLF\")\n",
    "plt.xlabel(\"Omega_CDM\")\n",
    "plt.axvline(x = 0.12029, color = 'r')\n",
    "\n",
    "\n",
    "# In[ ]:\n"
   ]
  },
  {
   "cell_type": "code",
   "execution_count": 27,
   "metadata": {
    "collapsed": false
   },
   "outputs": [
    {
     "data": {
      "text/plain": [
       "<matplotlib.lines.Line2D at 0x11305f1d0>"
      ]
     },
     "execution_count": 27,
     "metadata": {},
     "output_type": "execute_result"
    },
    {
     "data": {
      "image/png": "[encoded data removed]",
      "text/plain": [
       "<matplotlib.figure.Figure at 0x112fa1e48>"
      ]
     },
     "metadata": {},
     "output_type": "display_data"
    },
    {
     "data": {
      "text/plain": [
       "<matplotlib.lines.Line2D at 0x11305f1d0>"
      ]
     },
     "execution_count": 27,
     "metadata": {},
     "output_type": "execute_result"
    },
    {
     "data": {
      "image/png": "[encoded data removed]",
      "text/plain": [
       "<matplotlib.figure.Figure at 0x112fa1e48>"
      ]
     },
     "metadata": {},
     "output_type": "display_data"
    }
   ],
   "source": [
    "\n",
    "plt.plot(forty_samples, sqlogdet_terms)\n",
    "plt.title(\"squared noise, logdet C terms, SMICA Planck map\")\n",
    "plt.ylabel(\"-2logLF\")\n",
    "plt.xlabel(\"Omega_CDM\")\n",
    "plt.axvline(x = 0.12029, color = 'r')"
   ]
  },
  {
   "cell_type": "code",
   "execution_count": null,
   "metadata": {
    "collapsed": true
   },
   "outputs": [],
   "source": []
  },
  {
   "cell_type": "code",
   "execution_count": null,
   "metadata": {
    "collapsed": true
   },
   "outputs": [],
   "source": []
  },
  {
   "cell_type": "code",
   "execution_count": null,
   "metadata": {
    "collapsed": true
   },
   "outputs": [],
   "source": []
  },
  {
   "cell_type": "code",
   "execution_count": null,
   "metadata": {
    "collapsed": true
   },
   "outputs": [],
   "source": []
  },
  {
   "cell_type": "code",
   "execution_count": null,
   "metadata": {
    "collapsed": true
   },
   "outputs": [],
   "source": []
  },
  {
   "cell_type": "code",
   "execution_count": null,
   "metadata": {
    "collapsed": true
   },
   "outputs": [],
   "source": []
  },
  {
   "cell_type": "code",
   "execution_count": null,
   "metadata": {
    "collapsed": true
   },
   "outputs": [],
   "source": []
  }
 ],
 "metadata": {
  "kernelspec": {
   "display_name": "Python 3",
   "language": "python",
   "name": "python3"
  },
  "language_info": {
   "codemirror_mode": {
    "name": "ipython",
    "version": 3
   },
   "file_extension": ".py",
   "mimetype": "text/x-python",
   "name": "python",
   "nbconvert_exporter": "python",
   "pygments_lexer": "ipython3",
   "version": "3.4.3"
  }
 },
 "nbformat": 4,
 "nbformat_minor": 0
}
