{
 "cells": [
  {
   "cell_type": "code",
   "execution_count": 136,
   "metadata": {
    "collapsed": true
   },
   "outputs": [],
   "source": [
    "%matplotlib inline\n",
    "\n",
    "# We use CAMB generated scalar C_l values, N_side=4\n",
    "# and CAMB simulated maps associated with scalar C_l values above\n",
    "# N_side=4 gives N_pix=192"
   ]
  },
  {
   "cell_type": "code",
   "execution_count": 137,
   "metadata": {
    "collapsed": true
   },
   "outputs": [],
   "source": [
    "import math\n",
    "import matplotlib.pyplot as plt \n",
    "import numpy as np\n",
    "import healpy as hp\n",
    "import pyfits as pf\n",
    "import astropy as ap\n",
    "import os\n",
    "\n",
    "np.set_printoptions(threshold=1000)  # Default is threshold=1000\n",
    "## Use this to print all values, disables corner printing"
   ]
  },
  {
   "cell_type": "code",
   "execution_count": 138,
   "metadata": {
    "collapsed": false
   },
   "outputs": [
    {
     "name": "stdout",
     "output_type": "stream",
     "text": [
      "/Users/evanbiederstedt/Downloads\n"
     ]
    }
   ],
   "source": [
    "cd ~/downloads"
   ]
  },
  {
   "cell_type": "code",
   "execution_count": 139,
   "metadata": {
    "collapsed": true
   },
   "outputs": [],
   "source": [
    "file = \"camb_cls_nside4.fits\" # CAMB C_l scalars\n",
    "temp = \"camb_nside4.fits\" # CAMB simulated maps"
   ]
  },
  {
   "cell_type": "code",
   "execution_count": 140,
   "metadata": {
    "collapsed": false
   },
   "outputs": [],
   "source": [
    "# open a FITS file \n",
    "# type()=pyfits.hdu.hdulist.HDUList\n",
    "ff = pf.open(file)"
   ]
  },
  {
   "cell_type": "code",
   "execution_count": 141,
   "metadata": {
    "collapsed": false
   },
   "outputs": [],
   "source": [
    "### Recall there are four columns: temp, E pol, B pol, grad-temp cross terms\n",
    "## first two values are zero, i.e. monopole, dipole\n",
    "cls = ff[1].data  # actually second HDU, first is empty"
   ]
  },
  {
   "cell_type": "code",
   "execution_count": 142,
   "metadata": {
    "collapsed": false
   },
   "outputs": [],
   "source": [
    "# XXX.field() references columns by 0-index\n",
    "# field(0) is temperature values\n",
    "# all Cl scalar temp values put into ndarray\n",
    "# type()=numpy.ndarray\n",
    "# len(cltemp2) = 385 (lmax=2Npix)\n",
    "cltemp = cls.field(0) "
   ]
  },
  {
   "cell_type": "code",
   "execution_count": 143,
   "metadata": {
    "collapsed": false
   },
   "outputs": [],
   "source": [
    "# define ell values\n",
    "# array from 0 to lmax, the size of map\n",
    "ll = np.arange(385)\n"
   ]
  },
  {
   "cell_type": "code",
   "execution_count": 144,
   "metadata": {
    "collapsed": false
   },
   "outputs": [],
   "source": [
    "# P_0 is the monopole, P_1 is the dipole\n",
    "# remove 0, 1\n",
    "\n",
    "ll_nodipoles = np.delete(ll, [0,1]) #numpy.ndarray, [2,3,..,384,385], len()=385 \n"
   ]
  },
  {
   "cell_type": "code",
   "execution_count": 145,
   "metadata": {
    "collapsed": false
   },
   "outputs": [],
   "source": [
    "# First calculate the covariance matrix by the definition, i.e. \n",
    "# \n",
    "# C_ij = < \\delta T_i \\delta T_j > = 1/4pi \\sum^{N_pix} p = \n",
    "# ( T_i(p) - mean(T_i) ) * ( T_j(p) - mean(T_j) )\n",
    "#\n",
    "#\n",
    "# Larson, Weiland, Hinshaw, Bennett, \n",
    "# http://arxiv.org/pdf/1409.7718.pdf\n",
    "#"
   ]
  },
  {
   "cell_type": "code",
   "execution_count": 146,
   "metadata": {
    "collapsed": false
   },
   "outputs": [],
   "source": [
    "tempmap = hp.mrdfits(\"camb_nside4.fits\") #type() = list\n"
   ]
  },
  {
   "cell_type": "code",
   "execution_count": 147,
   "metadata": {
    "collapsed": false
   },
   "outputs": [],
   "source": [
    "tempdata = tempmap[0] #len()=192, type()=numpy.ndarray\n"
   ]
  },
  {
   "cell_type": "code",
   "execution_count": 148,
   "metadata": {
    "collapsed": false
   },
   "outputs": [],
   "source": [
    "# First calculate the mean\n",
    "#\n",
    "# numpy.mean\n",
    "#\n",
    "# numpy.mean(a, axis=None, dtype=None, out=None, keepdims=False)\n",
    "# Compute the arithmetic mean along the specified axis.\n",
    "\n",
    "\n",
    "# Use either mean1 = np.mean(tempdata1) or mean1 = np.average(tempdata1)"
   ]
  },
  {
   "cell_type": "code",
   "execution_count": 149,
   "metadata": {
    "collapsed": false
   },
   "outputs": [],
   "source": [
    "mean = np.average(tempdata) "
   ]
  },
  {
   "cell_type": "code",
   "execution_count": 150,
   "metadata": {
    "collapsed": false
   },
   "outputs": [],
   "source": [
    "Tpi = (tempdata - mean) #type()=numpy.ndarray\n"
   ]
  },
  {
   "cell_type": "code",
   "execution_count": 151,
   "metadata": {
    "collapsed": false
   },
   "outputs": [],
   "source": [
    "Tpimatrix = np.matrix(Tpi) #Tpimatrix.shape = (1, 192)\n"
   ]
  },
  {
   "cell_type": "code",
   "execution_count": 152,
   "metadata": {
    "collapsed": false
   },
   "outputs": [],
   "source": [
    "transpose = Tpimatrix.T #shape = (192, 1)\n"
   ]
  },
  {
   "cell_type": "code",
   "execution_count": 153,
   "metadata": {
    "collapsed": false
   },
   "outputs": [
    {
     "name": "stdout",
     "output_type": "stream",
     "text": [
      "This is the temperature pixel-pixel covariance matrix, equation (1)\n",
      "C_{ij} = <\\Delta T_i \\Delta T_j >\n",
      "Matrix shape 192 by 192\n",
      "[[  3.06734880e-11  -3.68033468e-11  -7.20815513e-11 ...,   1.13176513e-10\n",
      "    2.51706646e-11   6.09150876e-11]\n",
      " [ -3.68033468e-11   4.41582116e-11   8.64864910e-11 ...,  -1.35793968e-10\n",
      "   -3.02008267e-11  -7.30884972e-11]\n",
      " [ -7.20815513e-11   8.64864910e-11   1.69388956e-10 ...,  -2.65960580e-10\n",
      "   -5.91501227e-11  -1.43148179e-10]\n",
      " ..., \n",
      " [  1.13176513e-10  -1.35793968e-10  -2.65960580e-10 ...,   4.17589407e-10\n",
      "    9.28726561e-11   2.24759480e-10]\n",
      " [  2.51706646e-11  -3.02008267e-11  -5.91501227e-11 ...,   9.28726561e-11\n",
      "    2.06550478e-11   4.99869226e-11]\n",
      " [  6.09150876e-11  -7.30884972e-11  -1.43148179e-10 ...,   2.24759480e-10\n",
      "    4.99869226e-11   1.20972486e-10]]\n",
      "**************\n",
      "**************\n"
     ]
    }
   ],
   "source": [
    "print \"This is the temperature pixel-pixel covariance matrix, equation (1)\"\n",
    "print \"C_{ij} = <\\Delta T_i \\Delta T_j >\"\n",
    "print \"Matrix shape 192 by 192\"\n",
    "cov = (1/(4*math.pi)) * ( transpose * Tpimatrix ) #covariance matrix, shape (192, 192)\n",
    "\n",
    "print cov\n",
    "\n",
    "print \"**************\"\n",
    "print \"**************\""
   ]
  },
  {
   "cell_type": "code",
   "execution_count": 154,
   "metadata": {
    "collapsed": false
   },
   "outputs": [],
   "source": [
    "### Begin calculating S_ij piece by piece, in order to do the summation correctly \n",
    "#\n",
    "# S_ij = sum(2ell+1) C_l P_l(dotproductmatrix)"
   ]
  },
  {
   "cell_type": "code",
   "execution_count": 155,
   "metadata": {
    "collapsed": false
   },
   "outputs": [],
   "source": [
    "ell = np.arange(192)"
   ]
  },
  {
   "cell_type": "code",
   "execution_count": 156,
   "metadata": {
    "collapsed": false
   },
   "outputs": [],
   "source": [
    "## will give three arrays\n",
    "## arrays of all x values, all y values, all z values\n",
    "## RING scheme default\n",
    "# len()=3\n",
    "# type()=tuple\n",
    "vecval = hp.pix2vec(4, ell) #Nside = 4, type()=tuple\n"
   ]
  },
  {
   "cell_type": "code",
   "execution_count": 157,
   "metadata": {
    "collapsed": false
   },
   "outputs": [],
   "source": [
    "vecvalx = vecval[0] #shape (192,)\n",
    "vecvaly = vecval[1]\n",
    "vecvalz = vecval[2]\n",
    "\n"
   ]
  },
  {
   "cell_type": "code",
   "execution_count": 158,
   "metadata": {
    "collapsed": false
   },
   "outputs": [],
   "source": [
    "## First arrange arrays vertically\n",
    "## numpy.vstack = Stack arrays in sequence vertically (row wise), input sequence of arrays\n",
    "\n",
    "totalvecval = np.vstack((vecvalx, vecvaly, vecvalz)) #type()=numpy.ndarray"
   ]
  },
  {
   "cell_type": "code",
   "execution_count": 159,
   "metadata": {
    "collapsed": false
   },
   "outputs": [],
   "source": [
    "trans = totalvecval.T #transpose\n"
   ]
  },
  {
   "cell_type": "code",
   "execution_count": 160,
   "metadata": {
    "collapsed": false
   },
   "outputs": [],
   "source": [
    "dotproductmatrix = trans.dot(totalvecval) #take the dot product"
   ]
  },
  {
   "cell_type": "code",
   "execution_count": 161,
   "metadata": {
    "collapsed": false
   },
   "outputs": [],
   "source": [
    "## We set C_l scalar TT values to lmax=2Npix\n",
    "## Fix this by simply deleting high C_l values\n",
    "# print np.arange(193,384)\n",
    "\n",
    "## our indices to remove, arr\n",
    "\n",
    "arr = np.arange(193,384) #numpy.ndarray such that [193,,...383, 384]\n"
   ]
  },
  {
   "cell_type": "code",
   "execution_count": 162,
   "metadata": {
    "collapsed": false
   },
   "outputs": [],
   "source": [
    "# We screwed up above. Write lmax = Npix. Remove excess C_l values. \n",
    "\n",
    "# [x for i,x in enumerate(a) if i not in ind2remove]\n",
    "\n",
    "# enumerate() is a build-in python function\n",
    "\n",
    "# clscalar = np.delete(cltemp, [192:384])\n",
    "\n",
    "\n",
    "newcls = [ x for i,x in enumerate(cltemp) if i not in arr]\n"
   ]
  },
  {
   "cell_type": "code",
   "execution_count": 163,
   "metadata": {
    "collapsed": false
   },
   "outputs": [],
   "source": [
    "from scipy.special import eval_legendre  ##special scipy function"
   ]
  },
  {
   "cell_type": "code",
   "execution_count": 164,
   "metadata": {
    "collapsed": false
   },
   "outputs": [],
   "source": [
    "## Begin calculating S_ij piece by piece, in order to do the summation correctly. \n",
    "#\n",
    "# S_ij = sum(2ell+1) C_l P_l(dotproductmatrix)\n",
    "\n",
    "# NOT QUICK!\n",
    "\n",
    "summatrix = sum( [eval_legendre(i, dotproductmatrix) for i in ell])\n",
    "\n",
    "\n"
   ]
  },
  {
   "cell_type": "code",
   "execution_count": 165,
   "metadata": {
    "collapsed": false
   },
   "outputs": [],
   "source": [
    "# matrix_total = \n",
    "# (1/(4*math.pi)) * sum((2 * ll + 1) * cltemp ) * eval_legendre(ll, matrix_dotprod)\n",
    "#\n",
    "# Begin with adding theoretical scalar C_l values\n",
    "#\n",
    "add_clvalues = sum([ i * summatrix for i in newcls ])\n"
   ]
  },
  {
   "cell_type": "code",
   "execution_count": 166,
   "metadata": {
    "collapsed": false
   },
   "outputs": [],
   "source": [
    "# matrix_total = \n",
    "# (1/(4*math.pi)) * np.sum((2*ll + 1) * cltemp ) * eval_legendre(ll, matrix_dotprod)\n",
    "\n",
    "wholematrix = sum([((2 * i) + 1) * add_clvalues for i in newcls ])\n",
    "\n"
   ]
  },
  {
   "cell_type": "code",
   "execution_count": 167,
   "metadata": {
    "collapsed": false
   },
   "outputs": [],
   "source": [
    "\n",
    "covmatrix = (1/(4 * math.pi)) * wholematrix #covariance matrix for Nside=4\n",
    "\n"
   ]
  },
  {
   "cell_type": "code",
   "execution_count": 168,
   "metadata": {
    "collapsed": false
   },
   "outputs": [
    {
     "name": "stdout",
     "output_type": "stream",
     "text": [
      "covmatrix matrix S_ij\n",
      "covmatrix.shape = (192, 192), covmatrix2.size = 36864\n",
      "[[  1.03748076e-05   1.69843904e-07   1.41874499e-07 ...,   2.85508893e-08\n",
      "   -9.95857363e-22   2.85508893e-08]\n",
      " [  1.69843904e-07   1.03748076e-05   1.69843904e-07 ...,   2.93369919e-08\n",
      "    2.85508893e-08  -9.95857363e-22]\n",
      " [  1.41874499e-07   1.69843904e-07   1.03748076e-05 ...,   2.85508893e-08\n",
      "    2.93369919e-08   2.85508893e-08]\n",
      " ..., \n",
      " [  2.85508893e-08   2.93369919e-08   2.85508893e-08 ...,   1.03748076e-05\n",
      "    1.69843904e-07   1.41874499e-07]\n",
      " [ -9.95857363e-22   2.85508893e-08   2.93369919e-08 ...,   1.69843904e-07\n",
      "    1.03748076e-05   1.69843904e-07]\n",
      " [  2.85508893e-08  -9.95857363e-22   2.85508893e-08 ...,   1.41874499e-07\n",
      "    1.69843904e-07   1.03748076e-05]]\n",
      "**************\n",
      "**************\n"
     ]
    }
   ],
   "source": [
    "print \"covmatrix matrix S_ij\"\n",
    "print \"covmatrix.shape = (192, 192), covmatrix2.size = 36864\"\n",
    "\n",
    "print covmatrix\n",
    "\n",
    "print \"**************\"\n",
    "print \"**************\""
   ]
  },
  {
   "cell_type": "code",
   "execution_count": 169,
   "metadata": {
    "collapsed": false
   },
   "outputs": [
    {
     "data": {
      "text/plain": [
       "array([0, 1, 2, 3])"
      ]
     },
     "execution_count": 169,
     "metadata": {},
     "output_type": "execute_result"
    }
   ],
   "source": [
    "### We now wish to calculate SUM(2ell+1)C_l\n",
    "### We do this two ways: we first calculate using scalar C_l values\n",
    "### We then take map data, use healpy.sphtfunc.anafast\n",
    "### healpy.sphtfunc.anafast(map1, map2=None, nspec=None, lmax=None, \n",
    "### mmax=None, iter=3, alm=False, pol=True, use_weights=False, datapath=None)\n",
    "### returns cl or a list of cl’s (TT, EE, BB, TE, EB, TB for polarized input map) \n",
    "### Here, only TT cl\n",
    "ell[0:4]"
   ]
  },
  {
   "cell_type": "code",
   "execution_count": 170,
   "metadata": {
    "collapsed": false
   },
   "outputs": [
    {
     "data": {
      "text/plain": [
       "array([  1.26392075e-09,   5.88275040e-10,   3.28673144e-10,\n",
       "         2.06575299e-10], dtype=float32)"
      ]
     },
     "execution_count": 170,
     "metadata": {},
     "output_type": "execute_result"
    }
   ],
   "source": [
    "# len(newcls) = 194\n",
    "# len(ell) = 192\n",
    "# ell[0:4] = array([0, 1, 2, 3])\n",
    "# newcls[0:4] = [0.0, 0.0, 1.2639207e-09, 5.8827504e-10]\n",
    "# monopole, dipole---both zero values\n",
    "## Therefore, reshape by removing monopole term\n",
    "# ell[0:4] = array([0, 1, 2, 3])\n",
    "\n",
    "newnewcls = np.delete(newcls, [0,1])\n",
    "# len(newnewcls) = 192\n",
    "newnewcls[0:4]\n",
    "# newnewcls[0:4] = array([  1.26392075e-09,   5.88275040e-10,   3.28673144e-10,\n",
    "#                          2.06575299e-10], dtype=float32)"
   ]
  },
  {
   "cell_type": "code",
   "execution_count": 171,
   "metadata": {
    "collapsed": false
   },
   "outputs": [],
   "source": [
    "clsvalmatrix = np.matrix(newnewcls) # clsvalmatrix.shape = (1, 192)\n",
    "ellmatrix = np.matrix(ell) # ellmatrix.shape = (1,192)\n",
    "# ellmatrix.T.shape = (192, 1)"
   ]
  },
  {
   "cell_type": "code",
   "execution_count": 172,
   "metadata": {
    "collapsed": false
   },
   "outputs": [],
   "source": [
    "## Begin with C_l scalar values and simply sum\n",
    "# spherharmcov = sum([((2 * i) + 1) * newcls for i in ell ])\n",
    "#\n",
    "### for i in ellmatrix.T:\n",
    "###    spherharmcov = ((2 * i) + 1) * clsvalmatrix\n"
   ]
  },
  {
   "cell_type": "code",
   "execution_count": 173,
   "metadata": {
    "collapsed": false
   },
   "outputs": [],
   "source": [
    "for i in clsvalmatrix: #clsvalmatrix.shape = (1, 192)\n",
    "    harmcov = ((2*ellmatrix.T + 1)) * i #ellmatrix.T.shape = (192, 1)"
   ]
  },
  {
   "cell_type": "code",
   "execution_count": 174,
   "metadata": {
    "collapsed": false
   },
   "outputs": [
    {
     "name": "stdout",
     "output_type": "stream",
     "text": [
      "Covariance matrix from generate scalar C_l values\n",
      "Summing (2l+1)C_l, beginning with l=0\n",
      "Unclear to me whether should use l=0,1,2 or l=1,2,3\n",
      "[[  1.26392075e-09   5.88275040e-10   3.28673144e-10 ...,   9.69786534e-13\n",
      "    9.62667229e-13   6.93840466e-14]\n",
      " [  3.79176224e-09   1.76482512e-09   9.86019433e-10 ...,   2.90935960e-12\n",
      "    2.88800169e-12   2.08152140e-13]\n",
      " [  6.31960373e-09   2.94137520e-09   1.64336572e-09 ...,   4.84893267e-12\n",
      "    4.81333614e-12   3.46920233e-13]\n",
      " ..., \n",
      " [  4.79025963e-07   2.22956240e-07   1.24567122e-07 ...,   3.67549096e-10\n",
      "    3.64850880e-10   2.62965537e-11]\n",
      " [  4.81553804e-07   2.24132790e-07   1.25224468e-07 ...,   3.69488669e-10\n",
      "    3.66776214e-10   2.64353217e-11]\n",
      " [  4.84081646e-07   2.25309340e-07   1.25881814e-07 ...,   3.71428243e-10\n",
      "    3.68701549e-10   2.65740898e-11]]\n",
      "**************\n",
      "**************\n"
     ]
    }
   ],
   "source": [
    "print \"Covariance matrix from generate scalar C_l values\"\n",
    "print \"Summing (2l+1)C_l, beginning with l=0\"\n",
    "print \"Unclear to me whether should use l=0,1,2 or l=1,2,3\"\n",
    "\n",
    "print harmcov\n",
    "\n",
    "print \"**************\"\n",
    "print \"**************\""
   ]
  },
  {
   "cell_type": "code",
   "execution_count": 175,
   "metadata": {
    "collapsed": false
   },
   "outputs": [],
   "source": [
    "## Now using CAMB temperature map\n",
    "# Generate C_l values from map with anafast\n",
    "# Repeat above procedure\n",
    "### UNDER CONSTRUCTION"
   ]
  },
  {
   "cell_type": "code",
   "execution_count": 176,
   "metadata": {
    "collapsed": false
   },
   "outputs": [],
   "source": [
    "ell_193 = np.arange(193)"
   ]
  },
  {
   "cell_type": "code",
   "execution_count": 177,
   "metadata": {
    "collapsed": false
   },
   "outputs": [],
   "source": [
    "newells = np.delete(ell_193, [0])\n",
    "# print newells = [ 1 2 ..... 191 192]\n",
    "newellmatrix = np.matrix(newells)"
   ]
  },
  {
   "cell_type": "code",
   "execution_count": 178,
   "metadata": {
    "collapsed": false
   },
   "outputs": [],
   "source": [
    "for i in clsvalmatrix: #clsvalmatrix.shape = (1, 192)\n",
    "    harmcovLone = ((2*newellmatrix.T + 1)) * i #ellmatrix.T.shape = (192, 1)"
   ]
  },
  {
   "cell_type": "code",
   "execution_count": 179,
   "metadata": {
    "collapsed": false
   },
   "outputs": [
    {
     "name": "stdout",
     "output_type": "stream",
     "text": [
      "Covariance matrix from generate scalar C_l values\n",
      "Summing (2l+1)C_l, beginning with l=1\n",
      "[[  3.79176224e-09   1.76482512e-09   9.86019433e-10 ...,   2.90935960e-12\n",
      "    2.88800169e-12   2.08152140e-13]\n",
      " [  6.31960373e-09   2.94137520e-09   1.64336572e-09 ...,   4.84893267e-12\n",
      "    4.81333614e-12   3.46920233e-13]\n",
      " [  8.84744522e-09   4.11792528e-09   2.30071201e-09 ...,   6.78850574e-12\n",
      "    6.73867060e-12   4.85688326e-13]\n",
      " ..., \n",
      " [  4.81553804e-07   2.24132790e-07   1.25224468e-07 ...,   3.69488669e-10\n",
      "    3.66776214e-10   2.64353217e-11]\n",
      " [  4.84081646e-07   2.25309340e-07   1.25881814e-07 ...,   3.71428243e-10\n",
      "    3.68701549e-10   2.65740898e-11]\n",
      " [  4.86609487e-07   2.26485890e-07   1.26539161e-07 ...,   3.73367816e-10\n",
      "    3.70626883e-10   2.67128579e-11]]\n",
      "**************\n",
      "**************\n"
     ]
    }
   ],
   "source": [
    "print \"Covariance matrix from generate scalar C_l values\"\n",
    "print \"Summing (2l+1)C_l, beginning with l=1\"\n",
    "\n",
    "print harmcovLone\n",
    "\n",
    "print \"**************\"\n",
    "print \"**************\""
   ]
  },
  {
   "cell_type": "code",
   "execution_count": 180,
   "metadata": {
    "collapsed": true
   },
   "outputs": [],
   "source": [
    "# We now compute likelihood functions\n",
    "#\n",
    "# For equations, refer to Nside4_covariance_likelihood.tex\n",
    "# \"Nside = 4: Covariance and likelihood\"\n",
    "#\n"
   ]
  },
  {
   "cell_type": "code",
   "execution_count": 181,
   "metadata": {
    "collapsed": false
   },
   "outputs": [
    {
     "name": "stdout",
     "output_type": "stream",
     "text": [
      "Sigma is 0.000000 arcmin (0.000000 rad) \n",
      "-> fwhm is 0.000000 arcmin\n"
     ]
    }
   ],
   "source": [
    "# map generated from scalar C_l \n",
    "map = hp.synfast(newcls, 4)\n",
    "# len(map) = 192\n",
    "### healpy.sphtfunc.synfast(cls, nside, lmax=None, mmax=None, alm=False, pol=True, \n",
    "###                         pixwin=False, fwhm=0.0, sigma=None, new=False, verbose=True)\n",
    "# INPUT cls, nside\n",
    "# OUTPUT sky maps\n"
   ]
  },
  {
   "cell_type": "code",
   "execution_count": 182,
   "metadata": {
    "collapsed": false
   },
   "outputs": [],
   "source": [
    "powerspectrum = hp.anafast(map) # create powerspectrum \\hat{C}_l\n",
    "# len(powerspectrum) = 12"
   ]
  },
  {
   "cell_type": "code",
   "execution_count": 183,
   "metadata": {
    "collapsed": false
   },
   "outputs": [
    {
     "name": "stdout",
     "output_type": "stream",
     "text": [
      "HEALPix anafast \\hat(C)_l estimator, len()=12\n",
      "[  5.75068189e-17   5.54838742e-16   1.34695097e-09   6.83582401e-10\n",
      "   2.08108768e-10   8.19951639e-11   1.91739781e-10   1.34721906e-10\n",
      "   6.79500970e-11   4.17186230e-11   4.45289395e-11   4.40019019e-11]\n",
      "Difficult to see how to compute spherical harmonic likelihood with CAMB generate maps\n",
      "Estimator from HEALPix is len()=12, theoretical C_l is 192\n",
      "Test with simulated Planck data GOVA\n",
      "**************\n",
      "**************\n"
     ]
    }
   ],
   "source": [
    "print \"HEALPix anafast \\hat(C)_l estimator, len()=12\"\n",
    "\n",
    "print powerspectrum\n",
    "\n",
    "print \"Difficult to see how to compute spherical harmonic likelihood with CAMB generate maps\"\n",
    "print \"Estimator from HEALPix is len()=12, theoretical C_l is 192\"\n",
    "print \"Test with simulated Planck data GOVA\"\n",
    "\n",
    "print \"**************\"\n",
    "print \"**************\""
   ]
  },
  {
   "cell_type": "code",
   "execution_count": 184,
   "metadata": {
    "collapsed": true
   },
   "outputs": [],
   "source": [
    "# Compute temperature space (real space) likelihood\n",
    "#\n",
    "# where T is a temperature map array (3072,), S is our above matrix = entirething, \n",
    "# and N is the number of pixels in a vector\n",
    "#\n",
    "# First Year Wilkinson Microwave Anisotropy Probe (WMAP) Observations: \n",
    "# Parameter Estimation Methodology L. Verde, et al., 2003, ApJS, 148, 195\n",
    "#\n",
    "# http://lambda.gsfc.nasa.gov/product/map/dr1/\n",
    "# pub_papers/firstyear/methodology/wmap_param_method.pdf\n",
    "#\n",
    "# print \"−2 ln L \\propto T*S^{-1}*T + ln detS + N ln 2\\pi\""
   ]
  },
  {
   "cell_type": "code",
   "execution_count": 185,
   "metadata": {
    "collapsed": false
   },
   "outputs": [],
   "source": [
    "tempvalues = np.matrix(tempdata) #create matrix of temperature values from CAMB map\n",
    "# tempvalues.shape = (1, 192)"
   ]
  },
  {
   "cell_type": "code",
   "execution_count": 186,
   "metadata": {
    "collapsed": false
   },
   "outputs": [],
   "source": [
    "temptranpose = tempvalues.T\n",
    "# temptranpose.shape = (192, 1)"
   ]
  },
  {
   "cell_type": "code",
   "execution_count": 187,
   "metadata": {
    "collapsed": false
   },
   "outputs": [],
   "source": [
    "## Invert covariance matrix, S_ij\n",
    "## numpy.linalg.inv(a)\n",
    "## Compute the (multiplicative) inverse of a matrix.\n",
    "## Given a square matrix a, return the matrix ainv satisfying \n",
    "## dot(a, ainv) = dot(ainv, a) = eye(a.shape[0]).\n",
    "##\n",
    "\n",
    "inverse = np.linalg.inv(covmatrix)\n",
    "inversematrix = np.matrix(inverse) # S^{-1}\n",
    "# inverse.shape = (192, 192)"
   ]
  },
  {
   "cell_type": "code",
   "execution_count": 188,
   "metadata": {
    "collapsed": false
   },
   "outputs": [],
   "source": [
    "# WARNING: DO NOT USE NP.LIGALG.DET(A)! \n",
    "# Operatioin will not succeed, gives inf or zero\n",
    "#\n",
    "#\n",
    "#\n",
    "# numpy.linalg.slogdet\n",
    "# numpy.linalg.slogdet(a)[source]\n",
    "# Compute the sign and (natural) logarithm of the determinant of an array.\n",
    "# INPUT array\n",
    "# OUTPUT (sign, ln det a)\n",
    "# sign = A number representing the sign of the determinant. \n",
    "# For a real matrix, this is 1, 0, or -1. \n",
    "# For a complex matrix, this is a complex number with absolute value 1 (i.e., it is on the unit circle), or else 0.\n",
    "# ln det a = The natural log of the absolute value of the determinant.\n",
    "#\n",
    "lnDetS = np.linalg.slogdet(inversematrix) #type()=tuple\n",
    "#print lnDetS = (1.0, 2203.8440835363299)\n",
    "#type(lnDetS[1]) = numpy.float64"
   ]
  },
  {
   "cell_type": "code",
   "execution_count": 189,
   "metadata": {
    "collapsed": false
   },
   "outputs": [
    {
     "data": {
      "text/plain": [
       "numpy.matrixlib.defmatrix.matrix"
      ]
     },
     "execution_count": 189,
     "metadata": {},
     "output_type": "execute_result"
    }
   ],
   "source": [
    "type(temptranpose)"
   ]
  },
  {
   "cell_type": "code",
   "execution_count": 190,
   "metadata": {
    "collapsed": false
   },
   "outputs": [],
   "source": [
    "realtemplikehd = ( tempvalues * inversematrix * temptranpose ) \n",
    "realtemplikehdpt2 = ( tempvalues * inversematrix * temptranpose ) + lnDetS[1]\n",
    "realtemplikehdpt3 = ( tempvalues * inversematrix * temptranpose ) + ( lnDetS[1] ) + ((192)*2*math.pi)"
   ]
  },
  {
   "cell_type": "code",
   "execution_count": 191,
   "metadata": {
    "collapsed": false
   },
   "outputs": [
    {
     "name": "stdout",
     "output_type": "stream",
     "text": [
      "Real space (temperature space) likelihood function\n",
      "Formalism:  −2 ln L \\propto T*S^{-1}*T + ln detS + N ln 2\\pi\n",
      "First number: T*S^(-1)*T \n",
      "[[ 0.02437449]]\n",
      "Second number: T*S^{-1}*T + ln detS \n",
      "[[ 2203.86845802]]\n",
      "Third number:  −2 ln L \\propto T*S^{-1}*T + ln detS + N ln 2\\pi\n",
      "[[ 3410.240037]]\n",
      "**************\n",
      "**************\n",
      "END\n"
     ]
    }
   ],
   "source": [
    "print \"Real space (temperature space) likelihood function\"\n",
    "print \"Formalism:  −2 ln L \\propto T*S^{-1}*T + ln detS + N ln 2\\pi\"\n",
    "print \"First number: T*S^(-1)*T \"\n",
    "\n",
    "print realtemplikehd\n",
    "\n",
    "print \"Second number: T*S^{-1}*T + ln detS \"\n",
    "\n",
    "print realtemplikehdpt2\n",
    "\n",
    "print \"Third number:  −2 ln L \\propto T*S^{-1}*T + ln detS + N ln 2\\pi\"\n",
    "\n",
    "print realtemplikehdpt3\n",
    "\n",
    "print \"**************\"\n",
    "print \"**************\"\n",
    "print \"END\""
   ]
  },
  {
   "cell_type": "code",
   "execution_count": null,
   "metadata": {
    "collapsed": false
   },
   "outputs": [],
   "source": []
  },
  {
   "cell_type": "code",
   "execution_count": null,
   "metadata": {
    "collapsed": true
   },
   "outputs": [],
   "source": []
  }
 ],
 "metadata": {
  "kernelspec": {
   "display_name": "Python 2",
   "language": "python",
   "name": "python2"
  },
  "language_info": {
   "codemirror_mode": {
    "name": "ipython",
    "version": 2
   },
   "file_extension": ".py",
   "mimetype": "text/x-python",
   "name": "python",
   "nbconvert_exporter": "python",
   "pygments_lexer": "ipython2",
   "version": "2.7.9"
  }
 },
 "nbformat": 4,
 "nbformat_minor": 0
}
