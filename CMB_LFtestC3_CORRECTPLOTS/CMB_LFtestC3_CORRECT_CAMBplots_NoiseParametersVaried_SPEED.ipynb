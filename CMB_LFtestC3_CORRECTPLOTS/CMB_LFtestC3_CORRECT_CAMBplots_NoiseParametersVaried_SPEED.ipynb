{
 "cells": [
  {
   "cell_type": "code",
   "execution_count": 1,
   "metadata": {
    "collapsed": true
   },
   "outputs": [],
   "source": [
    "#\n",
    "# Same as \"CMB_LFtestC3_CORRECT_CAMBplots_NoiseParametersVaried.ipynb\" but with no printed outputs\n",
    "#\n",
    "#\n",
    "# LF test with noise\n",
    "# C = S + N, where noise N = sigma^2 I, where I is the identity matrix\n",
    "#\n",
    "# We generate 20 values of parameters x for function logLF(x)\n",
    "# We chose our parameters around the value of Boltzmann code generated C_3\n",
    "# CAMB generated C_3 equals 5.88275e-10\n",
    "#\n",
    "# 1. Set all C_l = 0 except C_3  DONE\n",
    "#\n",
    "# 2. LF is based on a matrix C that only has a P_3 term. DONE\n",
    "#\n",
    "# 3. Add to that matrix a white noise term (sigma^2 on the diagonal). DONE\n",
    "#\n",
    "# 4. LF now has *exactly two* free parameters, C_3 and sigma^2. DONE\n",
    "#\n",
    "# 5. What is LF vs C_3 (at, perhaps, a couple values of sigma^2)? \n",
    "#\n",
    "# 6. over-plot |a_3m|^2 values\n",
    "#\n",
    "#"
   ]
  },
  {
   "cell_type": "code",
   "execution_count": 2,
   "metadata": {
    "collapsed": true
   },
   "outputs": [],
   "source": [
    "%matplotlib inline\n",
    "import math\n",
    "import matplotlib.pyplot as plt \n",
    "import numpy as np\n",
    "import healpy as hp\n",
    "import pyfits as pf\n",
    "import astropy as ap\n",
    "import os\n",
    "from scipy.special import eval_legendre  ##special scipy function"
   ]
  },
  {
   "cell_type": "code",
   "execution_count": 3,
   "metadata": {
    "collapsed": true
   },
   "outputs": [],
   "source": [
    "#\n",
    "# Review of Likelihood Formalism:\n",
    "#\n",
    "# -2 loglikelihood is\n",
    "# -2 ln L \\propto m^T C^-1 m + lnDet C\n",
    "# where C = S + N\n",
    "# We are working with noiseless maps, N = 0, so C = S\n",
    "#\n",
    "# In real space, \n",
    "# data: the temperature map, \n",
    "# parameters: theoretical CAMB generated C_l, C^theory_l \n",
    "#\n",
    "# m = array of temperature pixels\n",
    "# S = S_ij\n",
    "# N = diagonal noise (but here it is noiseless! N=0)\n",
    "#\n",
    "# In spherical harmonic space\n",
    "# data: the Healpix anafast outputarray of a_lm (or similarly, \\hat{C}_l )\n",
    "# parameters: the theoretical C_l\n",
    "#\n",
    "# m = a_lm coefficients\n",
    "# S is diagonal (C_2, C_3, etc.)\n",
    "# N is non-sparse matrix (but here it is noiseless! N=0)\n",
    "#\n",
    "#\n",
    "# NOTE: The correct standard is to systematically remove the monopole, dipole terms l=0,l=1\n",
    "#       Also, we use in the following lmax = 2*nside"
   ]
  },
  {
   "cell_type": "code",
   "execution_count": 4,
   "metadata": {
    "collapsed": false
   },
   "outputs": [
    {
     "name": "stdout",
     "output_type": "stream",
     "text": [
      "/Users/evanbiederstedt/Desktop/CMBintheLikeHoodz/Likelihood_Comparison\n"
     ]
    }
   ],
   "source": [
    "cd ~/Desktop/CMBintheLikeHoodz/Likelihood_Comparison"
   ]
  },
  {
   "cell_type": "code",
   "execution_count": 5,
   "metadata": {
    "collapsed": true
   },
   "outputs": [],
   "source": [
    "camb1 = \"camb_nside16_lmax32_alms.fits\"\n",
    "camb2 = \"camb_nside16_lmax32_map.fits\"\n",
    "camb3 = \"camb_nside16_lmax32_scalcls.fits\"\n",
    "planck1 = \"100GHz_nside16_lmax32_cls.fits\"\n",
    "planck2 = \"100GHz_nside16_lmax32_cmb_alm.fits\"\n",
    "planck3 = \"100GHz_nside16_lmax32_sky_alm.fits\"\n",
    "planck4 = \"100GHz_nside16_lmax32_skymap.fits\"\n",
    "\n",
    "nside = 16"
   ]
  },
  {
   "cell_type": "code",
   "execution_count": 6,
   "metadata": {
    "collapsed": false
   },
   "outputs": [
    {
     "name": "stdout",
     "output_type": "stream",
     "text": [
      "The total number of pixels is 3072\n",
      "The maximum ell of the power spectrum C_l set to lmax = 2*nside 32\n",
      "Healpix tells me total number of pixels npix is equal to 3072\n"
     ]
    }
   ],
   "source": [
    "npix = 12*(nside**2) #total number of pixels, npix\n",
    "LMAX = ((2*nside)) #maximum l of the power spectrum C_l\n",
    "heal_npix = hp.nside2npix(nside) # Healpix calculated npix\n",
    "\n",
    "print \"The total number of pixels is \" + str(npix)\n",
    "print \"The maximum ell of the power spectrum C_l set to lmax = 2*nside \" +str(LMAX)\n",
    "print \"Healpix tells me total number of pixels npix is equal to \" + str(heal_npix)"
   ]
  },
  {
   "cell_type": "code",
   "execution_count": 7,
   "metadata": {
    "collapsed": true
   },
   "outputs": [],
   "source": [
    "#\n",
    "# Begin with a Munich Planck-simulated map, and CAMB Boltzmann-code generated C_l values\n",
    "#"
   ]
  },
  {
   "cell_type": "code",
   "execution_count": 8,
   "metadata": {
    "collapsed": true
   },
   "outputs": [],
   "source": [
    "# Theoretical scalar C_l array, CAMB\n",
    "#\n",
    "# open a FITS file, theoretical C_l values generated by CAMB\n",
    "# type()=pyfits.hdu.hdulist.HDUList\n",
    "\n",
    "\n",
    "cl_open = pf.open(camb3) # recall camb3 = \"camb_nside16_lmax32_scalcls.fits\""
   ]
  },
  {
   "cell_type": "code",
   "execution_count": 9,
   "metadata": {
    "collapsed": false
   },
   "outputs": [],
   "source": [
    "theoryCls_arr1 = cl_open[1].data\n",
    "#print theoryCls_arr1[:10]\n",
    "\n",
    "\n",
    "\n",
    "# Recall there are four columns: temp, E pol, B pol, grad-temp cross terms\n",
    "# first two values are zero, i.e. monopole, dipole\n",
    "# XXX.field() references columns by 0-index\n",
    "# field(0) is temperature values\n",
    "# all Cl scalar temp values put into ndarray\n",
    "# type()=numpy.ndarray"
   ]
  },
  {
   "cell_type": "code",
   "execution_count": 10,
   "metadata": {
    "collapsed": false
   },
   "outputs": [],
   "source": [
    "cltemps = theoryCls_arr1.field(0) \n",
    "\n",
    "#print cltemps\n",
    "#print \"The length of the array of theoretical Cl's is \" +str(len(cltemps))\n",
    "#print \"The array contains [C_0, C_1, C_2,..., C_\" +str(len(cltemps)-1) + \"]\"\n",
    "#print type(cltemps)=numpy.ndarray"
   ]
  },
  {
   "cell_type": "code",
   "execution_count": 11,
   "metadata": {
    "collapsed": false
   },
   "outputs": [],
   "source": [
    "# remove monopole l=0 and dipole l=1\n",
    "theoryCl = cltemps[2:]\n",
    "# len(theoryCl) = 31\n",
    "\n",
    "#print theoryCl # theoryCl is np.ndarray of theoretical [C_2, C_3, C_4, ..., C_32]"
   ]
  },
  {
   "cell_type": "code",
   "execution_count": 12,
   "metadata": {
    "collapsed": false
   },
   "outputs": [
    {
     "name": "stdout",
     "output_type": "stream",
     "text": [
      "NSIDE = 16\n",
      "ORDERING = RING in fits file\n"
     ]
    }
   ],
   "source": [
    "# Our input data is Gaerching generated, noiseless full-sky map\n",
    "# Temperature map: here we use Planck simulated map from Munich, not CAMB map\n",
    "# http://gavo.mpa-garching.mpg.de/planck/\n",
    "#\n",
    "# Read in with Healpy routine/function\n",
    "#\n",
    "# Use planck4 = \"100GHz_nside16_lmax32_skymap.fits\"\n",
    "# This is a simulated data, 100GHz (where CMB dominates), no foregrounds\n",
    "# \n",
    "mapread_camb2 = hp.read_map(camb2) # Healpix routine, input the sky map"
   ]
  },
  {
   "cell_type": "code",
   "execution_count": 13,
   "metadata": {
    "collapsed": false
   },
   "outputs": [],
   "source": [
    "# hp.mollview(mapread_camb2) # visualization of full-sky CMB map, nside=16, lmax=32"
   ]
  },
  {
   "cell_type": "code",
   "execution_count": 14,
   "metadata": {
    "collapsed": false
   },
   "outputs": [],
   "source": [
    "# The uploaded temperature map is mapread_planck4 = hp.read_map(planck4)\n",
    "#print type(mapread_camb2) # type(mapread_planck4) = np.ndarray\n",
    "#print mapread_camb2.shape # mapread_planck4.shape = (3072, ) = (N_pix, )\n",
    "#\n",
    "# rename array for convenience\n",
    "tempval = mapread_camb2\n",
    "#print tempval"
   ]
  },
  {
   "cell_type": "code",
   "execution_count": 15,
   "metadata": {
    "collapsed": false
   },
   "outputs": [],
   "source": [
    "# Next, we use healpy map2alm to tranform to alm values\n",
    "# Our input data is CAMB generated, noiseless full-sky map\n",
    "# We calculate an array of a_lm from this by using Healpix map2alm, a subroutine of anafast\n",
    "#\n",
    "# map2alm only outputs m >=0 values, because m = -l values are equivalent to m = +l values\n",
    "#\n",
    "# Using map2alm, the length of the alm array is expected to be:\n",
    "# (mmax * (2 * lmax + 1 - mmax)) / 2 + lmax + 1)\"\n",
    "#\n",
    "# For mmax = lmax, this is l(l+1)/2 + l + 1\n",
    "# i.e. \n",
    "# l = 0, there is 1\n",
    "# l = 1, there is 3\n",
    "# l = 2, there is 6\n",
    "# l = 3, there is 10\n",
    "# l = 4, there is 15\n",
    "# etc.\n",
    "\n",
    "\n",
    "almarr = hp.map2alm(mapread_camb2)                # This is an array of a_lm values\n",
    "#print \"The array of spherical harmonic coefficients a_lm is\"\n",
    "#print almarr\n",
    "#print \"The arr.shape is \" + str(almarr.shape)\n",
    "#print \"The length of a_lm array is \" + str(len(almarr))\n",
    "#\n",
    "#print \"For l=3, map2alm gives (a_00, a_10, a_11, a_20, a_21, a_22, a_30, a_31, a_32, a_33)\"\n",
    "#print \"However, this is NOT the order of the output! See below\"\n",
    "# In the Fortran F90 subroutines, complex alm are stored in an array that has \n",
    "# two dimensions to contain coefficients for positive and negative m values.\n",
    "# Healpy doesn't do this....I think\n",
    "\n",
    "#print \"=============================\"\n",
    "#print \"=============================\"\n",
    "#print \"Check indices with healpy.sphtfunc.Alm.getidx(lmax, l, m)\"\n",
    "#print \"Default ordering of healpy.map2alm() output is \"\n",
    "#print \"(0,0), (1,0), ..., (lmax, 0),\"\n",
    "#print \"(1,1), (2,1), ...., (lmax, 1),\"\n",
    "#print \"(2,2), .... (lmax, 2),(3,3), ...., (lmax, 3), etc. , .... (lmax, lmax).\"\n"
   ]
  },
  {
   "cell_type": "code",
   "execution_count": 16,
   "metadata": {
    "collapsed": false
   },
   "outputs": [],
   "source": [
    "# ==========================\n",
    "# DEMONSTRATION\n",
    "# Notice how a_lm is indexed\n",
    "# ==========================\n",
    "\n",
    "mmm = np.arange(12) # define a map, i.e. an array of 12 \"pixels\"\n",
    "lmaxxx = 4\n",
    "alm = hp.map2alm(mmm, lmax=lmaxxx) # spherical harmonic transform\n",
    "lm = hp.map2alm(mmm, lmax=lmaxxx) # spherical harmonic transform\n",
    "#print(alm)\n",
    "#print(alm.shape)\n",
    "\n",
    "# So alm is actually a 1D vector.\n",
    "# How is alm indexed?\n",
    "\n",
    "\n",
    "l, m = hp.Alm.getlm(lmax=lmaxxx)\n",
    "#print(l)\n",
    "\n",
    "#print(m)\n",
    "\n",
    "\n",
    "\n",
    "\n",
    "#print \"The l values are \"+str(l)\n",
    "#print \"The m values are \"+str(m)\n",
    "#print \" (l,m) is in order \" +str(list(zip(l,m)))\n",
    "#\n",
    "# l, m = hp.Alm.getlm(lmax=lmax)\n",
    "# print(l)\n",
    "# [0 1 2 1 2 2]\n",
    "# print(m)\n",
    "# [0 0 0 1 1 2]\n",
    "#\n",
    "#\n",
    "# So, for l = 2, m is [0, 1, 2].\n",
    "#\n",
    "# ==========================\n",
    "# Notice how a_lm is indexed\n",
    "# ==========================\n",
    "#\n",
    "#\n",
    "#"
   ]
  },
  {
   "cell_type": "code",
   "execution_count": 17,
   "metadata": {
    "collapsed": false
   },
   "outputs": [],
   "source": [
    "# Check with healpy.sphtfunc.Alm.getidx(lmax, l, m)\n",
    "# Returns index corresponding to (l,m) in an array describing alm up to lmax.\n",
    "#\n",
    "ell, emm = hp.Alm.getlm(lmax=32)\n",
    "\n",
    "#print \"len(ell) is \" +str(len(ell))\n",
    "#print \"len(emm) is \"+str(len(emm))\n",
    "#print \"l values are \"+str(ell[:10])\n",
    "#print \"m values are \"+str(emm[:10])\n",
    "pairs = list(zip(ell, emm)) # put values together in pairs, zip()\n",
    "ellemm = np.vstack((ell,emm)).T  # equivalent to list(zip(ell,emm)), but uses numpy throughout\n",
    "#print \"Indices for a_lm for lmax (l, m) are:\" \n",
    "#print str(pairs[:50]) # The expected output\n"
   ]
  },
  {
   "cell_type": "code",
   "execution_count": 18,
   "metadata": {
    "collapsed": false
   },
   "outputs": [],
   "source": [
    "#print ellemm[:10]"
   ]
  },
  {
   "cell_type": "code",
   "execution_count": 19,
   "metadata": {
    "collapsed": false
   },
   "outputs": [],
   "source": [
    "#\n",
    "# For our first test, mode l = 3, we need to access a_lm coefficients a_30, a_31, a_32, a_33\n",
    "# To find this for lmax = 32, we use\n",
    "# healpy.sphtfunc.Alm.getidx(lmax, l, m)\n",
    "# Returns index corresponding to (l,m) in an array describing alm up to lmax.\n",
    "#\n",
    "# Find the indices\n",
    "index_a30 = hp.Alm.getidx(lmax=32, l=3, m=0)\n",
    "index_a31 = hp.Alm.getidx(lmax=32, l=3, m=1)\n",
    "index_a32 = hp.Alm.getidx(lmax=32, l=3, m=2)\n",
    "index_a33 = hp.Alm.getidx(lmax=32, l=3, m=3)"
   ]
  },
  {
   "cell_type": "code",
   "execution_count": 20,
   "metadata": {
    "collapsed": false
   },
   "outputs": [],
   "source": [
    "#print \"Index a_30 is \" +str(index_a30)\n",
    "#print \"Index a_31 is \"+str(index_a31)\n",
    "#print \"Index a_32 is \"+str(index_a32)\n",
    "#print \"Index a_33 is \"+str(index_a33)"
   ]
  },
  {
   "cell_type": "code",
   "execution_count": 21,
   "metadata": {
    "collapsed": false
   },
   "outputs": [],
   "source": [
    "#\n",
    "# Create an array with only the values a_3m, i.e. a_30, a_31, a_32, a_33\n",
    "#\n",
    "# First convert the array of alm coefficients into a real\n",
    "#\n",
    "realalm = almarr.real\n",
    "#\n",
    "#print realalm[:36]"
   ]
  },
  {
   "cell_type": "code",
   "execution_count": 22,
   "metadata": {
    "collapsed": false
   },
   "outputs": [],
   "source": [
    "empty_almlist = []\n",
    "#\n",
    "a30 = realalm[3]\n",
    "a31 = realalm[35]\n",
    "a32 = realalm[66]\n",
    "a33 = realalm[96]\n",
    "#\n",
    "#print \"a30 is \" + str(a30)\n",
    "#print \"a31 is \" + str(a31)\n",
    "#print \"a32 is \" + str(a32)\n",
    "#print \"a33 is \" + str(a33)\n",
    "#\n",
    "#print str(pairs[3]) # Check with our output above\n",
    "#print str(pairs[35])\n",
    "#print str(pairs[66])\n",
    "#print str(pairs[96])\n",
    "#\n",
    "empty_almlist.append(a30)\n",
    "empty_almlist.append(a31)\n",
    "empty_almlist.append(a32)\n",
    "empty_almlist.append(a33)\n",
    "#\n",
    "#print empty_almlist"
   ]
  },
  {
   "cell_type": "code",
   "execution_count": 23,
   "metadata": {
    "collapsed": false
   },
   "outputs": [],
   "source": [
    "# create array of real-valued alm coefficients, a30 a31 a32 a33\n",
    "realalm3 = np.asarray(empty_almlist) # np.asarray() converts input into an array\n",
    "#print realalm3"
   ]
  },
  {
   "cell_type": "code",
   "execution_count": 24,
   "metadata": {
    "collapsed": false
   },
   "outputs": [],
   "source": [
    "# Repeat the above procedure for mode l = 4, i.e. a40 a41 a42 a43 a44\n",
    "# Find the indices\n",
    "index_a40 = hp.Alm.getidx(lmax=32, l=4, m=0)\n",
    "index_a41 = hp.Alm.getidx(lmax=32, l=4, m=1)\n",
    "index_a42 = hp.Alm.getidx(lmax=32, l=4, m=2)\n",
    "index_a43 = hp.Alm.getidx(lmax=32, l=4, m=3)\n",
    "index_a44 = hp.Alm.getidx(lmax=32, l=4, m=4)\n",
    "#\n",
    "#print \"Index a_40 is \" +str(index_a40)\n",
    "#print \"Index a_41 is \"+str(index_a41)\n",
    "#print \"Index a_42 is \"+str(index_a42)\n",
    "#print \"Index a_43 is \"+str(index_a43)\n",
    "#print \"Index a_44 is \"+str(index_a44)\n",
    "#\n",
    "# Check with the above ouput\n",
    "#print str(pairs[4]) \n",
    "#print str(pairs[36])\n",
    "#print str(pairs[67])\n",
    "#print str(pairs[97])\n",
    "#print str(pairs[126])\n",
    "#\n",
    "emptylistalm2 = []\n",
    "#\n",
    "#print realalm\n",
    "#\n",
    "a40 = realalm[4]\n",
    "a41 = realalm[36]\n",
    "a42 = realalm[67]\n",
    "a43 = realalm[97]\n",
    "a44 = realalm[127]\n",
    "#\n",
    "#print \"a40 is \" + str(a40)\n",
    "#print \"a41 is \" + str(a41)\n",
    "#print \"a42 is \" + str(a42)\n",
    "#print \"a43 is \" + str(a43)\n",
    "#print \"a44 is \" + str(a44)\n",
    "#\n",
    "emptylistalm2.append(a40)\n",
    "emptylistalm2.append(a41)\n",
    "emptylistalm2.append(a42)\n",
    "emptylistalm2.append(a43)\n",
    "emptylistalm2.append(a44)\n",
    "#\n",
    "#print emptylistalm2"
   ]
  },
  {
   "cell_type": "code",
   "execution_count": 25,
   "metadata": {
    "collapsed": false
   },
   "outputs": [],
   "source": [
    "# create array of real-valued alm coefficients, a40 a41 a42 a43 a44\n",
    "realalm4 = np.asarray(emptylistalm2) # np.asarray() converts input into an array\n",
    "#print realalm4"
   ]
  },
  {
   "cell_type": "code",
   "execution_count": 26,
   "metadata": {
    "collapsed": false
   },
   "outputs": [],
   "source": [
    "# Calculate (abs(alm))**2 i.e. |alm|^2\n",
    "abs_alm3 = np.absolute(realalm3)\n",
    "abs_alm4 = np.absolute(realalm4)\n",
    "#print abs_alm3\n",
    "#print abs_alm4\n",
    "# Now calculate the squares element-wise, x**2\n",
    "alm3_squared = abs_alm3**2\n",
    "alm4_squared = abs_alm4**2\n",
    "#print alm3_squared\n",
    "#print alm4_squared"
   ]
  },
  {
   "cell_type": "code",
   "execution_count": 27,
   "metadata": {
    "collapsed": false
   },
   "outputs": [],
   "source": [
    "# For l = 3 test, we need theoretical value of C_3; ditto for l = 4\n",
    "#print theoryCl\n",
    "C3 = theoryCl[1]\n",
    "#print \"theory C_3 is \" +str(C3)\n",
    "C4 = theoryCl[2]\n",
    "#print \"theory C_4 is \"+str(C4)"
   ]
  },
  {
   "cell_type": "code",
   "execution_count": 28,
   "metadata": {
    "collapsed": false
   },
   "outputs": [],
   "source": [
    "# For lmax = 32, we must create an array of ell values, i.e. [0 1 2 3....31 32]\n",
    "ell = np.arange(33)\n",
    "#print ell\n",
    "# \n",
    "# Subtract the monopole and dipole, l=0, l=1\n",
    "ellval = ell[2:]\n",
    "#print ellval "
   ]
  },
  {
   "cell_type": "code",
   "execution_count": 29,
   "metadata": {
    "collapsed": false
   },
   "outputs": [],
   "source": [
    "# Calculate an array of (2*l + 1)C_l \n",
    "# i.e. 5*C_2, 7*C_3, 9*C_4, 11*C_5, 13*C_6, ...\n",
    "#print theoryCl\n",
    "\n",
    "for i in ellval:\n",
    "    paramsCl = (2*ellval + 1)*theoryCl # define array (2*l + 1)C_l \n",
    "    \n",
    "#print paramsCl"
   ]
  },
  {
   "cell_type": "code",
   "execution_count": 30,
   "metadata": {
    "collapsed": false
   },
   "outputs": [],
   "source": [
    "norm = ((2*ellval + 1))/(4*math.pi)\n",
    "#print norm"
   ]
  },
  {
   "cell_type": "code",
   "execution_count": 31,
   "metadata": {
    "collapsed": false
   },
   "outputs": [],
   "source": [
    "anafastCl = hp.anafast(mapread_camb2, lmax=32)\n",
    "#len(anafastCl) = 33\n",
    "# remove monopole and dipole values, l=0, l=1\n",
    "hatCl = anafastCl[2:] #len() = 31, type() = np.ndarray\n",
    "hatC3 = hatCl[1]   # index 0 = C2, 1 = C3, etc.\n",
    "hatC4 = hatCl[2]\n",
    "#print hatC3\n",
    "#print hatC4"
   ]
  },
  {
   "cell_type": "code",
   "execution_count": 32,
   "metadata": {
    "collapsed": false
   },
   "outputs": [],
   "source": [
    "# \n",
    "# Add a_lm squared, |a_lm|^2\n",
    "#\n",
    "#print \"The values for |a_lm|^2 are : \"\n",
    "#print \"For |a_3m|**2 such that a_30, a_31, a_32, a_33: \"\n",
    "#print str(alm3_squared)\n",
    "#print \"And for |a_4m|**2 such that a_40, a_41, a_42, a_43, a_44: \"\n",
    "#print str(alm4_squared)\n",
    "\n"
   ]
  },
  {
   "cell_type": "code",
   "execution_count": 33,
   "metadata": {
    "collapsed": true
   },
   "outputs": [],
   "source": [
    "# =========================================================================\n",
    "#\n",
    "# =========================================================================\n",
    "#\n",
    "# Data:\n",
    "#     tempval      # the array of pixel values, (3072,)\n",
    "#     realalm3     # array of alm values, a30, a31, a32, a33 \n",
    "#     realalm4     # array of alm values, a40, a41, a42, a43, a44\n",
    "#     alm3_squared # array of |alm|^2, (abs(a3m))**2\n",
    "#     alm4_squared # array of |alm|^2, (abs(a4m))**2\n",
    "#     hatCl        # array of anafast-calculated \\hat{C}_l values, l=2 to l=32\n",
    "#     hatC3        # \\hat{C}_3 value\n",
    "#     hatC4        # \\hat{C}_4 value\n",
    "#\n",
    "# Parameters:\n",
    "#     theoryCl     # array of Boltzmann code generated C_l, i.e. C^{theory}_l\n",
    "#     paramsCl     # array of (2*l + 1)C_l from l=2 to l=lmax\n",
    "#     C3           # array of C_3 value\n",
    "#     C4           # array of C_4 value\n",
    "#    \n",
    "# Array of ell's: \n",
    "#     ellval       # array of l = 2 to l=lmax\n",
    "#                  # [2 3 4 ... 31 32]\n",
    "#     norm         # array of (2*l+1)/4pi\n",
    "#                  # [5/4pi 7/4pi 9/4pi 11/4pi ... 63/4pi 65/4pi]\n",
    "# =========================================================================\n",
    "#\n",
    "# ========================================================================="
   ]
  },
  {
   "cell_type": "code",
   "execution_count": 34,
   "metadata": {
    "collapsed": true
   },
   "outputs": [],
   "source": [
    "#\n",
    "# Next, create the matrix, n_i /cdot n_j\n",
    "# solely using Healpy routines, i.e. taking the dot product of the vectors\n",
    "# The result is \"dotproductmatrix\"\n",
    "#\n",
    "# npix = 3072"
   ]
  },
  {
   "cell_type": "code",
   "execution_count": 35,
   "metadata": {
    "collapsed": false
   },
   "outputs": [],
   "source": [
    "totalpix = np.arange(npix) # An array indexing the total number of pixels"
   ]
  },
  {
   "cell_type": "code",
   "execution_count": 36,
   "metadata": {
    "collapsed": true
   },
   "outputs": [],
   "source": [
    "## healpy.pixelfunc.pix2vec(nside, ipix, nest=False)\n",
    "## \n",
    "## will give three arrays\n",
    "## arrays of all x values, all y values, all z values\n",
    "## RING scheme default\n",
    "# len()=3\n",
    "# type()=tuple\n",
    "#\n",
    "#\n",
    "vecval = hp.pix2vec(nside, totalpix) #Nside = 16, type()=tuple"
   ]
  },
  {
   "cell_type": "code",
   "execution_count": 37,
   "metadata": {
    "collapsed": true
   },
   "outputs": [],
   "source": [
    "vecvalx = vecval[0] #shape (3072,)\n",
    "vecvaly = vecval[1]\n",
    "vecvalz = vecval[2]"
   ]
  },
  {
   "cell_type": "code",
   "execution_count": 38,
   "metadata": {
    "collapsed": true
   },
   "outputs": [],
   "source": [
    "# First arrange arrays vertically\n",
    "# numpy.vstack = Stack arrays in sequence vertically (row wise), input sequence of arrays\n",
    "totalvecval = np.vstack((vecvalx, vecvaly, vecvalz)) #type()=numpy.ndarray"
   ]
  },
  {
   "cell_type": "code",
   "execution_count": 39,
   "metadata": {
    "collapsed": true
   },
   "outputs": [],
   "source": [
    "trans = totalvecval.T #transpose"
   ]
  },
  {
   "cell_type": "code",
   "execution_count": 40,
   "metadata": {
    "collapsed": false
   },
   "outputs": [],
   "source": [
    "dotproductmatrix = trans.dot(totalvecval) #take the dot product\n",
    "# dotproductmatrix.shape = (npix, npix) = (3072, 3072)\n",
    "# type(dotproductmatrix) = np.ndarray"
   ]
  },
  {
   "cell_type": "code",
   "execution_count": 41,
   "metadata": {
    "collapsed": true
   },
   "outputs": [],
   "source": [
    "# =========================================================\n",
    "# =========================================================\n",
    "#\n",
    "# \\Sum_l (2*l + 1)/4pi C^th_l P_l (dotproductmatrix)\n",
    "# sum from l=2 to l=lmax\n",
    "#\n",
    "# arrays l = [2 3 4 .... lmax]\n",
    "#        C_l = [C_2 C_3 .... C_lmax]\n",
    "#\n",
    "# The correct way to do the summation:\n",
    "# \n",
    "# Step 1: calculate the matrix\n",
    "#            M = dotproductmatrix\n",
    "#\n",
    "# Step 2: evaluate the function P_l(x) for each entry of the matrix\n",
    "#         OUTPUT: [P_2(M) P_3(M) P_4(M) .... P_lmax(M) ]\n",
    "#\n",
    "# Step 3: (2*l +1)/4pi from l=2 to l=lmax\n",
    "#          [5/4pi 7/4pi 9/4pi 11/4pi .... 65/4pi ]\n",
    "#\n",
    "# Step 4: multiply \n",
    "#         [5/4pi*P_2(M) + 7/4pi*P_3(M) +...... + 65/4pi*P_32(M)]\n",
    "#\n",
    "#\n",
    "# Step 5: multiply by theoretical CAMB values, [C_2 C_3    C_31 C_32]\n",
    "#         [5/4pi**C_2* P_2(M) + 7/4pi*C_3* P_3(M) +...... + 65/4pi*C_32* P_32(M)]\n",
    "#\n",
    "# Step 6: This is an array of S_ij for each theory C_l, l=2 to l=32\n",
    "#         \n",
    "#\n",
    "#\n",
    "# =========================================================\n",
    "# ========================================================="
   ]
  },
  {
   "cell_type": "code",
   "execution_count": 42,
   "metadata": {
    "collapsed": true
   },
   "outputs": [],
   "source": [
    "# =========================================================\n",
    "# =========================================================\n",
    "#\n",
    "# Now calculate the likelihood \n",
    "# -2lnL \\propto m^T C^-1 m + ln det C + N ln (2pi)\n",
    "#\n",
    "# First term, m^T C^-1 m is the \"model fit term\"\n",
    "# Second term, lndetC is the \"complexity penalty\"\n",
    "# Third term, N ln 2pi, a constant\n",
    "#\n",
    "# m = tempval\n",
    "# C = Sij\n",
    "#\n",
    "# STEP 1: do inverse of Sij\n",
    "#        invSij = np.linalg.inv(Sij)\n",
    "#\n",
    "# STEP 2: do matrix mulplication, m.T*inv(C)*m\n",
    "#       \n",
    "# lnL_modelfit_terms = np.array([np.dot(tempval.T , np.dot(invSij[i] , tempval) ) for i in range(invSij.shape[0])])\n",
    "#\n",
    "# STEP 3: do logdet Sij\n",
    "#\n",
    "# logdetC = np.linalg.slogdet(Sij) #computes sign and log det C\n",
    "# logdetC[1]\n",
    "#\n",
    "# STEP 4: compute N_pix * 2pi\n",
    "#\n",
    "# Npix2pi = (npix)*2*math.pi\n",
    "#\n",
    "# Step 5: -2loglikelihood = m.T*inv(C)*m + logdetC[1] + Npix2pi\n",
    "# \n",
    "# =========================================================\n",
    "# ========================================================="
   ]
  },
  {
   "cell_type": "code",
   "execution_count": 43,
   "metadata": {
    "collapsed": false
   },
   "outputs": [],
   "source": [
    "# CODE BOTTLENECK!\n",
    "# \n",
    "# Evaluate Legendre from l=2 to l=lmax for each matrix entry\n",
    "# [P_2(M) P_3(M) P_4(M) .... P_lmax(M) ]\n",
    "# \n",
    "# WITHOUT BROADCASTING, one would do something like \n",
    "# PlMat = []\n",
    "# for i in ellval:\n",
    "#    PlMat.append( eval_legendre(i, dotproductmatrix) )\n",
    "#\n",
    "#\n",
    "# With broadcasting, we use\n",
    "PlMat = eval_legendre(ellval[:, None, None], dotproductmatrix)\n",
    "# PlMat = [P_2(M) P_3(M) P_4(M) .... P_lmax(M) ]\n",
    "# PlMat is an array, len()=31 of 31 3072 by 3072 matrices\n",
    "# PlMat.shape = (31, 3072, 3072)"
   ]
  },
  {
   "cell_type": "code",
   "execution_count": 44,
   "metadata": {
    "collapsed": false
   },
   "outputs": [],
   "source": [
    "# multiply PlMat by (2*l+1)/4pi, i.e. norm\n",
    "norm_matrix = norm[:, None, None] * PlMat\n",
    "# [5/4pi * P_2(M)  7/4pi * P_3(M) ....   65/4pi * P_32(M)]"
   ]
  },
  {
   "cell_type": "code",
   "execution_count": null,
   "metadata": {
    "collapsed": true
   },
   "outputs": [],
   "source": []
  },
  {
   "cell_type": "code",
   "execution_count": 45,
   "metadata": {
    "collapsed": true
   },
   "outputs": [],
   "source": [
    "correctmatrix = norm_matrix[0] + norm_matrix[1]    # this is P_2 term + P_3 term"
   ]
  },
  {
   "cell_type": "code",
   "execution_count": 46,
   "metadata": {
    "collapsed": true
   },
   "outputs": [],
   "source": [
    "# JULY 1, 2015\n",
    "#\n",
    "#\n",
    "# Here we define the LF \n",
    "#\n",
    "# Next we should writen the REAL-space log-likelihood, -2 lnLikefunction\n",
    "# this is a function of parameters\n",
    "# plot against parameters, theory C_l\n",
    "#\n",
    "# Likelihood function should use -2lnL /propto m^T C^-1 M + log det M\n",
    "#"
   ]
  },
  {
   "cell_type": "code",
   "execution_count": 47,
   "metadata": {
    "collapsed": true
   },
   "outputs": [],
   "source": [
    "# TEST C_3 Likelihood\n",
    "#\n",
    "# The covariance matrix is a function of variable \"x\" where \"x\" is \"C_3\", an unknown parameter. \n",
    "# \n",
    "# Our covariance matrix is therefore S_ij  = 7/4pi * x * P_3(matrix)   \n",
    "# (We set l=3, i.e. l=3, and P_3)\n",
    "# \n",
    "# The LF is then a function of x, LF(x). This is the only parameter we vary. \n",
    "#\n",
    "# LF = -2loglikelihood /propto T^T inv(S_ij) T + log det (Sij) + N log (2pi)\n",
    "# \n",
    "# We then plot LF(x) vs. parameters x. \n",
    "#"
   ]
  },
  {
   "cell_type": "code",
   "execution_count": 48,
   "metadata": {
    "collapsed": false
   },
   "outputs": [],
   "source": [
    "# define pixel-value arrays\n",
    "mT = np.matrix(tempval)     # mT.shape = (1, 3072)\n",
    "m = np.matrix(tempval).T    # m.shape = (3072, 1)\n",
    "Npix2pi = (npix)*2*math.pi  # LF constant\n",
    "\n"
   ]
  },
  {
   "cell_type": "code",
   "execution_count": 49,
   "metadata": {
    "collapsed": false
   },
   "outputs": [],
   "source": [
    "#print C3 # Boltzmann code CAMB output"
   ]
  },
  {
   "cell_type": "code",
   "execution_count": 50,
   "metadata": {
    "collapsed": true
   },
   "outputs": [],
   "source": [
    "# generate a number of samples to plot for x\n",
    "# Boltzmann code value for C3 is 5.88275e-10\n",
    "# start at 1e-10, end at 9e-10\n",
    "# default samples generated is 50"
   ]
  },
  {
   "cell_type": "code",
   "execution_count": 51,
   "metadata": {
    "collapsed": false
   },
   "outputs": [],
   "source": [
    "vary_x_samples1 = np.linspace(1e-10, 9e-10, num=20 ) #set default num = 20"
   ]
  },
  {
   "cell_type": "code",
   "execution_count": 52,
   "metadata": {
    "collapsed": false
   },
   "outputs": [],
   "source": [
    "#print vary_x_samples1"
   ]
  },
  {
   "cell_type": "code",
   "execution_count": 53,
   "metadata": {
    "collapsed": true
   },
   "outputs": [],
   "source": [
    "# create Sij array, len()=31, l=2 to l=32\n",
    "# Sij = norm_matrix * theoryCl[:, None, None]\n",
    "# [5/4pi*C_2*P_2(M)  7/4pi*C_3*P_3(M) ....   65/4pi*C_32*P_32(M)]"
   ]
  },
  {
   "cell_type": "code",
   "execution_count": 54,
   "metadata": {
    "collapsed": false
   },
   "outputs": [],
   "source": [
    "#print hatC3  # anafast generated C_l for l = 3 from sky map\n",
    "#print C3     # CAMB generated C_3, Boltzmann code output"
   ]
  },
  {
   "cell_type": "code",
   "execution_count": 55,
   "metadata": {
    "collapsed": false
   },
   "outputs": [],
   "source": [
    "#print alm3_squared  # a_3m extracted from sky map, absolute value, squared"
   ]
  },
  {
   "cell_type": "code",
   "execution_count": 56,
   "metadata": {
    "collapsed": true
   },
   "outputs": [],
   "source": [
    "np.set_printoptions(threshold=100000)  # Default is threshold=1000\n",
    "## Use this to print all values, disables corner printing"
   ]
  },
  {
   "cell_type": "code",
   "execution_count": 57,
   "metadata": {
    "collapsed": false
   },
   "outputs": [],
   "source": [
    "# print out all matrices and parts of the logLF\n",
    "#print vary_x_samples1  # generated from 1e-10 to 9e-10"
   ]
  },
  {
   "cell_type": "code",
   "execution_count": 58,
   "metadata": {
    "collapsed": false
   },
   "outputs": [],
   "source": [
    "#print Npix2pi # LogLF constant"
   ]
  },
  {
   "cell_type": "code",
   "execution_count": 59,
   "metadata": {
    "collapsed": false
   },
   "outputs": [],
   "source": [
    "sigma2 = np.logspace(-12, -14, num=30 ) #set default num = 30\n",
    "#print sigma2"
   ]
  },
  {
   "cell_type": "code",
   "execution_count": 60,
   "metadata": {
    "collapsed": false
   },
   "outputs": [],
   "source": [
    "#print 7*hatC3\n",
    "#print hatC3"
   ]
  },
  {
   "cell_type": "code",
   "execution_count": 61,
   "metadata": {
    "collapsed": true
   },
   "outputs": [],
   "source": [
    "# Second test with rescaled values\n",
    "vary_x_samples3 = np.logspace(-8, -12, num=30) #num = 30 \n",
    "sigma3 = np.logspace(-12, -14, num=30)"
   ]
  },
  {
   "cell_type": "code",
   "execution_count": 62,
   "metadata": {
    "collapsed": false
   },
   "outputs": [],
   "source": [
    "#print vary_x_samples3\n",
    "#print sigma3"
   ]
  },
  {
   "cell_type": "code",
   "execution_count": 63,
   "metadata": {
    "collapsed": true
   },
   "outputs": [],
   "source": [
    "# For N matrix, set the identity\n",
    "id_mat = np.identity(3072)\n",
    "# print id_mat    # This is a (3072, 3072) matrix"
   ]
  },
  {
   "cell_type": "code",
   "execution_count": 64,
   "metadata": {
    "collapsed": true
   },
   "outputs": [],
   "source": [
    "noiseresult = sigma2[:, None, None] * id_mat[None, :, :]\n",
    "#print noiseresult"
   ]
  },
  {
   "cell_type": "code",
   "execution_count": 65,
   "metadata": {
    "collapsed": true
   },
   "outputs": [],
   "source": [
    "# Now, rescale\n",
    "#\n",
    "# Multiply the CMB maps by 1e6 and the C matrix entries by 1e12 and try again.\n",
    "#\n",
    "tempp = (1e6)*tempval # multiply CMB maps by 1e6\n",
    "\n",
    "def LogLikehood_wNoise_1e12(param, sig):\n",
    "    # param is our parameter, C_3\n",
    "    Sij = param[:, None, None] * correctmatrix[None, :, :]\n",
    "    newSij = (1e12)*Sij   # multiply S_ij by 1e12\n",
    "    Nij = sig[:, None, None] * id_mat[None, :, :]\n",
    "    newNij = (1e12)*Nij\n",
    "    # Format 7/4pi * param * P_3(M) where param is the parameter we vary, C_l\n",
    "    # Sij.shape = (20, 3072, 3072)\n",
    "    Cij = newSij + newNij\n",
    "    #invCij = np.linalg.inv(Cij)\n",
    "    logdetC = np.linalg.slogdet(Cij)  # returns sign and determinant; use logdetC[1]\n",
    "    # model_fit_terms = m^T C^-1 m\n",
    "    #\n",
    "    # model_fit_terms = np.array([np.dot(tempval.T , np.dot(invCij[i] , tempval) ) \n",
    "    # for i in range(invCij.shape[0])])\n",
    "    #\n",
    "    model_fit_terms = np.array([np.dot(tempp.T , np.linalg.solve(Cij[i], tempp) ) for i in range(Cij.shape[0]) ]) \n",
    "    return model_fit_terms + logdetC[1] + Npix2pi"
   ]
  },
  {
   "cell_type": "code",
   "execution_count": 66,
   "metadata": {
    "collapsed": true
   },
   "outputs": [],
   "source": [
    "tempp = (1e6)*tempval # multiply CMB maps by 1e6\n",
    "\n",
    "def LogLikehood_wNoise_1e12_Contour(param, sig):\n",
    "    # param is our parameter, C_3\n",
    "    Sij = param * correctmatrix[None, :, :]\n",
    "    newSij = (1e12)*Sij   # multiply S_ij by 1e12\n",
    "    Nij = sig * id_mat[None, :, :]\n",
    "    newNij = (1e12)*Nij\n",
    "    # Format 7/4pi * param * P_3(M) where param is the parameter we vary, C_l\n",
    "    # Sij.shape = (20, 3072, 3072)\n",
    "    Cij = newSij + newNij\n",
    "    #invCij = np.linalg.inv(Cij)\n",
    "    logdetC = np.linalg.slogdet(Cij)  # returns sign and determinant; use logdetC[1]\n",
    "    # model_fit_terms = m^T C^-1 m\n",
    "    #\n",
    "    # model_fit_terms = np.array([np.dot(tempval.T , np.dot(invCij[i] , tempval) ) \n",
    "    # for i in range(invCij.shape[0])])\n",
    "    #\n",
    "    model_fit_terms = np.array([np.dot(tempp.T , np.linalg.solve(Cij[i], tempp) ) for i in range(Cij.shape[0]) ]) \n",
    "    return model_fit_terms + logdetC[1] + Npix2pi"
   ]
  },
  {
   "cell_type": "code",
   "execution_count": 67,
   "metadata": {
    "collapsed": false
   },
   "outputs": [],
   "source": [
    "import pylab as pb    \n",
    "import matplotlib.pyplot as plt "
   ]
  },
  {
   "cell_type": "code",
   "execution_count": null,
   "metadata": {
    "collapsed": true
   },
   "outputs": [],
   "source": []
  },
  {
   "cell_type": "code",
   "execution_count": 68,
   "metadata": {
    "collapsed": false
   },
   "outputs": [
    {
     "data": {
      "image/png": "[encoded data removed]",
      "text/plain": [
       "<matplotlib.figure.Figure at 0x11419ae50>"
      ]
     },
     "metadata": {},
     "output_type": "display_data"
    }
   ],
   "source": [
    "vary_C3 = np.linspace(1e-9, 6e-9, num=20) \n",
    "varysigma = np.linspace(1e-9, 1.25e-9, num=20)\n",
    "\n",
    "xxx = vary_C3\n",
    "yyy = varysigma\n",
    "\n",
    "zzz = np.array([[LogLikehood_wNoise_1e12_Contour(np.asarray(i), np.asarray(j)) for i in xxx] for j in yyy])\n",
    "\n",
    "zzzreshaped = zzz.reshape(20,20)\n",
    "\n",
    "plt.figure()\n",
    "CS = plt.contour(xxx, yyy, zzzreshaped)\n",
    "plt.clabel(CS, inline=1, fontsize=10)\n",
    "plt.xlabel(\"vary_C3 = np.linspace(3e-9, 6e-9, num=20) \")\n",
    "plt.ylabel(\"varysigma = np.linspace(1e-9, 1.25e-9, num=20)\")\n",
    "pb.show()"
   ]
  },
  {
   "cell_type": "code",
   "execution_count": 69,
   "metadata": {
    "collapsed": false
   },
   "outputs": [
    {
     "data": {
      "text/plain": [
       "'\\nvary_C3 = np.linspace(8e-10, 6e-9, num=20) \\nvarysigma = np.linspace(1e-9, 1.25e-9, num=20)\\n\\nxxx = vary_C3\\nyyy = varysigma\\n\\nzzz = np.array([[LogLikehood_wNoise_1e12_Contour(np.asarray(i), np.asarray(j)) for i in xxx] for j in yyy])\\n\\nzzzreshaped = zzz.reshape(20,20)\\n\\nplt.figure()\\nCS = plt.contour(xxx, yyy, zzzreshaped)\\nplt.clabel(CS, inline=1, fontsize=10)\\nplt.xlabel(\"vary_C3 = np.linspace(8e-10, 6e-9, num=20) \")\\nplt.ylabel(\"varysigma = np.linspace(1e-9, 1.25e-9, num=20)\")\\npb.show()\\n'"
      ]
     },
     "execution_count": 69,
     "metadata": {},
     "output_type": "execute_result"
    }
   ],
   "source": [
    "\n",
    "\"\"\"\n",
    "vary_C3 = np.linspace(8e-10, 6e-9, num=20) \n",
    "varysigma = np.linspace(1e-9, 1.25e-9, num=20)\n",
    "\n",
    "xxx = vary_C3\n",
    "yyy = varysigma\n",
    "\n",
    "zzz = np.array([[LogLikehood_wNoise_1e12_Contour(np.asarray(i), np.asarray(j)) for i in xxx] for j in yyy])\n",
    "\n",
    "zzzreshaped = zzz.reshape(20,20)\n",
    "\n",
    "plt.figure()\n",
    "CS = plt.contour(xxx, yyy, zzzreshaped)\n",
    "plt.clabel(CS, inline=1, fontsize=10)\n",
    "plt.xlabel(\"vary_C3 = np.linspace(8e-10, 6e-9, num=20) \")\n",
    "plt.ylabel(\"varysigma = np.linspace(1e-9, 1.25e-9, num=20)\")\n",
    "pb.show()\n",
    "\"\"\""
   ]
  },
  {
   "cell_type": "code",
   "execution_count": 70,
   "metadata": {
    "collapsed": false
   },
   "outputs": [
    {
     "data": {
      "text/plain": [
       "'\\nvary_C3 = np.linspace(8e-10, 3e-9, num=20) \\nvarysigma = np.linspace(1e-9, 1.25e-9, num=20)\\n\\nxxx = vary_C3\\nyyy = varysigma\\n\\nzzz = np.array([[LogLikehood_wNoise_1e12_Contour(np.asarray(i), np.asarray(j)) for i in xxx] for j in yyy])\\n\\nzzzreshaped = zzz.reshape(20,20)\\n\\nplt.figure()\\nCS = plt.contour(xxx, yyy, zzzreshaped)\\nplt.clabel(CS, inline=1, fontsize=10)\\nplt.xlabel(\"vary_C3 = np.linspace(8e-10, 3e-9, num=20) \")\\nplt.ylabel(\"varysigma = np.linspace(1e-9, 1.25e-9, num=20)\")\\npb.show()\\n\\n'"
      ]
     },
     "execution_count": 70,
     "metadata": {},
     "output_type": "execute_result"
    }
   ],
   "source": [
    "\n",
    "\"\"\"\n",
    "vary_C3 = np.linspace(8e-10, 3e-9, num=20) \n",
    "varysigma = np.linspace(1e-9, 1.25e-9, num=20)\n",
    "\n",
    "xxx = vary_C3\n",
    "yyy = varysigma\n",
    "\n",
    "zzz = np.array([[LogLikehood_wNoise_1e12_Contour(np.asarray(i), np.asarray(j)) for i in xxx] for j in yyy])\n",
    "\n",
    "zzzreshaped = zzz.reshape(20,20)\n",
    "\n",
    "plt.figure()\n",
    "CS = plt.contour(xxx, yyy, zzzreshaped)\n",
    "plt.clabel(CS, inline=1, fontsize=10)\n",
    "plt.xlabel(\"vary_C3 = np.linspace(8e-10, 3e-9, num=20) \")\n",
    "plt.ylabel(\"varysigma = np.linspace(1e-9, 1.25e-9, num=20)\")\n",
    "pb.show()\n",
    "\n",
    "\"\"\""
   ]
  },
  {
   "cell_type": "code",
   "execution_count": null,
   "metadata": {
    "collapsed": true
   },
   "outputs": [],
   "source": []
  }
 ],
 "metadata": {
  "kernelspec": {
   "display_name": "Python 2",
   "language": "python",
   "name": "python2"
  },
  "language_info": {
   "codemirror_mode": {
    "name": "ipython",
    "version": 2
   },
   "file_extension": ".py",
   "mimetype": "text/x-python",
   "name": "python",
   "nbconvert_exporter": "python",
   "pygments_lexer": "ipython2",
   "version": "2.7.10"
  }
 },
 "nbformat": 4,
 "nbformat_minor": 0
}
