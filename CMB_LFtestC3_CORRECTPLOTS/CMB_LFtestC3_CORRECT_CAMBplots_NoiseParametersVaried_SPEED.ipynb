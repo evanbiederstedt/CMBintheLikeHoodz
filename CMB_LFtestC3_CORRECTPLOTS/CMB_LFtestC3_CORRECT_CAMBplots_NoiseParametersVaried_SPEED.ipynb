{
 "cells": [
  {
   "cell_type": "code",
   "execution_count": 1,
   "metadata": {
    "collapsed": true
   },
   "outputs": [],
   "source": [
    "#\n",
    "# Same as \"CMB_LFtestC3_CORRECT_CAMBplots_NoiseParametersVaried.ipynb\" but with no printed outputs\n",
    "#\n",
    "#\n",
    "# LF test with noise\n",
    "# C = S + N, where noise N = sigma^2 I, where I is the identity matrix\n",
    "#\n",
    "# We generate 20 values of parameters x for function logLF(x)\n",
    "# We chose our parameters around the value of Boltzmann code generated C_3\n",
    "# CAMB generated C_3 equals 5.88275e-10\n",
    "#\n",
    "# 1. Set all C_l = 0 except C_3  DONE\n",
    "#\n",
    "# 2. LF is based on a matrix C that only has a P_3 term. DONE\n",
    "#\n",
    "# 3. Add to that matrix a white noise term (sigma^2 on the diagonal). DONE\n",
    "#\n",
    "# 4. LF now has *exactly two* free parameters, C_3 and sigma^2. DONE\n",
    "#\n",
    "# 5. What is LF vs C_3 (at, perhaps, a couple values of sigma^2)? \n",
    "#\n",
    "# 6. over-plot |a_3m|^2 values\n",
    "#\n",
    "#"
   ]
  },
  {
   "cell_type": "code",
   "execution_count": 2,
   "metadata": {
    "collapsed": true
   },
   "outputs": [],
   "source": [
    "%matplotlib inline\n",
    "import math\n",
    "import matplotlib.pyplot as plt \n",
    "import numpy as np\n",
    "import healpy as hp\n",
    "import pyfits as pf\n",
    "import astropy as ap\n",
    "import os\n",
    "from scipy.special import eval_legendre  ##special scipy function"
   ]
  },
  {
   "cell_type": "code",
   "execution_count": 3,
   "metadata": {
    "collapsed": true
   },
   "outputs": [],
   "source": [
    "#\n",
    "# Review of Likelihood Formalism:\n",
    "#\n",
    "# -2 loglikelihood is\n",
    "# -2 ln L \\propto m^T C^-1 m + lnDet C\n",
    "# where C = S + N\n",
    "# We are working with noiseless maps, N = 0, so C = S\n",
    "#\n",
    "# In real space, \n",
    "# data: the temperature map, \n",
    "# parameters: theoretical CAMB generated C_l, C^theory_l \n",
    "#\n",
    "# m = array of temperature pixels\n",
    "# S = S_ij\n",
    "# N = diagonal noise (but here it is noiseless! N=0)\n",
    "#\n",
    "# In spherical harmonic space\n",
    "# data: the Healpix anafast outputarray of a_lm (or similarly, \\hat{C}_l )\n",
    "# parameters: the theoretical C_l\n",
    "#\n",
    "# m = a_lm coefficients\n",
    "# S is diagonal (C_2, C_3, etc.)\n",
    "# N is non-sparse matrix (but here it is noiseless! N=0)\n",
    "#\n",
    "#\n",
    "# NOTE: The correct standard is to systematically remove the monopole, dipole terms l=0,l=1\n",
    "#       Also, we use in the following lmax = 2*nside"
   ]
  },
  {
   "cell_type": "code",
   "execution_count": 4,
   "metadata": {
    "collapsed": false
   },
   "outputs": [
    {
     "name": "stdout",
     "output_type": "stream",
     "text": [
      "/Users/evanbiederstedt/Desktop/CMBintheLikeHoodz/Likelihood_Comparison\n"
     ]
    }
   ],
   "source": [
    "cd ~/Desktop/CMBintheLikeHoodz/Likelihood_Comparison"
   ]
  },
  {
   "cell_type": "code",
   "execution_count": 5,
   "metadata": {
    "collapsed": true
   },
   "outputs": [],
   "source": [
    "camb1 = \"camb_nside16_lmax32_alms.fits\"\n",
    "camb2 = \"camb_nside16_lmax32_map.fits\"\n",
    "camb3 = \"camb_nside16_lmax32_scalcls.fits\"\n",
    "planck1 = \"100GHz_nside16_lmax32_cls.fits\"\n",
    "planck2 = \"100GHz_nside16_lmax32_cmb_alm.fits\"\n",
    "planck3 = \"100GHz_nside16_lmax32_sky_alm.fits\"\n",
    "planck4 = \"100GHz_nside16_lmax32_skymap.fits\"\n",
    "\n",
    "nside = 16"
   ]
  },
  {
   "cell_type": "code",
   "execution_count": 6,
   "metadata": {
    "collapsed": false
   },
   "outputs": [
    {
     "name": "stdout",
     "output_type": "stream",
     "text": [
      "The total number of pixels is 3072\n",
      "The maximum ell of the power spectrum C_l set to lmax = 2*nside 32\n",
      "Healpix tells me total number of pixels npix is equal to 3072\n"
     ]
    }
   ],
   "source": [
    "npix = 12*(nside**2) #total number of pixels, npix\n",
    "LMAX = ((2*nside)) #maximum l of the power spectrum C_l\n",
    "heal_npix = hp.nside2npix(nside) # Healpix calculated npix\n",
    "\n",
    "print \"The total number of pixels is \" + str(npix)\n",
    "print \"The maximum ell of the power spectrum C_l set to lmax = 2*nside \" +str(LMAX)\n",
    "print \"Healpix tells me total number of pixels npix is equal to \" + str(heal_npix)"
   ]
  },
  {
   "cell_type": "code",
   "execution_count": 7,
   "metadata": {
    "collapsed": true
   },
   "outputs": [],
   "source": [
    "#\n",
    "# Begin with a Munich Planck-simulated map, and CAMB Boltzmann-code generated C_l values\n",
    "#"
   ]
  },
  {
   "cell_type": "code",
   "execution_count": 8,
   "metadata": {
    "collapsed": true
   },
   "outputs": [],
   "source": [
    "# Theoretical scalar C_l array, CAMB\n",
    "#\n",
    "# open a FITS file, theoretical C_l values generated by CAMB\n",
    "# type()=pyfits.hdu.hdulist.HDUList\n",
    "\n",
    "\n",
    "# cl_open = pf.open(camb3) # recall camb3 = \"camb_nside16_lmax32_scalcls.fits\""
   ]
  },
  {
   "cell_type": "code",
   "execution_count": 9,
   "metadata": {
    "collapsed": false
   },
   "outputs": [
    {
     "name": "stdout",
     "output_type": "stream",
     "text": [
      "[(0.0, 0.0, 0.0, 0.0) (0.0, 0.0, 0.0, 0.0)\n",
      " (1.2639207e-09, 5.5308927e-14, 0.0, 3.6016001e-12)\n",
      " (5.8827504e-10, 4.5345086e-14, 0.0, 2.2704995e-12)\n",
      " (3.2867314e-10, 3.0680604e-14, 0.0, 1.4030458e-12)\n",
      " (2.065753e-10, 1.8198442e-14, 0.0, 8.6680196e-13)\n",
      " (1.4100289e-10, 9.6222612e-15, 0.0, 5.4035639e-13)\n",
      " (1.0233801e-10, 4.5884262e-15, 0.0, 3.3960166e-13)\n",
      " (7.7812937e-11, 2.0448748e-15, 0.0, 2.1437516e-13)\n",
      " (6.1362422e-11, 9.4503657e-16, 0.0, 1.3715881e-13)]\n"
     ]
    }
   ],
   "source": [
    "#theoryCls_arr1 = cl_open[1].data\n",
    "#print theoryCls_arr1[:10]\n",
    "\n",
    "\n",
    "\n",
    "# Recall there are four columns: temp, E pol, B pol, grad-temp cross terms\n",
    "# first two values are zero, i.e. monopole, dipole\n",
    "# XXX.field() references columns by 0-index\n",
    "# field(0) is temperature values\n",
    "# all Cl scalar temp values put into ndarray\n",
    "# type()=numpy.ndarray"
   ]
  },
  {
   "cell_type": "code",
   "execution_count": 10,
   "metadata": {
    "collapsed": false
   },
   "outputs": [
    {
     "name": "stdout",
     "output_type": "stream",
     "text": [
      "[  0.00000000e+00   0.00000000e+00   1.26392075e-09   5.88275040e-10\n",
      "   3.28673144e-10   2.06575299e-10   1.41002890e-10   1.02338013e-10\n",
      "   7.78129366e-11   6.13624221e-11   4.98225766e-11   4.14123076e-11\n",
      "   3.50811741e-11   3.01814025e-11   2.63133803e-11   2.32104266e-11\n",
      "   2.06850804e-11   1.86004823e-11   1.68565179e-11   1.53792031e-11\n",
      "   1.41130128e-11   1.30162998e-11   1.20591913e-11   1.12186076e-11\n",
      "   1.04760627e-11   9.81660760e-12   9.22804801e-12   8.70035207e-12\n",
      "   8.22520958e-12   7.79568684e-12   7.40596039e-12   7.05096528e-12\n",
      "   6.72585642e-12]\n",
      "The length of the array of theoretical Cl's is 33\n",
      "The array contains [C_0, C_1, C_2,..., C_32]\n"
     ]
    }
   ],
   "source": [
    "cltemps = theoryCls_arr1.field(0) \n",
    "\n",
    "#print cltemps\n",
    "#print \"The length of the array of theoretical Cl's is \" +str(len(cltemps))\n",
    "#print \"The array contains [C_0, C_1, C_2,..., C_\" +str(len(cltemps)-1) + \"]\"\n",
    "#print type(cltemps)=numpy.ndarray"
   ]
  },
  {
   "cell_type": "code",
   "execution_count": 11,
   "metadata": {
    "collapsed": false
   },
   "outputs": [
    {
     "name": "stdout",
     "output_type": "stream",
     "text": [
      "[  1.26392075e-09   5.88275040e-10   3.28673144e-10   2.06575299e-10\n",
      "   1.41002890e-10   1.02338013e-10   7.78129366e-11   6.13624221e-11\n",
      "   4.98225766e-11   4.14123076e-11   3.50811741e-11   3.01814025e-11\n",
      "   2.63133803e-11   2.32104266e-11   2.06850804e-11   1.86004823e-11\n",
      "   1.68565179e-11   1.53792031e-11   1.41130128e-11   1.30162998e-11\n",
      "   1.20591913e-11   1.12186076e-11   1.04760627e-11   9.81660760e-12\n",
      "   9.22804801e-12   8.70035207e-12   8.22520958e-12   7.79568684e-12\n",
      "   7.40596039e-12   7.05096528e-12   6.72585642e-12]\n"
     ]
    }
   ],
   "source": [
    "# remove monopole l=0 and dipole l=1\n",
    "theoryCl = cltemps[2:]\n",
    "# len(theoryCl) = 31\n",
    "\n",
    "#print theoryCl # theoryCl is np.ndarray of theoretical [C_2, C_3, C_4, ..., C_32]"
   ]
  },
  {
   "cell_type": "code",
   "execution_count": 12,
   "metadata": {
    "collapsed": false
   },
   "outputs": [
    {
     "name": "stdout",
     "output_type": "stream",
     "text": [
      "NSIDE = 16\n",
      "ORDERING = RING in fits file\n"
     ]
    }
   ],
   "source": [
    "# Our input data is Gaerching generated, noiseless full-sky map\n",
    "# Temperature map: here we use Planck simulated map from Munich, not CAMB map\n",
    "# http://gavo.mpa-garching.mpg.de/planck/\n",
    "#\n",
    "# Read in with Healpy routine/function\n",
    "#\n",
    "# Use planck4 = \"100GHz_nside16_lmax32_skymap.fits\"\n",
    "# This is a simulated data, 100GHz (where CMB dominates), no foregrounds\n",
    "# \n",
    "mapread_camb2 = hp.read_map(camb2) # Healpix routine, input the sky map"
   ]
  },
  {
   "cell_type": "code",
   "execution_count": 13,
   "metadata": {
    "collapsed": false
   },
   "outputs": [
    {
     "data": {
      "image/png": "[encoded data removed]",
      "text/plain": [
       "<matplotlib.figure.Figure at 0x10cf6e150>"
      ]
     },
     "metadata": {},
     "output_type": "display_data"
    }
   ],
   "source": [
    "# hp.mollview(mapread_camb2) # visualization of full-sky CMB map, nside=16, lmax=32"
   ]
  },
  {
   "cell_type": "code",
   "execution_count": 14,
   "metadata": {
    "collapsed": false
   },
   "outputs": [
    {
     "name": "stdout",
     "output_type": "stream",
     "text": [
      "<type 'numpy.ndarray'>\n",
      "(3072,)\n"
     ]
    }
   ],
   "source": [
    "# The uploaded temperature map is mapread_planck4 = hp.read_map(planck4)\n",
    "#print type(mapread_camb2) # type(mapread_planck4) = np.ndarray\n",
    "#print mapread_camb2.shape # mapread_planck4.shape = (3072, ) = (N_pix, )\n",
    "#\n",
    "# rename array for convenience\n",
    "tempval = mapread_camb2\n",
    "#print tempval"
   ]
  },
  {
   "cell_type": "code",
   "execution_count": 15,
   "metadata": {
    "collapsed": false
   },
   "outputs": [
    {
     "name": "stdout",
     "output_type": "stream",
     "text": [
      "The array of spherical harmonic coefficients a_lm is\n",
      "The arr.shape is (1176,)\n",
      "The length of a_lm array is 1176\n",
      "For l=3, map2alm gives (a_00, a_10, a_11, a_20, a_21, a_22, a_30, a_31, a_32, a_33)\n",
      "However, this is NOT the order of the output! See below\n",
      "=============================\n",
      "=============================\n",
      "Check indices with healpy.sphtfunc.Alm.getidx(lmax, l, m)\n",
      "Default ordering of healpy.map2alm() output is \n",
      "(0,0), (1,0), ..., (lmax, 0),\n",
      "(1,1), (2,1), ...., (lmax, 1),\n",
      "(2,2), .... (lmax, 2),(3,3), ...., (lmax, 3), etc. , .... (lmax, lmax).\n"
     ]
    }
   ],
   "source": [
    "# Next, we use healpy map2alm to tranform to alm values\n",
    "# Our input data is CAMB generated, noiseless full-sky map\n",
    "# We calculate an array of a_lm from this by using Healpix map2alm, a subroutine of anafast\n",
    "#\n",
    "# map2alm only outputs m >=0 values, because m = -l values are equivalent to m = +l values\n",
    "#\n",
    "# Using map2alm, the length of the alm array is expected to be:\n",
    "# (mmax * (2 * lmax + 1 - mmax)) / 2 + lmax + 1)\"\n",
    "#\n",
    "# For mmax = lmax, this is l(l+1)/2 + l + 1\n",
    "# i.e. \n",
    "# l = 0, there is 1\n",
    "# l = 1, there is 3\n",
    "# l = 2, there is 6\n",
    "# l = 3, there is 10\n",
    "# l = 4, there is 15\n",
    "# etc.\n",
    "\n",
    "\n",
    "almarr = hp.map2alm(mapread_camb2)                # This is an array of a_lm values\n",
    "#print \"The array of spherical harmonic coefficients a_lm is\"\n",
    "#print almarr\n",
    "#print \"The arr.shape is \" + str(almarr.shape)\n",
    "#print \"The length of a_lm array is \" + str(len(almarr))\n",
    "#\n",
    "#print \"For l=3, map2alm gives (a_00, a_10, a_11, a_20, a_21, a_22, a_30, a_31, a_32, a_33)\"\n",
    "#print \"However, this is NOT the order of the output! See below\"\n",
    "# In the Fortran F90 subroutines, complex alm are stored in an array that has \n",
    "# two dimensions to contain coefficients for positive and negative m values.\n",
    "# Healpy doesn't do this....I think\n",
    "\n",
    "#print \"=============================\"\n",
    "#print \"=============================\"\n",
    "#print \"Check indices with healpy.sphtfunc.Alm.getidx(lmax, l, m)\"\n",
    "#print \"Default ordering of healpy.map2alm() output is \"\n",
    "#print \"(0,0), (1,0), ..., (lmax, 0),\"\n",
    "#print \"(1,1), (2,1), ...., (lmax, 1),\"\n",
    "#print \"(2,2), .... (lmax, 2),(3,3), ...., (lmax, 3), etc. , .... (lmax, lmax).\"\n"
   ]
  },
  {
   "cell_type": "code",
   "execution_count": 16,
   "metadata": {
    "collapsed": false
   },
   "outputs": [
    {
     "name": "stdout",
     "output_type": "stream",
     "text": [
      "[  1.43186913e+01 +0.00000000e+00j  -9.06158785e+00 +0.00000000e+00j\n",
      "  -7.57672587e+00 +0.00000000e+00j   5.38292381e+00 +0.00000000e+00j\n",
      "   2.49127749e+00 +0.00000000e+00j   6.02204636e-01 -2.01587603e+00j\n",
      "  -5.24772601e-16 +4.66504045e-16j   2.43950547e-01 -3.28507898e-01j\n",
      "  -9.14911754e-17 +2.79734272e-16j   3.65595455e-01 -7.92402132e+00j\n",
      "   5.92284905e-17 -3.86615282e-15j  -3.16614952e-01 -1.44872968e+01j\n",
      "  -2.28780515e-03 +4.33449165e-01j   3.54336141e-16 +7.86327068e-16j\n",
      "   1.08501635e+01 -3.35394518e-16j]\n",
      "(15,)\n",
      "[0 1 2 3 4 1 2 3 4 2 3 4 3 4 4]\n",
      "[0 0 0 0 0 1 1 1 1 2 2 2 3 3 4]\n",
      "The l values are [0 1 2 3 4 1 2 3 4 2 3 4 3 4 4]\n",
      "The m values are [0 0 0 0 0 1 1 1 1 2 2 2 3 3 4]\n",
      " (l,m) is in order [(0, 0), (1, 0), (2, 0), (3, 0), (4, 0), (1, 1), (2, 1), (3, 1), (4, 1), (2, 2), (3, 2), (4, 2), (3, 3), (4, 3), (4, 4)]\n"
     ]
    }
   ],
   "source": [
    "# ==========================\n",
    "# DEMONSTRATION\n",
    "# Notice how a_lm is indexed\n",
    "# ==========================\n",
    "\n",
    "mmm = np.arange(12) # define a map, i.e. an array of 12 \"pixels\"\n",
    "lmaxxx = 4\n",
    "alm = hp.map2alm(mmm, lmax=lmaxxx) # spherical harmonic transform\n",
    "lm = hp.map2alm(mmm, lmax=lmaxxx) # spherical harmonic transform\n",
    "#print(alm)\n",
    "#print(alm.shape)\n",
    "\n",
    "# So alm is actually a 1D vector.\n",
    "# How is alm indexed?\n",
    "\n",
    "\n",
    "l, m = hp.Alm.getlm(lmax=lmaxxx)\n",
    "#print(l)\n",
    "\n",
    "#print(m)\n",
    "\n",
    "\n",
    "\n",
    "\n",
    "#print \"The l values are \"+str(l)\n",
    "#print \"The m values are \"+str(m)\n",
    "#print \" (l,m) is in order \" +str(list(zip(l,m)))\n",
    "#\n",
    "# l, m = hp.Alm.getlm(lmax=lmax)\n",
    "# print(l)\n",
    "# [0 1 2 1 2 2]\n",
    "# print(m)\n",
    "# [0 0 0 1 1 2]\n",
    "#\n",
    "#\n",
    "# So, for l = 2, m is [0, 1, 2].\n",
    "#\n",
    "# ==========================\n",
    "# Notice how a_lm is indexed\n",
    "# ==========================\n",
    "#\n",
    "#\n",
    "#"
   ]
  },
  {
   "cell_type": "code",
   "execution_count": 17,
   "metadata": {
    "collapsed": false
   },
   "outputs": [
    {
     "name": "stdout",
     "output_type": "stream",
     "text": [
      "len(ell) is 561\n",
      "len(emm) is 561\n",
      "l values are [0 1 2 3 4 5 6 7 8 9]\n",
      "m values are [0 0 0 0 0 0 0 0 0 0]\n",
      "Indices for a_lm for lmax (l, m) are:\n",
      "[(0, 0), (1, 0), (2, 0), (3, 0), (4, 0), (5, 0), (6, 0), (7, 0), (8, 0), (9, 0), (10, 0), (11, 0), (12, 0), (13, 0), (14, 0), (15, 0), (16, 0), (17, 0), (18, 0), (19, 0), (20, 0), (21, 0), (22, 0), (23, 0), (24, 0), (25, 0), (26, 0), (27, 0), (28, 0), (29, 0), (30, 0), (31, 0), (32, 0), (1, 1), (2, 1), (3, 1), (4, 1), (5, 1), (6, 1), (7, 1), (8, 1), (9, 1), (10, 1), (11, 1), (12, 1), (13, 1), (14, 1), (15, 1), (16, 1), (17, 1)]\n"
     ]
    }
   ],
   "source": [
    "# Check with healpy.sphtfunc.Alm.getidx(lmax, l, m)\n",
    "# Returns index corresponding to (l,m) in an array describing alm up to lmax.\n",
    "#\n",
    "ell, emm = hp.Alm.getlm(lmax=32)\n",
    "\n",
    "#print \"len(ell) is \" +str(len(ell))\n",
    "#print \"len(emm) is \"+str(len(emm))\n",
    "#print \"l values are \"+str(ell[:10])\n",
    "#print \"m values are \"+str(emm[:10])\n",
    "pairs = list(zip(ell, emm)) # put values together in pairs, zip()\n",
    "ellemm = np.vstack((ell,emm)).T  # equivalent to list(zip(ell,emm)), but uses numpy throughout\n",
    "#print \"Indices for a_lm for lmax (l, m) are:\" \n",
    "#print str(pairs[:50]) # The expected output\n"
   ]
  },
  {
   "cell_type": "code",
   "execution_count": 18,
   "metadata": {
    "collapsed": false
   },
   "outputs": [
    {
     "name": "stdout",
     "output_type": "stream",
     "text": [
      "[[0 0]\n",
      " [1 0]\n",
      " [2 0]\n",
      " [3 0]\n",
      " [4 0]\n",
      " [5 0]\n",
      " [6 0]\n",
      " [7 0]\n",
      " [8 0]\n",
      " [9 0]]\n"
     ]
    }
   ],
   "source": [
    "#print ellemm[:10]"
   ]
  },
  {
   "cell_type": "code",
   "execution_count": 19,
   "metadata": {
    "collapsed": false
   },
   "outputs": [],
   "source": [
    "#\n",
    "# For our first test, mode l = 3, we need to access a_lm coefficients a_30, a_31, a_32, a_33\n",
    "# To find this for lmax = 32, we use\n",
    "# healpy.sphtfunc.Alm.getidx(lmax, l, m)\n",
    "# Returns index corresponding to (l,m) in an array describing alm up to lmax.\n",
    "#\n",
    "# Find the indices\n",
    "index_a30 = hp.Alm.getidx(lmax=32, l=3, m=0)\n",
    "index_a31 = hp.Alm.getidx(lmax=32, l=3, m=1)\n",
    "index_a32 = hp.Alm.getidx(lmax=32, l=3, m=2)\n",
    "index_a33 = hp.Alm.getidx(lmax=32, l=3, m=3)"
   ]
  },
  {
   "cell_type": "code",
   "execution_count": 20,
   "metadata": {
    "collapsed": false
   },
   "outputs": [
    {
     "name": "stdout",
     "output_type": "stream",
     "text": [
      "Index a_30 is 3\n",
      "Index a_31 is 35\n",
      "Index a_32 is 66\n",
      "Index a_33 is 96\n"
     ]
    }
   ],
   "source": [
    "#print \"Index a_30 is \" +str(index_a30)\n",
    "#print \"Index a_31 is \"+str(index_a31)\n",
    "#print \"Index a_32 is \"+str(index_a32)\n",
    "#print \"Index a_33 is \"+str(index_a33)"
   ]
  },
  {
   "cell_type": "code",
   "execution_count": 21,
   "metadata": {
    "collapsed": false
   },
   "outputs": [
    {
     "name": "stdout",
     "output_type": "stream",
     "text": [
      "[  4.27365741e-10   2.29584030e-09  -3.99058124e-05  -3.54786292e-05\n",
      "   2.10319852e-05   9.87750024e-06   7.97092193e-06  -1.18858780e-05\n",
      "  -7.27840112e-06   3.61680988e-07  -4.90787138e-06   3.47579016e-06\n",
      "  -4.30349062e-06  -2.65684938e-07  -1.00274382e-06  -1.12408678e-06\n",
      "   4.89651663e-06   7.38091856e-07   2.10038079e-07   3.19967529e-06\n",
      "  -2.82808712e-06   3.98389365e-07   9.92859235e-07   1.12017252e-07\n",
      "   1.85264741e-06  -1.88066911e-06  -5.47687726e-07  -4.03524074e-08\n",
      "   6.09934135e-07   6.46948184e-07  -2.27504639e-07   6.00326431e-07\n",
      "  -1.16138884e-07   6.93299985e-09   3.15959247e-09   6.92273981e-09]\n"
     ]
    }
   ],
   "source": [
    "#\n",
    "# Create an array with only the values a_3m, i.e. a_30, a_31, a_32, a_33\n",
    "#\n",
    "# First convert the array of alm coefficients into a real\n",
    "#\n",
    "realalm = almarr.real\n",
    "#\n",
    "#print realalm[:36]"
   ]
  },
  {
   "cell_type": "code",
   "execution_count": 22,
   "metadata": {
    "collapsed": false
   },
   "outputs": [
    {
     "name": "stdout",
     "output_type": "stream",
     "text": [
      "a30 is -3.54786291692e-05\n",
      "a31 is 6.92273981372e-09\n",
      "a32 is -7.65807282676e-07\n",
      "a33 is 2.69713402623e-05\n",
      "(3, 0)\n",
      "(3, 1)\n",
      "(3, 2)\n",
      "(3, 3)\n",
      "[-3.5478629169177798e-05, 6.92273981371705e-09, -7.658072826755922e-07, 2.6971340262298301e-05]\n"
     ]
    }
   ],
   "source": [
    "empty_almlist = []\n",
    "#\n",
    "a30 = realalm[3]\n",
    "a31 = realalm[35]\n",
    "a32 = realalm[66]\n",
    "a33 = realalm[96]\n",
    "#\n",
    "#print \"a30 is \" + str(a30)\n",
    "#print \"a31 is \" + str(a31)\n",
    "#print \"a32 is \" + str(a32)\n",
    "#print \"a33 is \" + str(a33)\n",
    "#\n",
    "#print str(pairs[3]) # Check with our output above\n",
    "#print str(pairs[35])\n",
    "#print str(pairs[66])\n",
    "#print str(pairs[96])\n",
    "#\n",
    "empty_almlist.append(a30)\n",
    "empty_almlist.append(a31)\n",
    "empty_almlist.append(a32)\n",
    "empty_almlist.append(a33)\n",
    "#\n",
    "#print empty_almlist"
   ]
  },
  {
   "cell_type": "code",
   "execution_count": 23,
   "metadata": {
    "collapsed": false
   },
   "outputs": [
    {
     "name": "stdout",
     "output_type": "stream",
     "text": [
      "[ -3.54786292e-05   6.92273981e-09  -7.65807283e-07   2.69713403e-05]\n"
     ]
    }
   ],
   "source": [
    "# create array of real-valued alm coefficients, a30 a31 a32 a33\n",
    "realalm3 = np.asarray(empty_almlist) # np.asarray() converts input into an array\n",
    "#print realalm3"
   ]
  },
  {
   "cell_type": "code",
   "execution_count": 24,
   "metadata": {
    "collapsed": false
   },
   "outputs": [
    {
     "name": "stdout",
     "output_type": "stream",
     "text": [
      "Index a_40 is 4\n",
      "Index a_41 is 36\n",
      "Index a_42 is 67\n",
      "Index a_43 is 97\n",
      "Index a_44 is 126\n",
      "(4, 0)\n",
      "(4, 1)\n",
      "(4, 2)\n",
      "(4, 3)\n",
      "(4, 4)\n",
      "a40 is 2.10319852146e-05\n",
      "a41 is 3.20500644242e-09\n",
      "a42 is 3.94936640444e-07\n",
      "a43 is 3.29951851271e-06\n",
      "a44 is -1.19861955538e-09\n"
     ]
    }
   ],
   "source": [
    "# Repeat the above procedure for mode l = 4, i.e. a40 a41 a42 a43 a44\n",
    "# Find the indices\n",
    "index_a40 = hp.Alm.getidx(lmax=32, l=4, m=0)\n",
    "index_a41 = hp.Alm.getidx(lmax=32, l=4, m=1)\n",
    "index_a42 = hp.Alm.getidx(lmax=32, l=4, m=2)\n",
    "index_a43 = hp.Alm.getidx(lmax=32, l=4, m=3)\n",
    "index_a44 = hp.Alm.getidx(lmax=32, l=4, m=4)\n",
    "#\n",
    "#print \"Index a_40 is \" +str(index_a40)\n",
    "#print \"Index a_41 is \"+str(index_a41)\n",
    "#print \"Index a_42 is \"+str(index_a42)\n",
    "#print \"Index a_43 is \"+str(index_a43)\n",
    "#print \"Index a_44 is \"+str(index_a44)\n",
    "#\n",
    "# Check with the above ouput\n",
    "#print str(pairs[4]) \n",
    "#print str(pairs[36])\n",
    "#print str(pairs[67])\n",
    "#print str(pairs[97])\n",
    "#print str(pairs[126])\n",
    "#\n",
    "emptylistalm2 = []\n",
    "#\n",
    "#print realalm\n",
    "#\n",
    "a40 = realalm[4]\n",
    "a41 = realalm[36]\n",
    "a42 = realalm[67]\n",
    "a43 = realalm[97]\n",
    "a44 = realalm[127]\n",
    "#\n",
    "#print \"a40 is \" + str(a40)\n",
    "#print \"a41 is \" + str(a41)\n",
    "#print \"a42 is \" + str(a42)\n",
    "#print \"a43 is \" + str(a43)\n",
    "#print \"a44 is \" + str(a44)\n",
    "#\n",
    "emptylistalm2.append(a40)\n",
    "emptylistalm2.append(a41)\n",
    "emptylistalm2.append(a42)\n",
    "emptylistalm2.append(a43)\n",
    "emptylistalm2.append(a44)\n",
    "#\n",
    "#print emptylistalm2"
   ]
  },
  {
   "cell_type": "code",
   "execution_count": 25,
   "metadata": {
    "collapsed": false
   },
   "outputs": [
    {
     "name": "stdout",
     "output_type": "stream",
     "text": [
      "[  2.10319852e-05   3.20500644e-09   3.94936640e-07   3.29951851e-06\n",
      "  -1.19861956e-09]\n"
     ]
    }
   ],
   "source": [
    "# create array of real-valued alm coefficients, a40 a41 a42 a43 a44\n",
    "realalm4 = np.asarray(emptylistalm2) # np.asarray() converts input into an array\n",
    "#print realalm4"
   ]
  },
  {
   "cell_type": "code",
   "execution_count": 26,
   "metadata": {
    "collapsed": false
   },
   "outputs": [
    {
     "name": "stdout",
     "output_type": "stream",
     "text": [
      "[  3.54786292e-05   6.92273981e-09   7.65807283e-07   2.69713403e-05]\n",
      "[  2.10319852e-05   3.20500644e-09   3.94936640e-07   3.29951851e-06\n",
      "   1.19861956e-09]\n",
      "[  1.25873313e-09   4.79243265e-17   5.86460794e-13   7.27453196e-10]\n",
      "[  4.42344402e-10   1.02720663e-17   1.55974950e-13   1.08868224e-11\n",
      "   1.43668884e-18]\n"
     ]
    }
   ],
   "source": [
    "# Calculate (abs(alm))**2 i.e. |alm|^2\n",
    "abs_alm3 = np.absolute(realalm3)\n",
    "abs_alm4 = np.absolute(realalm4)\n",
    "#print abs_alm3\n",
    "#print abs_alm4\n",
    "# Now calculate the squares element-wise, x**2\n",
    "alm3_squared = abs_alm3**2\n",
    "alm4_squared = abs_alm4**2\n",
    "#print alm3_squared\n",
    "#print alm4_squared"
   ]
  },
  {
   "cell_type": "code",
   "execution_count": 27,
   "metadata": {
    "collapsed": false
   },
   "outputs": [
    {
     "name": "stdout",
     "output_type": "stream",
     "text": [
      "[  1.26392075e-09   5.88275040e-10   3.28673144e-10   2.06575299e-10\n",
      "   1.41002890e-10   1.02338013e-10   7.78129366e-11   6.13624221e-11\n",
      "   4.98225766e-11   4.14123076e-11   3.50811741e-11   3.01814025e-11\n",
      "   2.63133803e-11   2.32104266e-11   2.06850804e-11   1.86004823e-11\n",
      "   1.68565179e-11   1.53792031e-11   1.41130128e-11   1.30162998e-11\n",
      "   1.20591913e-11   1.12186076e-11   1.04760627e-11   9.81660760e-12\n",
      "   9.22804801e-12   8.70035207e-12   8.22520958e-12   7.79568684e-12\n",
      "   7.40596039e-12   7.05096528e-12   6.72585642e-12]\n",
      "theory C_3 is 5.88275e-10\n",
      "theory C_4 is 3.28673e-10\n"
     ]
    }
   ],
   "source": [
    "# For l = 3 test, we need theoretical value of C_3; ditto for l = 4\n",
    "#print theoryCl\n",
    "C3 = theoryCl[1]\n",
    "#print \"theory C_3 is \" +str(C3)\n",
    "C4 = theoryCl[2]\n",
    "#print \"theory C_4 is \"+str(C4)"
   ]
  },
  {
   "cell_type": "code",
   "execution_count": 28,
   "metadata": {
    "collapsed": false
   },
   "outputs": [
    {
     "name": "stdout",
     "output_type": "stream",
     "text": [
      "[ 0  1  2  3  4  5  6  7  8  9 10 11 12 13 14 15 16 17 18 19 20 21 22 23 24\n",
      " 25 26 27 28 29 30 31 32]\n",
      "[ 2  3  4  5  6  7  8  9 10 11 12 13 14 15 16 17 18 19 20 21 22 23 24 25 26\n",
      " 27 28 29 30 31 32]\n"
     ]
    }
   ],
   "source": [
    "# For lmax = 32, we must create an array of ell values, i.e. [0 1 2 3....31 32]\n",
    "ell = np.arange(33)\n",
    "#print ell\n",
    "# \n",
    "# Subtract the monopole and dipole, l=0, l=1\n",
    "ellval = ell[2:]\n",
    "#print ellval "
   ]
  },
  {
   "cell_type": "code",
   "execution_count": 29,
   "metadata": {
    "collapsed": false
   },
   "outputs": [
    {
     "name": "stdout",
     "output_type": "stream",
     "text": [
      "[  1.26392075e-09   5.88275040e-10   3.28673144e-10   2.06575299e-10\n",
      "   1.41002890e-10   1.02338013e-10   7.78129366e-11   6.13624221e-11\n",
      "   4.98225766e-11   4.14123076e-11   3.50811741e-11   3.01814025e-11\n",
      "   2.63133803e-11   2.32104266e-11   2.06850804e-11   1.86004823e-11\n",
      "   1.68565179e-11   1.53792031e-11   1.41130128e-11   1.30162998e-11\n",
      "   1.20591913e-11   1.12186076e-11   1.04760627e-11   9.81660760e-12\n",
      "   9.22804801e-12   8.70035207e-12   8.22520958e-12   7.79568684e-12\n",
      "   7.40596039e-12   7.05096528e-12   6.72585642e-12]\n",
      "[  6.31960373e-09   4.11792528e-09   2.95805830e-09   2.27232828e-09\n",
      "   1.83303757e-09   1.53507020e-09   1.32281992e-09   1.16588602e-09\n",
      "   1.04627411e-09   9.52483075e-10   8.77029352e-10   8.14897868e-10\n",
      "   7.63088029e-10   7.19523226e-10   6.82607653e-10   6.51016879e-10\n",
      "   6.23691163e-10   5.99788922e-10   5.78633527e-10   5.59700893e-10\n",
      "   5.42663609e-10   5.27274559e-10   5.13327074e-10   5.00646987e-10\n",
      "   4.89086545e-10   4.78519364e-10   4.68836946e-10   4.59945524e-10\n",
      "   4.51763584e-10   4.44210813e-10   4.37180667e-10]\n"
     ]
    }
   ],
   "source": [
    "# Calculate an array of (2*l + 1)C_l \n",
    "# i.e. 5*C_2, 7*C_3, 9*C_4, 11*C_5, 13*C_6, ...\n",
    "#print theoryCl\n",
    "\n",
    "for i in ellval:\n",
    "    paramsCl = (2*ellval + 1)*theoryCl # define array (2*l + 1)C_l \n",
    "    \n",
    "#print paramsCl"
   ]
  },
  {
   "cell_type": "code",
   "execution_count": 30,
   "metadata": {
    "collapsed": false
   },
   "outputs": [
    {
     "name": "stdout",
     "output_type": "stream",
     "text": [
      "[ 0.39788736  0.5570423   0.71619724  0.87535219  1.03450713  1.19366207\n",
      "  1.35281702  1.51197196  1.6711269   1.83028185  1.98943679  2.14859173\n",
      "  2.30774667  2.46690162  2.62605656  2.7852115   2.94436645  3.10352139\n",
      "  3.26267633  3.42183128  3.58098622  3.74014116  3.89929611  4.05845105\n",
      "  4.21760599  4.37676094  4.53591588  4.69507082  4.85422576  5.01338071\n",
      "  5.17253565]\n"
     ]
    }
   ],
   "source": [
    "norm = ((2*ellval + 1))/(4*math.pi)\n",
    "#print norm"
   ]
  },
  {
   "cell_type": "code",
   "execution_count": 31,
   "metadata": {
    "collapsed": false
   },
   "outputs": [
    {
     "name": "stdout",
     "output_type": "stream",
     "text": [
      "6.49352544114e-10\n",
      "3.16267210302e-10\n"
     ]
    }
   ],
   "source": [
    "anafastCl = hp.anafast(mapread_camb2, lmax=32)\n",
    "#len(anafastCl) = 33\n",
    "# remove monopole and dipole values, l=0, l=1\n",
    "hatCl = anafastCl[2:] #len() = 31, type() = np.ndarray\n",
    "hatC3 = hatCl[1]   # index 0 = C2, 1 = C3, etc.\n",
    "hatC4 = hatCl[2]\n",
    "#print hatC3\n",
    "#print hatC4"
   ]
  },
  {
   "cell_type": "code",
   "execution_count": 32,
   "metadata": {
    "collapsed": false
   },
   "outputs": [
    {
     "name": "stdout",
     "output_type": "stream",
     "text": [
      "The values for |a_lm|^2 are : \n",
      "For |a_3m|**2 such that a_30, a_31, a_32, a_33: \n",
      "[  1.25873313e-09   4.79243265e-17   5.86460794e-13   7.27453196e-10]\n",
      "And for |a_4m|**2 such that a_40, a_41, a_42, a_43, a_44: \n",
      "[  4.42344402e-10   1.02720663e-17   1.55974950e-13   1.08868224e-11\n",
      "   1.43668884e-18]\n"
     ]
    }
   ],
   "source": [
    "# \n",
    "# Add a_lm squared, |a_lm|^2\n",
    "#\n",
    "#print \"The values for |a_lm|^2 are : \"\n",
    "#print \"For |a_3m|**2 such that a_30, a_31, a_32, a_33: \"\n",
    "#print str(alm3_squared)\n",
    "#print \"And for |a_4m|**2 such that a_40, a_41, a_42, a_43, a_44: \"\n",
    "#print str(alm4_squared)\n",
    "\n"
   ]
  },
  {
   "cell_type": "code",
   "execution_count": 33,
   "metadata": {
    "collapsed": true
   },
   "outputs": [],
   "source": [
    "# =========================================================================\n",
    "#\n",
    "# =========================================================================\n",
    "#\n",
    "# Data:\n",
    "#     tempval      # the array of pixel values, (3072,)\n",
    "#     realalm3     # array of alm values, a30, a31, a32, a33 \n",
    "#     realalm4     # array of alm values, a40, a41, a42, a43, a44\n",
    "#     alm3_squared # array of |alm|^2, (abs(a3m))**2\n",
    "#     alm4_squared # array of |alm|^2, (abs(a4m))**2\n",
    "#     hatCl        # array of anafast-calculated \\hat{C}_l values, l=2 to l=32\n",
    "#     hatC3        # \\hat{C}_3 value\n",
    "#     hatC4        # \\hat{C}_4 value\n",
    "#\n",
    "# Parameters:\n",
    "#     theoryCl     # array of Boltzmann code generated C_l, i.e. C^{theory}_l\n",
    "#     paramsCl     # array of (2*l + 1)C_l from l=2 to l=lmax\n",
    "#     C3           # array of C_3 value\n",
    "#     C4           # array of C_4 value\n",
    "#    \n",
    "# Array of ell's: \n",
    "#     ellval       # array of l = 2 to l=lmax\n",
    "#                  # [2 3 4 ... 31 32]\n",
    "#     norm         # array of (2*l+1)/4pi\n",
    "#                  # [5/4pi 7/4pi 9/4pi 11/4pi ... 63/4pi 65/4pi]\n",
    "# =========================================================================\n",
    "#\n",
    "# ========================================================================="
   ]
  },
  {
   "cell_type": "code",
   "execution_count": 34,
   "metadata": {
    "collapsed": true
   },
   "outputs": [],
   "source": [
    "#\n",
    "# Next, create the matrix, n_i /cdot n_j\n",
    "# solely using Healpy routines, i.e. taking the dot product of the vectors\n",
    "# The result is \"dotproductmatrix\"\n",
    "#\n",
    "# npix = 3072"
   ]
  },
  {
   "cell_type": "code",
   "execution_count": 35,
   "metadata": {
    "collapsed": false
   },
   "outputs": [],
   "source": [
    "totalpix = np.arange(npix) # An array indexing the total number of pixels"
   ]
  },
  {
   "cell_type": "code",
   "execution_count": 36,
   "metadata": {
    "collapsed": true
   },
   "outputs": [],
   "source": [
    "## healpy.pixelfunc.pix2vec(nside, ipix, nest=False)\n",
    "## \n",
    "## will give three arrays\n",
    "## arrays of all x values, all y values, all z values\n",
    "## RING scheme default\n",
    "# len()=3\n",
    "# type()=tuple\n",
    "#\n",
    "#\n",
    "vecval = hp.pix2vec(nside, totalpix) #Nside = 16, type()=tuple"
   ]
  },
  {
   "cell_type": "code",
   "execution_count": 37,
   "metadata": {
    "collapsed": true
   },
   "outputs": [],
   "source": [
    "vecvalx = vecval[0] #shape (3072,)\n",
    "vecvaly = vecval[1]\n",
    "vecvalz = vecval[2]"
   ]
  },
  {
   "cell_type": "code",
   "execution_count": 38,
   "metadata": {
    "collapsed": true
   },
   "outputs": [],
   "source": [
    "# First arrange arrays vertically\n",
    "# numpy.vstack = Stack arrays in sequence vertically (row wise), input sequence of arrays\n",
    "totalvecval = np.vstack((vecvalx, vecvaly, vecvalz)) #type()=numpy.ndarray"
   ]
  },
  {
   "cell_type": "code",
   "execution_count": 39,
   "metadata": {
    "collapsed": true
   },
   "outputs": [],
   "source": [
    "trans = totalvecval.T #transpose"
   ]
  },
  {
   "cell_type": "code",
   "execution_count": 40,
   "metadata": {
    "collapsed": false
   },
   "outputs": [],
   "source": [
    "dotproductmatrix = trans.dot(totalvecval) #take the dot product\n",
    "# dotproductmatrix.shape = (npix, npix) = (3072, 3072)\n",
    "# type(dotproductmatrix) = np.ndarray"
   ]
  },
  {
   "cell_type": "code",
   "execution_count": 41,
   "metadata": {
    "collapsed": true
   },
   "outputs": [],
   "source": [
    "# =========================================================\n",
    "# =========================================================\n",
    "#\n",
    "# \\Sum_l (2*l + 1)/4pi C^th_l P_l (dotproductmatrix)\n",
    "# sum from l=2 to l=lmax\n",
    "#\n",
    "# arrays l = [2 3 4 .... lmax]\n",
    "#        C_l = [C_2 C_3 .... C_lmax]\n",
    "#\n",
    "# The correct way to do the summation:\n",
    "# \n",
    "# Step 1: calculate the matrix\n",
    "#            M = dotproductmatrix\n",
    "#\n",
    "# Step 2: evaluate the function P_l(x) for each entry of the matrix\n",
    "#         OUTPUT: [P_2(M) P_3(M) P_4(M) .... P_lmax(M) ]\n",
    "#\n",
    "# Step 3: (2*l +1)/4pi from l=2 to l=lmax\n",
    "#          [5/4pi 7/4pi 9/4pi 11/4pi .... 65/4pi ]\n",
    "#\n",
    "# Step 4: multiply \n",
    "#         [5/4pi*P_2(M) + 7/4pi*P_3(M) +...... + 65/4pi*P_32(M)]\n",
    "#\n",
    "#\n",
    "# Step 5: multiply by theoretical CAMB values, [C_2 C_3    C_31 C_32]\n",
    "#         [5/4pi**C_2* P_2(M) + 7/4pi*C_3* P_3(M) +...... + 65/4pi*C_32* P_32(M)]\n",
    "#\n",
    "# Step 6: This is an array of S_ij for each theory C_l, l=2 to l=32\n",
    "#         \n",
    "#\n",
    "#\n",
    "# =========================================================\n",
    "# ========================================================="
   ]
  },
  {
   "cell_type": "code",
   "execution_count": 42,
   "metadata": {
    "collapsed": true
   },
   "outputs": [],
   "source": [
    "# =========================================================\n",
    "# =========================================================\n",
    "#\n",
    "# Now calculate the likelihood \n",
    "# -2lnL \\propto m^T C^-1 m + ln det C + N ln (2pi)\n",
    "#\n",
    "# First term, m^T C^-1 m is the \"model fit term\"\n",
    "# Second term, lndetC is the \"complexity penalty\"\n",
    "# Third term, N ln 2pi, a constant\n",
    "#\n",
    "# m = tempval\n",
    "# C = Sij\n",
    "#\n",
    "# STEP 1: do inverse of Sij\n",
    "#        invSij = np.linalg.inv(Sij)\n",
    "#\n",
    "# STEP 2: do matrix mulplication, m.T*inv(C)*m\n",
    "#       \n",
    "# lnL_modelfit_terms = np.array([np.dot(tempval.T , np.dot(invSij[i] , tempval) ) for i in range(invSij.shape[0])])\n",
    "#\n",
    "# STEP 3: do logdet Sij\n",
    "#\n",
    "# logdetC = np.linalg.slogdet(Sij) #computes sign and log det C\n",
    "# logdetC[1]\n",
    "#\n",
    "# STEP 4: compute N_pix * 2pi\n",
    "#\n",
    "# Npix2pi = (npix)*2*math.pi\n",
    "#\n",
    "# Step 5: -2loglikelihood = m.T*inv(C)*m + logdetC[1] + Npix2pi\n",
    "# \n",
    "# =========================================================\n",
    "# ========================================================="
   ]
  },
  {
   "cell_type": "code",
   "execution_count": 43,
   "metadata": {
    "collapsed": false
   },
   "outputs": [],
   "source": [
    "# CODE BOTTLENECK!\n",
    "# \n",
    "# Evaluate Legendre from l=2 to l=lmax for each matrix entry\n",
    "# [P_2(M) P_3(M) P_4(M) .... P_lmax(M) ]\n",
    "# \n",
    "# WITHOUT BROADCASTING, one would do something like \n",
    "# PlMat = []\n",
    "# for i in ellval:\n",
    "#    PlMat.append( eval_legendre(i, dotproductmatrix) )\n",
    "#\n",
    "#\n",
    "# With broadcasting, we use\n",
    "PlMat = eval_legendre(ellval[:, None, None], dotproductmatrix)\n",
    "# PlMat = [P_2(M) P_3(M) P_4(M) .... P_lmax(M) ]\n",
    "# PlMat is an array, len()=31 of 31 3072 by 3072 matrices\n",
    "# PlMat.shape = (31, 3072, 3072)"
   ]
  },
  {
   "cell_type": "code",
   "execution_count": 44,
   "metadata": {
    "collapsed": false
   },
   "outputs": [],
   "source": [
    "# multiply PlMat by (2*l+1)/4pi, i.e. norm\n",
    "norm_matrix = norm[:, None, None] * PlMat\n",
    "# [5/4pi * P_2(M)  7/4pi * P_3(M) ....   65/4pi * P_32(M)]"
   ]
  },
  {
   "cell_type": "code",
   "execution_count": null,
   "metadata": {
    "collapsed": true
   },
   "outputs": [],
   "source": []
  },
  {
   "cell_type": "code",
   "execution_count": 45,
   "metadata": {
    "collapsed": true
   },
   "outputs": [],
   "source": [
    "correctmatrix = norm_matrix[0] + norm_matrix[1]    # this is P_2 term + P_3 term"
   ]
  },
  {
   "cell_type": "code",
   "execution_count": 46,
   "metadata": {
    "collapsed": true
   },
   "outputs": [],
   "source": [
    "# JULY 1, 2015\n",
    "#\n",
    "#\n",
    "# Here we define the LF \n",
    "#\n",
    "# Next we should writen the REAL-space log-likelihood, -2 lnLikefunction\n",
    "# this is a function of parameters\n",
    "# plot against parameters, theory C_l\n",
    "#\n",
    "# Likelihood function should use -2lnL /propto m^T C^-1 M + log det M\n",
    "#"
   ]
  },
  {
   "cell_type": "code",
   "execution_count": 47,
   "metadata": {
    "collapsed": true
   },
   "outputs": [],
   "source": [
    "# TEST C_3 Likelihood\n",
    "#\n",
    "# The covariance matrix is a function of variable \"x\" where \"x\" is \"C_3\", an unknown parameter. \n",
    "# \n",
    "# Our covariance matrix is therefore S_ij  = 7/4pi * x * P_3(matrix)   \n",
    "# (We set l=3, i.e. l=3, and P_3)\n",
    "# \n",
    "# The LF is then a function of x, LF(x). This is the only parameter we vary. \n",
    "#\n",
    "# LF = -2loglikelihood /propto T^T inv(S_ij) T + log det (Sij) + N log (2pi)\n",
    "# \n",
    "# We then plot LF(x) vs. parameters x. \n",
    "#"
   ]
  },
  {
   "cell_type": "code",
   "execution_count": 48,
   "metadata": {
    "collapsed": false
   },
   "outputs": [],
   "source": [
    "# define pixel-value arrays\n",
    "mT = np.matrix(tempval)     # mT.shape = (1, 3072)\n",
    "m = np.matrix(tempval).T    # m.shape = (3072, 1)\n",
    "Npix2pi = (npix)*2*math.pi  # LF constant\n",
    "\n"
   ]
  },
  {
   "cell_type": "code",
   "execution_count": 49,
   "metadata": {
    "collapsed": false
   },
   "outputs": [
    {
     "name": "stdout",
     "output_type": "stream",
     "text": [
      "5.88275e-10\n"
     ]
    }
   ],
   "source": [
    "#print C3 # Boltzmann code CAMB output"
   ]
  },
  {
   "cell_type": "code",
   "execution_count": 50,
   "metadata": {
    "collapsed": true
   },
   "outputs": [],
   "source": [
    "# generate a number of samples to plot for x\n",
    "# Boltzmann code value for C3 is 5.88275e-10\n",
    "# start at 1e-10, end at 9e-10\n",
    "# default samples generated is 50"
   ]
  },
  {
   "cell_type": "code",
   "execution_count": 51,
   "metadata": {
    "collapsed": false
   },
   "outputs": [],
   "source": [
    "vary_x_samples1 = np.linspace(1e-10, 9e-10, num=20 ) #set default num = 20"
   ]
  },
  {
   "cell_type": "code",
   "execution_count": 52,
   "metadata": {
    "collapsed": false
   },
   "outputs": [
    {
     "name": "stdout",
     "output_type": "stream",
     "text": [
      "[  1.00000000e-10   1.42105263e-10   1.84210526e-10   2.26315789e-10\n",
      "   2.68421053e-10   3.10526316e-10   3.52631579e-10   3.94736842e-10\n",
      "   4.36842105e-10   4.78947368e-10   5.21052632e-10   5.63157895e-10\n",
      "   6.05263158e-10   6.47368421e-10   6.89473684e-10   7.31578947e-10\n",
      "   7.73684211e-10   8.15789474e-10   8.57894737e-10   9.00000000e-10]\n"
     ]
    }
   ],
   "source": [
    "#print vary_x_samples1"
   ]
  },
  {
   "cell_type": "code",
   "execution_count": 53,
   "metadata": {
    "collapsed": true
   },
   "outputs": [],
   "source": [
    "# create Sij array, len()=31, l=2 to l=32\n",
    "# Sij = norm_matrix * theoryCl[:, None, None]\n",
    "# [5/4pi*C_2*P_2(M)  7/4pi*C_3*P_3(M) ....   65/4pi*C_32*P_32(M)]"
   ]
  },
  {
   "cell_type": "code",
   "execution_count": 54,
   "metadata": {
    "collapsed": false
   },
   "outputs": [
    {
     "name": "stdout",
     "output_type": "stream",
     "text": [
      "6.49352544114e-10\n",
      "5.88275e-10\n"
     ]
    }
   ],
   "source": [
    "#print hatC3  # anafast generated C_l for l = 3 from sky map\n",
    "#print C3     # CAMB generated C_3, Boltzmann code output"
   ]
  },
  {
   "cell_type": "code",
   "execution_count": 55,
   "metadata": {
    "collapsed": false
   },
   "outputs": [
    {
     "name": "stdout",
     "output_type": "stream",
     "text": [
      "[  1.25873313e-09   4.79243265e-17   5.86460794e-13   7.27453196e-10]\n"
     ]
    }
   ],
   "source": [
    "#print alm3_squared  # a_3m extracted from sky map, absolute value, squared"
   ]
  },
  {
   "cell_type": "code",
   "execution_count": 56,
   "metadata": {
    "collapsed": true
   },
   "outputs": [],
   "source": [
    "np.set_printoptions(threshold=100000)  # Default is threshold=1000\n",
    "## Use this to print all values, disables corner printing"
   ]
  },
  {
   "cell_type": "code",
   "execution_count": 57,
   "metadata": {
    "collapsed": false
   },
   "outputs": [
    {
     "name": "stdout",
     "output_type": "stream",
     "text": [
      "[  1.00000000e-10   1.42105263e-10   1.84210526e-10   2.26315789e-10\n",
      "   2.68421053e-10   3.10526316e-10   3.52631579e-10   3.94736842e-10\n",
      "   4.36842105e-10   4.78947368e-10   5.21052632e-10   5.63157895e-10\n",
      "   6.05263158e-10   6.47368421e-10   6.89473684e-10   7.31578947e-10\n",
      "   7.73684211e-10   8.15789474e-10   8.57894737e-10   9.00000000e-10]\n"
     ]
    }
   ],
   "source": [
    "# print out all matrices and parts of the logLF\n",
    "#print vary_x_samples1  # generated from 1e-10 to 9e-10"
   ]
  },
  {
   "cell_type": "code",
   "execution_count": 58,
   "metadata": {
    "collapsed": false
   },
   "outputs": [
    {
     "name": "stdout",
     "output_type": "stream",
     "text": [
      "19301.9452637\n"
     ]
    }
   ],
   "source": [
    "#print Npix2pi # LogLF constant"
   ]
  },
  {
   "cell_type": "code",
   "execution_count": 59,
   "metadata": {
    "collapsed": false
   },
   "outputs": [
    {
     "name": "stdout",
     "output_type": "stream",
     "text": [
      "[  1.00000000e-12   8.53167852e-13   7.27895384e-13   6.21016942e-13\n",
      "   5.29831691e-13   4.52035366e-13   3.85662042e-13   3.29034456e-13\n",
      "   2.80721620e-13   2.39502662e-13   2.04335972e-13   1.74332882e-13\n",
      "   1.48735211e-13   1.26896100e-13   1.08263673e-13   9.23670857e-14\n",
      "   7.88046282e-14   6.72335754e-14   5.73615251e-14   4.89390092e-14\n",
      "   4.17531894e-14   3.56224789e-14   3.03919538e-14   2.59294380e-14\n",
      "   2.21221629e-14   1.88739182e-14   1.61026203e-14   1.37382380e-14\n",
      "   1.17210230e-14   1.00000000e-14]\n"
     ]
    }
   ],
   "source": [
    "sigma2 = np.logspace(-12, -14, num=30 ) #set default num = 30\n",
    "#print sigma2"
   ]
  },
  {
   "cell_type": "code",
   "execution_count": 60,
   "metadata": {
    "collapsed": false
   },
   "outputs": [
    {
     "name": "stdout",
     "output_type": "stream",
     "text": [
      "4.5454678088e-09\n",
      "6.49352544114e-10\n"
     ]
    }
   ],
   "source": [
    "#print 7*hatC3\n",
    "#print hatC3"
   ]
  },
  {
   "cell_type": "code",
   "execution_count": 61,
   "metadata": {
    "collapsed": true
   },
   "outputs": [],
   "source": [
    "# Second test with rescaled values\n",
    "vary_x_samples3 = np.logspace(-8, -12, num=30) #num = 30 \n",
    "sigma3 = np.logspace(-12, -14, num=30)"
   ]
  },
  {
   "cell_type": "code",
   "execution_count": 62,
   "metadata": {
    "collapsed": false
   },
   "outputs": [
    {
     "name": "stdout",
     "output_type": "stream",
     "text": [
      "[  1.00000000e-08   7.27895384e-09   5.29831691e-09   3.85662042e-09\n",
      "   2.80721620e-09   2.04335972e-09   1.48735211e-09   1.08263673e-09\n",
      "   7.88046282e-10   5.73615251e-10   4.17531894e-10   3.03919538e-10\n",
      "   2.21221629e-10   1.61026203e-10   1.17210230e-10   8.53167852e-11\n",
      "   6.21016942e-11   4.52035366e-11   3.29034456e-11   2.39502662e-11\n",
      "   1.74332882e-11   1.26896100e-11   9.23670857e-12   6.72335754e-12\n",
      "   4.89390092e-12   3.56224789e-12   2.59294380e-12   1.88739182e-12\n",
      "   1.37382380e-12   1.00000000e-12]\n",
      "[  1.00000000e-12   8.53167852e-13   7.27895384e-13   6.21016942e-13\n",
      "   5.29831691e-13   4.52035366e-13   3.85662042e-13   3.29034456e-13\n",
      "   2.80721620e-13   2.39502662e-13   2.04335972e-13   1.74332882e-13\n",
      "   1.48735211e-13   1.26896100e-13   1.08263673e-13   9.23670857e-14\n",
      "   7.88046282e-14   6.72335754e-14   5.73615251e-14   4.89390092e-14\n",
      "   4.17531894e-14   3.56224789e-14   3.03919538e-14   2.59294380e-14\n",
      "   2.21221629e-14   1.88739182e-14   1.61026203e-14   1.37382380e-14\n",
      "   1.17210230e-14   1.00000000e-14]\n"
     ]
    }
   ],
   "source": [
    "#print vary_x_samples3\n",
    "#print sigma3"
   ]
  },
  {
   "cell_type": "code",
   "execution_count": 63,
   "metadata": {
    "collapsed": true
   },
   "outputs": [],
   "source": [
    "# For N matrix, set the identity\n",
    "id_mat = np.identity(3072)\n",
    "# print id_mat    # This is a (3072, 3072) matrix"
   ]
  },
  {
   "cell_type": "code",
   "execution_count": 64,
   "metadata": {
    "collapsed": true
   },
   "outputs": [],
   "source": [
    "noiseresult = sigma2[:, None, None] * id_mat[None, :, :]\n",
    "#print noiseresult"
   ]
  },
  {
   "cell_type": "code",
   "execution_count": 65,
   "metadata": {
    "collapsed": true
   },
   "outputs": [],
   "source": [
    "# Now, rescale\n",
    "#\n",
    "# Multiply the CMB maps by 1e6 and the C matrix entries by 1e12 and try again.\n",
    "#\n",
    "tempp = (1e6)*tempval # multiply CMB maps by 1e6\n",
    "\n",
    "def LogLikehood_wNoise_1e12(param, sig):\n",
    "    # param is our parameter, C_3\n",
    "    Sij = param[:, None, None] * correctmatrix[None, :, :]\n",
    "    newSij = (1e12)*Sij   # multiply S_ij by 1e12\n",
    "    Nij = sig[:, None, None] * id_mat[None, :, :]\n",
    "    newNij = (1e12)*Nij\n",
    "    # Format 7/4pi * param * P_3(M) where param is the parameter we vary, C_l\n",
    "    # Sij.shape = (20, 3072, 3072)\n",
    "    Cij = newSij + newNij\n",
    "    #invCij = np.linalg.inv(Cij)\n",
    "    logdetC = np.linalg.slogdet(Cij)  # returns sign and determinant; use logdetC[1]\n",
    "    # model_fit_terms = m^T C^-1 m\n",
    "    #\n",
    "    # model_fit_terms = np.array([np.dot(tempval.T , np.dot(invCij[i] , tempval) ) \n",
    "    # for i in range(invCij.shape[0])])\n",
    "    #\n",
    "    model_fit_terms = np.array([np.dot(tempp.T , np.linalg.solve(Cij[i], tempp) ) for i in range(Cij.shape[0]) ]) \n",
    "    return model_fit_terms + logdetC[1] + Npix2pi"
   ]
  },
  {
   "cell_type": "code",
   "execution_count": null,
   "metadata": {
    "collapsed": true
   },
   "outputs": [],
   "source": [
    "tempp = (1e6)*tempval # multiply CMB maps by 1e6\n",
    "\n",
    "def LogLikehood_wNoise_1e12_Contour(param, sig):\n",
    "    # param is our parameter, C_3\n",
    "    Sij = param * correctmatrix[None, :, :]\n",
    "    newSij = (1e12)*Sij   # multiply S_ij by 1e12\n",
    "    Nij = sig * id_mat[None, :, :]\n",
    "    newNij = (1e12)*Nij\n",
    "    # Format 7/4pi * param * P_3(M) where param is the parameter we vary, C_l\n",
    "    # Sij.shape = (20, 3072, 3072)\n",
    "    Cij = newSij + newNij\n",
    "    #invCij = np.linalg.inv(Cij)\n",
    "    logdetC = np.linalg.slogdet(Cij)  # returns sign and determinant; use logdetC[1]\n",
    "    # model_fit_terms = m^T C^-1 m\n",
    "    #\n",
    "    # model_fit_terms = np.array([np.dot(tempval.T , np.dot(invCij[i] , tempval) ) \n",
    "    # for i in range(invCij.shape[0])])\n",
    "    #\n",
    "    model_fit_terms = np.array([np.dot(tempp.T , np.linalg.solve(Cij[i], tempp) ) for i in range(Cij.shape[0]) ]) \n",
    "    return model_fit_terms + logdetC[1] + Npix2pi"
   ]
  },
  {
   "cell_type": "code",
   "execution_count": null,
   "metadata": {
    "collapsed": false
   },
   "outputs": [],
   "source": [
    "import pylab as pb    \n",
    "import matplotlib.pyplot as plt "
   ]
  },
  {
   "cell_type": "code",
   "execution_count": null,
   "metadata": {
    "collapsed": true
   },
   "outputs": [],
   "source": []
  },
  {
   "cell_type": "code",
   "execution_count": null,
   "metadata": {
    "collapsed": false
   },
   "outputs": [],
   "source": [
    "vary_C3 = np.linspace(1e-9, 6e-9, num=20) \n",
    "varysigma = np.linspace(1e-9, 1.25e-9, num=20)\n",
    "\n",
    "xxx = vary_C3\n",
    "yyy = varysigma\n",
    "\n",
    "zzz = np.array([[LogLikehood_wNoise_1e12_Contour(np.asarray(i), np.asarray(j)) for i in xxx] for j in yyy])\n",
    "\n",
    "zzzreshaped = zzz.reshape(20,20)\n",
    "\n",
    "plt.figure()\n",
    "CS = plt.contour(xxx, yyy, zzzreshaped)\n",
    "plt.clabel(CS, inline=1, fontsize=10)\n",
    "plt.xlabel(\"vary_C3 = np.linspace(3e-9, 6e-9, num=20) \")\n",
    "plt.ylabel(\"varysigma = np.linspace(1e-9, 1.25e-9, num=20)\")\n",
    "pb.show()"
   ]
  },
  {
   "cell_type": "code",
   "execution_count": null,
   "metadata": {
    "collapsed": false
   },
   "outputs": [],
   "source": [
    "\n",
    "\"\"\"\n",
    "vary_C3 = np.linspace(8e-10, 6e-9, num=20) \n",
    "varysigma = np.linspace(1e-9, 1.25e-9, num=20)\n",
    "\n",
    "xxx = vary_C3\n",
    "yyy = varysigma\n",
    "\n",
    "zzz = np.array([[LogLikehood_wNoise_1e12_Contour(np.asarray(i), np.asarray(j)) for i in xxx] for j in yyy])\n",
    "\n",
    "zzzreshaped = zzz.reshape(20,20)\n",
    "\n",
    "plt.figure()\n",
    "CS = plt.contour(xxx, yyy, zzzreshaped)\n",
    "plt.clabel(CS, inline=1, fontsize=10)\n",
    "plt.xlabel(\"vary_C3 = np.linspace(8e-10, 6e-9, num=20) \")\n",
    "plt.ylabel(\"varysigma = np.linspace(1e-9, 1.25e-9, num=20)\")\n",
    "pb.show()\n",
    "\"\"\""
   ]
  },
  {
   "cell_type": "code",
   "execution_count": null,
   "metadata": {
    "collapsed": false
   },
   "outputs": [],
   "source": [
    "\n",
    "\"\"\"\n",
    "vary_C3 = np.linspace(8e-10, 3e-9, num=20) \n",
    "varysigma = np.linspace(1e-9, 1.25e-9, num=20)\n",
    "\n",
    "xxx = vary_C3\n",
    "yyy = varysigma\n",
    "\n",
    "zzz = np.array([[LogLikehood_wNoise_1e12_Contour(np.asarray(i), np.asarray(j)) for i in xxx] for j in yyy])\n",
    "\n",
    "zzzreshaped = zzz.reshape(20,20)\n",
    "\n",
    "plt.figure()\n",
    "CS = plt.contour(xxx, yyy, zzzreshaped)\n",
    "plt.clabel(CS, inline=1, fontsize=10)\n",
    "plt.xlabel(\"vary_C3 = np.linspace(8e-10, 3e-9, num=20) \")\n",
    "plt.ylabel(\"varysigma = np.linspace(1e-9, 1.25e-9, num=20)\")\n",
    "pb.show()\n",
    "\n",
    "\"\"\""
   ]
  },
  {
   "cell_type": "code",
   "execution_count": null,
   "metadata": {
    "collapsed": true
   },
   "outputs": [],
   "source": []
  }
 ],
 "metadata": {
  "kernelspec": {
   "display_name": "Python 2",
   "language": "python",
   "name": "python2"
  },
  "language_info": {
   "codemirror_mode": {
    "name": "ipython",
    "version": 2
   },
   "file_extension": ".py",
   "mimetype": "text/x-python",
   "name": "python",
   "nbconvert_exporter": "python",
   "pygments_lexer": "ipython2",
   "version": "2.7.10"
  }
 },
 "nbformat": 4,
 "nbformat_minor": 0
}
