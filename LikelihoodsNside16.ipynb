{
 "cells": [
  {
   "cell_type": "code",
   "execution_count": 1,
   "metadata": {
    "collapsed": true
   },
   "outputs": [],
   "source": [
    "%matplotlib inline\n",
    "\n",
    "# We use CAMB generated scalar C_l values, N_side=8\n",
    "# and CAMB simulated maps associated with scalar C_l values above\n",
    "# N_side=8 gives N_pix=768\n",
<<<<<<< HEAD
<<<<<<< HEAD
    "\n",
    "# Provide 3 inputs:\n",
    "#\n",
    "# 1. scalar Cls FITS\n",
    "# 2. sky map FITS\n",
    "# 3. manually insert Nside value\n",
    "#\n",
    "# If you did that, alles in Butter!\n",
    "#"
=======
=======
>>>>>>> origin/master
    "# \n",
    "# Provide three inputs:\n",
    "# 1. scalar Cls FITS\n",
    "# 2. sky map FITS\n",
    "# 3. manually insert Nside value\n",
    "# If you did that, alles in Butter!\n",
    "\n"
>>>>>>> origin/master
   ]
  },
  {
   "cell_type": "code",
   "execution_count": 2,
   "metadata": {
    "collapsed": true
   },
   "outputs": [],
   "source": [
    "# http://healpy.readthedocs.org/en/latest/generated/healpy.sphtfunc.anafast.html\n",
    "#\n",
    "# lmax = (3*Nside - 1)\n",
    "#\n",
    "# if lmax=0, there is only one Cl, i.e. C0. If lmax=11, there are 12 Cl values, \n",
    "# Cl= [C0, C1 ... C11]\n"
   ]
  },
  {
   "cell_type": "code",
   "execution_count": 3,
   "metadata": {
    "collapsed": true
   },
   "outputs": [],
   "source": [
    "# The standard I am using is lmax = (3*Nside - 1)\n",
    "#\n",
    "# However, for all computations, we CONSISTENTLY remove monopole and dipole terms\n",
    "# Otherwise, we end up dividing by zero\n",
    "#\n",
    "# So, generate FITS with lmax = 3Nside+1"
   ]
  },
  {
   "cell_type": "code",
   "execution_count": 4,
   "metadata": {
    "collapsed": true
   },
   "outputs": [],
   "source": [
    "import math\n",
    "import matplotlib.pyplot as plt \n",
    "import numpy as np\n",
    "import healpy as hp\n",
    "import pyfits as pf\n",
    "import astropy as ap\n",
    "import os\n",
    "from scipy.special import eval_legendre  ##special scipy function\n",
    "\n",
    "np.set_printoptions(threshold=1000)  # Default is threshold=1000\n",
    "## Use this to print all values, disables corner printing"
   ]
  },
  {
   "cell_type": "code",
   "execution_count": 5,
   "metadata": {
    "collapsed": false
   },
   "outputs": [
    {
     "name": "stdout",
     "output_type": "stream",
     "text": [
      "/Users/evanbiederstedt/Downloads\n"
     ]
    }
   ],
   "source": [
    "cd ~/downloads"
   ]
  },
  {
   "cell_type": "code",
   "execution_count": 6,
   "metadata": {
    "collapsed": true
   },
   "outputs": [],
   "source": [
    "filename = \"camb_cls_nside16_lmax49.fits\" # CAMB C_l scalars\n",
    "temp = \"camb_nside16_lmax49.fits\" # CAMB simulated maps\n",
    "nside = 16"
   ]
  },
  {
   "cell_type": "code",
   "execution_count": 7,
   "metadata": {
    "collapsed": false
   },
   "outputs": [
    {
     "name": "stdout",
     "output_type": "stream",
     "text": [
      "The total number of pixels is 3072\n",
      "The maximum ell of the power spectrum C_l47\n"
     ]
    }
   ],
   "source": [
    "npix = 12*(nside**2) #total number of pixels, npix\n",
    "lmax = ((3*nside)-1) #maximum l of the power spectrum C_l\n",
    "\n",
    "print \"The total number of pixels is \" + str(npix)\n",
    "print \"The maximum ell of the power spectrum C_l\" +str(lmax)"
   ]
  },
  {
   "cell_type": "code",
   "execution_count": 8,
   "metadata": {
    "collapsed": false
   },
   "outputs": [],
   "source": [
    "# open a FITS file \n",
    "# type()=pyfits.hdu.hdulist.HDUList\n",
    "ff = pf.open(filename)"
   ]
  },
  {
   "cell_type": "code",
   "execution_count": 9,
   "metadata": {
    "collapsed": false
   },
   "outputs": [],
   "source": [
    "### Recall there are four columns: temp, E pol, B pol, grad-temp cross terms\n",
    "## first two values are zero, i.e. monopole, dipole\n",
    "cls = ff[1].data  # actually second HDU, first is empty\n"
   ]
  },
  {
   "cell_type": "code",
   "execution_count": 10,
   "metadata": {
    "collapsed": false
   },
   "outputs": [
    {
     "name": "stdout",
     "output_type": "stream",
     "text": [
      "50\n",
      "the number of l values: l=0, l=1, ... l=lmax, where lmax=\n",
      "47\n",
      "this means length\n",
      "48\n"
     ]
    }
   ],
   "source": [
    "# XXX.field() references columns by 0-index\n",
    "# field(0) is temperature values\n",
    "# all Cl scalar temp values put into ndarray\n",
    "# type()=numpy.ndarray\n",
    "\n",
    "cltemp = cls.field(0) \n",
    "newcls = np.delete( cltemp, [0,1] )\n",
    "\n",
    "\n",
    "# Note: imported C_l values 3*Nside + 1 = cltemp\n",
    "# newcls uses lmax = 3Nside - 1\n",
    "\n",
    "\n",
    "\n",
    "print len(cltemp)\n",
    "print \"the number of l values: l=0, l=1, ... l=lmax, where lmax=\"\n",
    "print lmax\n",
    "print \"this means length\"\n",
    "print len(newcls) #the l=0 value"
   ]
  },
  {
   "cell_type": "code",
   "execution_count": 11,
   "metadata": {
    "collapsed": false
   },
   "outputs": [],
   "source": [
    "# define ell values\n",
    "# array from 0 to lmax, where lmax = \n",
    "# add two values in case there are issues with monopole, dipole term\n",
    "ellval = np.arange(len(cltemp))\n"
   ]
  },
  {
   "cell_type": "code",
   "execution_count": 12,
   "metadata": {
    "collapsed": false
   },
   "outputs": [
    {
     "name": "stdout",
     "output_type": "stream",
     "text": [
      "[ 0  1  2  3  4  5  6  7  8  9 10 11 12 13 14 15 16 17 18 19 20 21 22 23 24\n",
      " 25 26 27 28 29 30 31 32 33 34 35 36 37 38 39 40 41 42 43 44 45 46 47 48 49]\n",
      "[ 2  3  4  5  6  7  8  9 10 11 12 13 14 15 16 17 18 19 20 21 22 23 24 25 26\n",
      " 27 28 29 30 31 32 33 34 35 36 37 38 39 40 41 42 43 44 45 46 47 48 49]\n"
     ]
    }
   ],
   "source": [
    "# P_0 is the monopole, P_1 is the dipole\n",
    "# remove 0, 1\n",
    "\n",
    "newellval = np.delete(ellval, [0,1]) #numpy.ndarray\n",
    "\n",
    "print ellval\n",
    "print newellval"
   ]
  },
  {
   "cell_type": "code",
   "execution_count": 13,
   "metadata": {
    "collapsed": false
   },
   "outputs": [],
   "source": [
    "# First calculate the covariance matrix by the definition, i.e. \n",
    "# \n",
    "# C_ij = < \\delta T_i \\delta T_j > = 1/4pi \\sum^{N_pix} p = \n",
    "# ( T_i(p) - mean(T_i) ) * ( T_j(p) - mean(T_j) )\n",
    "#\n",
    "#\n",
    "# Larson, Weiland, Hinshaw, Bennett, \n",
    "# http://arxiv.org/pdf/1409.7718.pdf\n",
    "#"
   ]
  },
  {
   "cell_type": "code",
   "execution_count": 14,
   "metadata": {
    "collapsed": false
   },
   "outputs": [],
   "source": [
    "tempmap = hp.mrdfits(temp) #type() = list\n"
   ]
  },
  {
   "cell_type": "code",
   "execution_count": 15,
   "metadata": {
    "collapsed": false
   },
   "outputs": [
    {
     "name": "stdout",
     "output_type": "stream",
     "text": [
      "(3, 1024)\n"
     ]
    }
   ],
   "source": [
    "tempval = tempmap[0][:] #len()=12288, type()=numpy.ndarray\n",
    "\n",
    "# len(tempval) = 12\n",
    "# 1024 * 12 = 12288\n",
    "# 12 rows of 1024 entries\n",
    "\n",
    "# tempval.shape = (12, 1024) for Nside=32\n",
    "print tempval.shape"
   ]
  },
  {
   "cell_type": "code",
   "execution_count": 16,
   "metadata": {
    "collapsed": true
   },
   "outputs": [],
   "source": [
    "# The HEALPix standard is fixed at shape = (n, 1024)\n",
    "# Columns are consistently 1024\n",
    "# Rows vary\n",
    "#\n",
    "# Concatenate array so it is one-dimensional\n",
    "#\n",
    "#\n",
    "# Could use numpy.reshape\n",
    "# Quicker, probably\n",
    "# np.reshape(tempval, (1, -1))\n",
    "#\n",
    "\n",
    "if npix < 1024: \n",
    "    tempdata = tempval\n",
    "else:\n",
    "    tempdata = np.concatenate([tempval[i,:] for i in range(tempval.shape[0])])\n"
   ]
  },
  {
   "cell_type": "code",
   "execution_count": 17,
   "metadata": {
    "collapsed": false
   },
   "outputs": [
    {
     "name": "stdout",
     "output_type": "stream",
     "text": [
      "(3072,)\n"
     ]
    }
   ],
   "source": [
    "print tempdata.shape"
   ]
  },
  {
   "cell_type": "code",
   "execution_count": 18,
   "metadata": {
    "collapsed": false
   },
   "outputs": [],
   "source": [
    "### Begin calculating S_ij piece by piece, in order to do the summation correctly \n",
    "#\n",
    "# S_ij = sum(2ell+1) C_l P_l(dotproductmatrix)"
   ]
  },
  {
   "cell_type": "code",
   "execution_count": 19,
   "metadata": {
    "collapsed": false
   },
   "outputs": [],
   "source": [
    "\n",
    "totalpix = np.arange(npix) \n",
    "#print ell = [    0     1     2 ..., 3071, 3072]"
   ]
  },
  {
   "cell_type": "code",
   "execution_count": 20,
   "metadata": {
    "collapsed": false
   },
   "outputs": [],
   "source": [
    "## healpy.pixelfunc.pix2vec(nside, ipix, nest=False)\n",
    "## \n",
    "## will give three arrays\n",
    "## arrays of all x values, all y values, all z values\n",
    "## RING scheme default\n",
    "# len()=3\n",
    "# type()=tuple\n",
    "#\n",
    "#\n",
    "\n",
    "vecval = hp.pix2vec(nside, totalpix) #Nside = 16, type()=tuple\n"
   ]
  },
  {
   "cell_type": "code",
   "execution_count": 21,
   "metadata": {
    "collapsed": false
   },
   "outputs": [],
   "source": [
    "vecvalx = vecval[0] #shape (3072,)\n",
    "vecvaly = vecval[1]\n",
    "vecvalz = vecval[2]\n",
    "\n"
   ]
  },
  {
   "cell_type": "code",
   "execution_count": 22,
   "metadata": {
    "collapsed": false
   },
   "outputs": [],
   "source": [
    "## First arrange arrays vertically\n",
    "## numpy.vstack = Stack arrays in sequence vertically (row wise), input sequence of arrays\n",
    "\n",
    "totalvecval = np.vstack((vecvalx, vecvaly, vecvalz)) #type()=numpy.ndarray"
   ]
  },
  {
   "cell_type": "code",
   "execution_count": 23,
   "metadata": {
    "collapsed": false
   },
   "outputs": [],
   "source": [
    "trans = totalvecval.T #transpose\n"
   ]
  },
  {
   "cell_type": "code",
   "execution_count": null,
   "metadata": {
    "collapsed": false
   },
   "outputs": [],
   "source": [
    "dotproductmatrix = trans.dot(totalvecval) #take the dot product\n",
    "#dotproductmatrix.shape = (npix, npix)\n",
    "\n",
    "\n"
   ]
  },
  {
   "cell_type": "code",
   "execution_count": null,
   "metadata": {
    "collapsed": false
   },
   "outputs": [],
   "source": [
    "## Begin calculating S_ij piece by piece, in order to do the summation correctly. \n",
    "#\n",
    "# S_ij = sum(2ell+1) C_l P_l(dotproductmatrix)\n",
    "\n",
    "# NOT QUICK!\n",
    "\n",
    "summatrix = np.sum( eval_legendre(newellval[:, None, None], dotproductmatrix), axis=0)\n",
    "#\n",
    "# numpy.sum(a, axis=None, dtype=None, out=None, keepdims=False)[source]\n",
    "# a : array_like\n",
    "# Elements to sum.\n",
    "# axis : None or int or tuple of ints, optional\n",
    "# Axis or axes along which a sum is performed. \n",
    "# The default (axis = None) is perform a sum over all the dimensions of the input array. \n",
    "# axis may be negative, in which case it counts from the last to the first axis.\n",
    "#\n",
    "\n",
    "\n",
    "print summatrix.shape\n"
   ]
  },
  {
   "cell_type": "code",
   "execution_count": null,
   "metadata": {
    "collapsed": false
   },
   "outputs": [],
   "source": [
    "# matrix_total = \n",
    "# (1/(4*math.pi)) * sum((2 * ll + 1) * cltemp ) * eval_legendre(ll, matrix_dotprod)\n",
    "#\n",
    "# Begin with adding theoretical scalar C_l values\n",
    "#\n",
    "add_clvalues = np.sum(newcls[:, None, None] * summatrix, axis=0)\n"
   ]
  },
  {
   "cell_type": "code",
   "execution_count": null,
   "metadata": {
    "collapsed": false
   },
   "outputs": [],
   "source": [
    "# matrix_total = \n",
    "# (1/(4*math.pi)) * np.sum((2*ll + 1) * cltemp ) * eval_legendre(ll, matrix_dotprod)\n",
    "\n",
    "wholematrix = np.sum( (((2 * newellval[:, None, None]) + 1) * add_clvalues), axis=0)\n",
    "\n"
   ]
  },
  {
   "cell_type": "code",
   "execution_count": null,
   "metadata": {
    "collapsed": false
   },
   "outputs": [],
   "source": [
    "\n",
    "covmatrix = (1/(4 * math.pi)) * wholematrix #covariance matrix for Nside=4\n",
    "\n"
   ]
  },
  {
   "cell_type": "code",
   "execution_count": null,
   "metadata": {
    "collapsed": true
   },
   "outputs": [],
   "source": [
    "# We now compute likelihood functions\n",
    "#\n",
    "# For equations, refer to Nside4_covariance_likelihood.tex\n",
    "# \"Nside = 4: Covariance and likelihood\"\n",
    "#\n"
   ]
  },
  {
   "cell_type": "code",
   "execution_count": null,
   "metadata": {
    "collapsed": false
   },
   "outputs": [],
   "source": []
  },
  {
   "cell_type": "code",
   "execution_count": null,
   "metadata": {
    "collapsed": false
   },
   "outputs": [],
   "source": [
    "map1 = hp.synfast(newcls, nside)\n",
    "map2 = hp.synfast(cltemp, nside)\n",
    "\n",
    "\n",
    "print map1.shape\n",
    "\n",
    "\n",
    "### healpy.sphtfunc.synfast(cls, nside, lmax=None, mmax=None, alm=False, pol=True, \n",
    "###                         pixwin=False, fwhm=0.0, sigma=None, new=False, verbose=True)\n",
    "# INPUT cls, nside\n",
    "# OUTPUT sky maps\n",
    "viewmap = hp.mollview(map1) ##this map DOES NOT contains monopole, dipole\n",
    "viewmap2 = hp.mollview(map2) ##this map DOES INDEED contain monopol, dipole"
   ]
  },
  {
   "cell_type": "code",
   "execution_count": null,
   "metadata": {
    "collapsed": false
   },
   "outputs": [],
   "source": [
    "powerspectrum = hp.anafast(map1) # create powerspectrum \\hat{C}_l\n",
    "pwer2 = hp.anafast(map2)\n",
    "print len(powerspectrum)\n",
    "print powerspectrum\n",
    "print len(pwer2)\n",
    "print pwer2\n",
    "print \"***\"\n",
    "print \"Notice the first two values, power e-18 and e-16, monopole and dipole\""
   ]
  },
  {
   "cell_type": "code",
   "execution_count": null,
   "metadata": {
    "collapsed": false
   },
   "outputs": [],
   "source": []
  },
  {
   "cell_type": "code",
   "execution_count": null,
   "metadata": {
    "collapsed": false
   },
   "outputs": [],
   "source": [
    "print \"Evaluate spherical harmonic likelihood function\"\n",
    "print \"-2\\ln L = \\sum_{l}(2l+1)\\Big[\\ln\\Big( \\frac{C^{\\text{th}}_l}{\\hat{C}_l}\\Big) +\\Big(\\hat{C}_l/C^{\\text{th}}_l\\Big)-1 \\Big]\"\n",
    "print \"where HEALPix anafast is \\hat(C)_l, frac{1}{2l+1}\\sum_m \\vert\\hat{a}_{lm}\\vert^2\"\n",
    "\n",
    "\n",
    "\n",
    "print \"****\"\n",
    "print \"We foolishly guess-timate Sum_ell(2*ell +1)\"\n",
    "print \"Calculate sum( [(2*i + 1) for i in ell])\"\n",
    "estimatesum = np.sum( [(2*i + 1) for i in newellval], axis=0) #newellval HAS NO monopole, dipole\n",
    "print \"Our crazy guess is\"\n",
    "print estimatesum\n",
    "\n",
    "#C^th_l is newcls, NO MONOPOLE, NO DIPOLE\n",
    "#\\hat(C)_l is powerspectrum = hp.anafast(map1), where map1 = hp.synfast(newcls, nside)\n",
    "#type(newcls) = numpy.ndarray\n",
    "#type(powerspectrum) = numpy.ndarray\n",
    "spherlikepart = ( (np.log(newcls/powerspectrum)) + (powerspectrum/newcls) - 1 )\n",
    "print spherlikepart.shape\n",
    "\n",
    "sphericalharmoniclikelihood = np.sum( [(2*i +1 ) * spherlikepart for i in newellval])\n",
    "\n",
    "print sphericalharmoniclikelihood\n",
    "\n",
    "print \"**************\"\n",
    "print \"**************\"\n"
   ]
  },
  {
   "cell_type": "code",
   "execution_count": null,
   "metadata": {
    "collapsed": true
   },
   "outputs": [],
   "source": [
    "# Compute temperature space (real space) likelihood\n",
    "#\n",
    "# where T is a temperature map array (3072,), S is our above matrix = entirething, \n",
    "# and N is the number of pixels in a vector\n",
    "#\n",
    "# First Year Wilkinson Microwave Anisotropy Probe (WMAP) Observations: \n",
    "# Parameter Estimation Methodology L. Verde, et al., 2003, ApJS, 148, 195\n",
    "#\n",
    "# http://lambda.gsfc.nasa.gov/product/map/dr1/\n",
    "# pub_papers/firstyear/methodology/wmap_param_method.pdf\n",
    "#\n",
    "# print \"−2 ln L \\propto T*S^{-1}*T + ln detS + N ln 2\\pi\""
   ]
  },
  {
   "cell_type": "code",
   "execution_count": null,
   "metadata": {
    "collapsed": false
   },
   "outputs": [],
   "source": [
    "tempvalues = np.matrix(tempdata) #create matrix of temperature values from CAMB map\n",
    "# tempvalues.shape = (1, 192)\n",
    "print tempvalues.shape"
   ]
  },
  {
   "cell_type": "code",
   "execution_count": null,
   "metadata": {
    "collapsed": false
   },
   "outputs": [],
   "source": [
    "temptranspose = tempvalues.T\n",
    "# temptranspose.shape = (192, 1)"
   ]
  },
  {
   "cell_type": "code",
   "execution_count": null,
   "metadata": {
    "collapsed": false
   },
   "outputs": [],
   "source": [
    "## Invert covariance matrix, S_ij\n",
    "## numpy.linalg.inv(a)\n",
    "## Compute the (multiplicative) inverse of a matrix.\n",
    "## Given a square matrix a, return the matrix ainv satisfying \n",
    "## dot(a, ainv) = dot(ainv, a) = eye(a.shape[0]).\n",
    "##\n",
    "\n",
    "inverse = np.linalg.inv(covmatrix)\n",
    "inversematrix = np.matrix(inverse) # S^{-1}\n",
    "inversematrix.shape"
   ]
  },
  {
   "cell_type": "code",
   "execution_count": null,
   "metadata": {
    "collapsed": false
   },
   "outputs": [],
   "source": [
    "# WARNING: DO NOT USE NP.LIGALG.DET(A)! \n",
    "# Operatioin will not succeed, gives inf or zero\n",
    "#\n",
    "#\n",
    "#\n",
    "# numpy.linalg.slogdet\n",
    "# numpy.linalg.slogdet(a)[source]\n",
    "# Compute the sign and (natural) logarithm of the determinant of an array.\n",
    "# INPUT array\n",
    "# OUTPUT (sign, ln det a)\n",
    "# sign = A number representing the sign of the determinant. \n",
    "# For a real matrix, this is 1, 0, or -1. \n",
    "# For a complex matrix, this is a complex number with absolute value 1 (i.e., it is on the unit circle), or else 0.\n",
    "# ln det a = The natural log of the absolute value of the determinant.\n",
    "#\n",
    "lnDetS = np.linalg.slogdet(inversematrix) #type()=tuple\n",
    "print lnDetS \n",
    "type(lnDetS[1])"
   ]
  },
  {
   "cell_type": "code",
   "execution_count": null,
   "metadata": {
    "collapsed": false
   },
   "outputs": [],
   "source": [
    "type(temptranspose)\n",
    "temptranspose.shape"
   ]
  },
  {
   "cell_type": "code",
   "execution_count": null,
   "metadata": {
    "collapsed": false
   },
   "outputs": [],
   "source": [
    "realtemplikehd = ( tempvalues * inversematrix * temptranspose ) \n",
    "realtemplikehdpt2 = ( tempvalues * inversematrix * temptranspose ) + lnDetS[1]\n",
    "realtemplikehdpt3 = ( tempvalues * inversematrix * temptranspose ) + ( lnDetS[1] ) + ((192)*2*math.pi)"
   ]
  },
  {
   "cell_type": "code",
   "execution_count": null,
   "metadata": {
    "collapsed": false
   },
   "outputs": [],
   "source": [
    "print \"Real space (temperature space) likelihood function\"\n",
    "print \"Formalism:  −2 ln L \\propto T*S^{-1}*T + ln detS + N ln 2\\pi\"\n",
    "print \"First number: T*S^(-1)*T \"\n",
    "\n",
    "print realtemplikehd\n",
    "\n",
    "print \"Second number: T*S^{-1}*T + ln detS \"\n",
    "\n",
    "print realtemplikehdpt2\n",
    "\n",
    "print \"Third number:  −2 ln L \\propto T*S^{-1}*T + ln detS + N ln 2\\pi\"\n",
    "\n",
    "print realtemplikehdpt3\n",
    "\n",
    "print \"**************\"\n",
    "print \"**************\"\n",
    "print \"END\""
   ]
  },
  {
   "cell_type": "code",
   "execution_count": null,
   "metadata": {
    "collapsed": false
   },
   "outputs": [],
   "source": []
  },
  {
   "cell_type": "code",
   "execution_count": null,
   "metadata": {
    "collapsed": false
   },
   "outputs": [],
   "source": []
  },
  {
   "cell_type": "code",
   "execution_count": null,
   "metadata": {
    "collapsed": true
   },
   "outputs": [],
   "source": []
  },
  {
   "cell_type": "code",
   "execution_count": null,
   "metadata": {
    "collapsed": false
   },
   "outputs": [],
   "source": []
  },
  {
   "cell_type": "code",
   "execution_count": null,
   "metadata": {
    "collapsed": true
   },
   "outputs": [],
   "source": []
  }
 ],
 "metadata": {
  "kernelspec": {
   "display_name": "Python 2",
   "language": "python",
   "name": "python2"
  },
  "language_info": {
   "codemirror_mode": {
    "name": "ipython",
    "version": 2
   },
   "file_extension": ".py",
   "mimetype": "text/x-python",
   "name": "python",
   "nbconvert_exporter": "python",
   "pygments_lexer": "ipython2",
   "version": "2.7.9"
  }
 },
 "nbformat": 4,
 "nbformat_minor": 0
}
