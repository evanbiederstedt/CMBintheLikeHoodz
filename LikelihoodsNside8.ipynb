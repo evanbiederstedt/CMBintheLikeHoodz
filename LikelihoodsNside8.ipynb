{
 "cells": [
  {
   "cell_type": "code",
   "execution_count": 259,
   "metadata": {
    "collapsed": true
   },
   "outputs": [],
   "source": [
    "%matplotlib inline\n",
    "\n",
    "# We use CAMB generated scalar C_l values, N_side=8\n",
    "# and CAMB simulated maps associated with scalar C_l values above\n",
    "# N_side=8 gives N_pix=768\n",
    "# \n",
    "# Provide three inputs:\n",
    "# 1. scalar Cls FITS\n",
    "# 2. sky map FITS\n",
    "# 3. manually insert Nside value\n",
    "# If you did that, alles in Butter!\n",
    "\n"
   ]
  },
  {
   "cell_type": "code",
   "execution_count": 260,
   "metadata": {
    "collapsed": true
   },
   "outputs": [],
   "source": [
    "# http://healpy.readthedocs.org/en/latest/generated/healpy.sphtfunc.anafast.html\n",
    "#\n",
    "# lmax = (3*Nside - 1)\n",
    "#\n",
    "# if lmax=0, there is only one Cl, i.e. C0. If lmax=11, there are 12 Cl values, \n",
    "# Cl= [C0, C1 ... C11]\n"
   ]
  },
  {
   "cell_type": "code",
   "execution_count": 261,
   "metadata": {
    "collapsed": true
   },
   "outputs": [],
   "source": [
    "# The standard I am using is lmax = (3*Nside - 1)\n",
    "#\n",
    "# However, for all computations, we CONSISTENTLY remove monopole and dipole terms\n",
    "# Otherwise, we end up dividing by zero\n",
    "#\n",
    "# So, generate FITS with lmax = 3Nside+1"
   ]
  },
  {
   "cell_type": "code",
   "execution_count": 262,
   "metadata": {
    "collapsed": true
   },
   "outputs": [],
   "source": [
    "import math\n",
    "import matplotlib.pyplot as plt \n",
    "import numpy as np\n",
    "import healpy as hp\n",
    "import pyfits as pf\n",
    "import astropy as ap\n",
    "import os\n",
    "from scipy.special import eval_legendre  ##special scipy function\n",
    "\n",
    "np.set_printoptions(threshold='nan')  # Default is threshold=1000\n",
    "## Use this to print all values, disables corner printing"
   ]
  },
  {
   "cell_type": "code",
   "execution_count": 263,
   "metadata": {
    "collapsed": false
   },
   "outputs": [
    {
     "name": "stdout",
     "output_type": "stream",
     "text": [
      "/Users/evanbiederstedt/Downloads\n"
     ]
    }
   ],
   "source": [
    "cd ~/downloads"
   ]
  },
  {
   "cell_type": "code",
   "execution_count": 264,
   "metadata": {
    "collapsed": false
   },
   "outputs": [
    {
     "name": "stdout",
     "output_type": "stream",
     "text": [
      "Changed directory to 'Downloads' folder\n",
      "Example of FITS file for C_l scalars is format \"camb_cls_nside8_lmax25.fits\" \n",
      "Example of FITS file for fully sky maps is format \"camb_map_nside8_lmax25.fits\" \n"
     ]
    }
   ],
   "source": [
    "print \"Changed directory to 'Downloads' folder\"\n",
    "print 'Example of FITS file for C_l scalars is format \"camb_cls_nside8_lmax25.fits\" '\n",
    "print 'Example of FITS file for fully sky maps is format \"camb_map_nside8_lmax25.fits\" '"
   ]
  },
  {
   "cell_type": "code",
   "execution_count": 265,
   "metadata": {
    "collapsed": true
   },
   "outputs": [],
   "source": [
    "filename = \"camb_cls_nside8_lmax25.fits\" # CAMB C_l scalars\n",
    "temp = \"camb_map_nside8_lmax25.fits\" # CAMB simulated maps\n",
    "nside = 8"
   ]
  },
  {
   "cell_type": "code",
   "execution_count": 266,
   "metadata": {
    "collapsed": false,
    "scrolled": true
   },
   "outputs": [
    {
     "name": "stdout",
     "output_type": "stream",
     "text": [
      "The total number of pixels is 768\n",
      "The maximum ell of the power spectrum C_l is 23\n"
     ]
    }
   ],
   "source": [
    "npix = 12*(nside**2) #total number of pixels, npix\n",
    "lmax = ((3*nside)-1) #maximum l of the power spectrum C_l\n",
    "\n",
    "print \"The total number of pixels is \" + str(npix)\n",
    "print \"The maximum ell of the power spectrum C_l is \" + str(lmax)"
   ]
  },
  {
   "cell_type": "code",
   "execution_count": 267,
   "metadata": {
    "collapsed": false
   },
   "outputs": [],
   "source": [
    "# open a FITS file \n",
    "# type()=pyfits.hdu.hdulist.HDUList\n",
    "ff = pf.open(filename)"
   ]
  },
  {
   "cell_type": "code",
   "execution_count": 268,
   "metadata": {
    "collapsed": false
   },
   "outputs": [],
   "source": [
    "### Recall there are four columns: temp, E pol, B pol, grad-temp cross terms\n",
    "## first two values are zero, i.e. monopole, dipole\n",
    "cls = ff[1].data  # actually second HDU, first is empty\n"
   ]
  },
  {
   "cell_type": "code",
   "execution_count": 269,
   "metadata": {
    "collapsed": false
   },
   "outputs": [
    {
     "name": "stdout",
     "output_type": "stream",
     "text": [
      "26\n",
      "the number of l values: l=0, l=1, ... l=lmax, where lmax = 23\n",
      "this means length = 24\n",
      "24\n"
     ]
    }
   ],
   "source": [
    "# XXX.field() references columns by 0-index\n",
    "# field(0) is temperature values\n",
    "# all Cl scalar temp values put into ndarray\n",
    "# type()=numpy.ndarray\n",
    "\n",
    "cltemp = cls.field(0) \n",
    "newcls = np.delete( cltemp, [0,1] )\n",
    "\n",
    "\n",
    "# Note: imported C_l values 3*Nside + 1 = cltemp\n",
    "# newcls uses lmax = 3Nside - 1\n",
    "\n",
    "\n",
    "\n",
    "print len(cltemp)\n",
    "print \"the number of l values: l=0, l=1, ... l=lmax, where lmax = \" + str(lmax)\n",
    "\n",
    "print \"this means length = \" + str(len(newcls))\n",
    "print len(newcls) #the l=0 value"
   ]
  },
  {
   "cell_type": "code",
   "execution_count": 270,
   "metadata": {
    "collapsed": false
   },
   "outputs": [],
   "source": [
    "# define ell values\n",
    "# array from 0 to lmax, where lmax = \n",
    "# add two values in case there are issues with monopole, dipole term\n",
    "ellval = np.arange(len(cltemp))\n"
   ]
  },
  {
   "cell_type": "code",
   "execution_count": 271,
   "metadata": {
    "collapsed": false
   },
   "outputs": [
    {
     "name": "stdout",
     "output_type": "stream",
     "text": [
      "[ 0  1  2  3  4  5  6  7  8  9 10 11 12 13 14 15 16 17 18 19 20 21 22 23 24\n",
      " 25]\n",
      "[ 2  3  4  5  6  7  8  9 10 11 12 13 14 15 16 17 18 19 20 21 22 23 24 25]\n"
     ]
    }
   ],
   "source": [
    "# P_0 is the monopole, P_1 is the dipole\n",
    "# remove 0, 1\n",
    "\n",
    "newellval = np.delete(ellval, [0,1]) #numpy.ndarray\n",
    "\n",
    "print ellval\n",
    "print newellval"
   ]
  },
  {
   "cell_type": "code",
   "execution_count": 272,
   "metadata": {
    "collapsed": false
   },
   "outputs": [],
   "source": [
    "# First calculate the covariance matrix by the definition, i.e. \n",
    "# \n",
    "# C_ij = < \\delta T_i \\delta T_j > = 1/4pi \\sum^{N_pix} p = \n",
    "# ( T_i(p) - mean(T_i) ) * ( T_j(p) - mean(T_j) )\n",
    "#\n",
    "#\n",
    "# Larson, Weiland, Hinshaw, Bennett, \n",
    "# http://arxiv.org/pdf/1409.7718.pdf\n",
    "#"
   ]
  },
  {
   "cell_type": "code",
   "execution_count": 273,
   "metadata": {
    "collapsed": false
   },
   "outputs": [],
   "source": [
    "tempmap = hp.mrdfits(temp) #type() = list\n"
   ]
  },
  {
   "cell_type": "code",
   "execution_count": 274,
   "metadata": {
    "collapsed": false
   },
   "outputs": [],
   "source": [
    "tempval = tempmap[0][:] #len()=12288, type()=numpy.ndarray\n",
    "\n",
    "# len(tempval) = 12\n",
    "# 1024 * 12 = 12288\n",
    "# 12 rows of 1024 entries\n",
    "\n",
    "# tempval.shape = (12, 1024)"
   ]
  },
  {
   "cell_type": "code",
   "execution_count": 275,
   "metadata": {
    "collapsed": false
   },
   "outputs": [],
   "source": [
    "# The HEALPix standard is fixed at shape = (n, 1024)\n",
    "# Columns are consistently 1024\n",
    "# Rows vary\n",
    "#\n",
    "# Concatenate array so it is one-dimensional\n",
    "#\n",
    "#\n",
    "# Could use numpy.reshape\n",
    "# Quicker, probably\n",
    "# np.reshape(tempval, (1, -1))\n",
    "#\n",
    "\n",
    "if npix < 1024: \n",
    "    tempdata = tempval\n",
    "else:\n",
    "    tempdata = np.concatenate([tempval[i,:] for i in range(tempval.shape[0])])\n"
   ]
  },
  {
   "cell_type": "code",
   "execution_count": 276,
   "metadata": {
    "collapsed": false
   },
   "outputs": [
    {
     "data": {
      "text/plain": [
       "(768,)"
      ]
     },
     "execution_count": 276,
     "metadata": {},
     "output_type": "execute_result"
    }
   ],
   "source": [
    "tempdata.shape"
   ]
  },
  {
   "cell_type": "code",
   "execution_count": 277,
   "metadata": {
    "collapsed": false
   },
   "outputs": [],
   "source": [
    "### Begin calculating S_ij piece by piece, in order to do the summation correctly \n",
    "#\n",
    "# S_ij = sum(2ell+1) C_l P_l(dotproductmatrix)"
   ]
  },
  {
   "cell_type": "code",
   "execution_count": 278,
   "metadata": {
    "collapsed": false
   },
   "outputs": [],
   "source": [
    "\n",
    "totalpix = np.arange(npix) \n",
    "#print ell = [    0     1     2 ..., 3071, 3072]"
   ]
  },
  {
   "cell_type": "code",
   "execution_count": 279,
   "metadata": {
    "collapsed": false
   },
   "outputs": [],
   "source": [
    "## healpy.pixelfunc.pix2vec(nside, ipix, nest=False)\n",
    "## \n",
    "## will give three arrays\n",
    "## arrays of all x values, all y values, all z values\n",
    "## RING scheme default\n",
    "# len()=3\n",
    "# type()=tuple\n",
    "#\n",
    "#\n",
    "\n",
    "vecval = hp.pix2vec(nside, totalpix) #Nside = 16, type()=tuple\n"
   ]
  },
  {
   "cell_type": "code",
   "execution_count": 280,
   "metadata": {
    "collapsed": false
   },
   "outputs": [],
   "source": [
    "vecvalx = vecval[0] #shape (3072,)\n",
    "vecvaly = vecval[1]\n",
    "vecvalz = vecval[2]\n",
    "\n"
   ]
  },
  {
   "cell_type": "code",
   "execution_count": 281,
   "metadata": {
    "collapsed": false
   },
   "outputs": [],
   "source": [
    "## First arrange arrays vertically\n",
    "## numpy.vstack = Stack arrays in sequence vertically (row wise), input sequence of arrays\n",
    "\n",
    "totalvecval = np.vstack((vecvalx, vecvaly, vecvalz)) #type()=numpy.ndarray"
   ]
  },
  {
   "cell_type": "code",
   "execution_count": 282,
   "metadata": {
    "collapsed": false
   },
   "outputs": [],
   "source": [
    "trans = totalvecval.T #transpose\n"
   ]
  },
  {
   "cell_type": "code",
   "execution_count": 283,
   "metadata": {
    "collapsed": false
   },
   "outputs": [],
   "source": [
    "dotproductmatrix = trans.dot(totalvecval) #take the dot product\n",
    "#dotproductmatrix.shape = (npix, npix)\n",
    "\n",
    "\n"
   ]
  },
  {
   "cell_type": "code",
   "execution_count": 284,
   "metadata": {
    "collapsed": false
   },
   "outputs": [
    {
     "name": "stdout",
     "output_type": "stream",
     "text": [
      "(768, 768)\n"
     ]
    }
   ],
   "source": [
    "## Begin calculating S_ij piece by piece, in order to do the summation correctly. \n",
    "#\n",
    "# S_ij = sum(2ell+1) C_l P_l(dotproductmatrix)\n",
    "\n",
    "# NOT QUICK!\n",
    "\n",
    "summatrix = np.sum( eval_legendre(newellval[:, None, None], dotproductmatrix), axis=0)\n",
    "#\n",
    "# numpy.sum(a, axis=None, dtype=None, out=None, keepdims=False)[source]\n",
    "# a : array_like\n",
    "# Elements to sum.\n",
    "# axis : None or int or tuple of ints, optional\n",
    "# Axis or axes along which a sum is performed. \n",
    "# The default (axis = None) is perform a sum over all the dimensions of the input array. \n",
    "# axis may be negative, in which case it counts from the last to the first axis.\n",
    "#\n",
    "\n",
    "\n",
    "print summatrix.shape\n",
    "\n"
   ]
  },
  {
   "cell_type": "code",
   "execution_count": 285,
   "metadata": {
    "collapsed": false
   },
   "outputs": [
    {
     "name": "stdout",
     "output_type": "stream",
     "text": [
      "(768, 768)\n"
     ]
    }
   ],
   "source": [
    "# matrix_total = \n",
    "# (1/(4*math.pi)) * sum((2 * ll + 1) * cltemp ) * eval_legendre(ll, matrix_dotprod)\n",
    "#\n",
    "# Begin with adding theoretical scalar C_l values\n",
    "#\n",
    "add_clvalues = np.sum(newcls[:, None, None] * summatrix, axis=0)\n",
    "\n",
    "print add_clvalues.shape\n",
    "\n",
    "\n"
   ]
  },
  {
   "cell_type": "code",
   "execution_count": 286,
   "metadata": {
    "collapsed": false
   },
   "outputs": [
    {
     "name": "stdout",
     "output_type": "stream",
     "text": [
      "(768, 768)\n"
     ]
    }
   ],
   "source": [
    "# matrix_total = \n",
    "# (1/(4*math.pi)) * np.sum((2*ll + 1) * cltemp ) * eval_legendre(ll, matrix_dotprod)\n",
    "\n",
    "wholematrix = np.sum( (((2 * newellval[:, None, None]) + 1) * add_clvalues), axis=0)\n",
    "\n",
    "print wholematrix.shape\n",
    "\n",
    "\n",
    "\n"
   ]
  },
  {
   "cell_type": "code",
   "execution_count": 287,
   "metadata": {
    "collapsed": false
   },
   "outputs": [],
   "source": [
    "\n",
    "covmatrix = (1/(4 * math.pi)) * wholematrix #covariance matrix for Nside=4\n",
    "\n"
   ]
  },
  {
   "cell_type": "code",
   "execution_count": 288,
   "metadata": {
    "collapsed": true
   },
   "outputs": [],
   "source": [
    "# We now compute likelihood functions\n",
    "#\n",
    "# For equations, refer to Nside4_covariance_likelihood.tex\n",
    "# \"Nside = 4: Covariance and likelihood\"\n",
    "#\n"
   ]
  },
  {
   "cell_type": "code",
   "execution_count": null,
   "metadata": {
    "collapsed": false
   },
   "outputs": [],
   "source": []
  },
  {
   "cell_type": "code",
   "execution_count": 289,
   "metadata": {
    "collapsed": false
   },
   "outputs": [
    {
     "name": "stdout",
     "output_type": "stream",
     "text": [
      "Sigma is 0.000000 arcmin (0.000000 rad) \n",
      "-> fwhm is 0.000000 arcmin\n",
      "Sigma is 0.000000 arcmin (0.000000 rad) \n",
      "-> fwhm is 0.000000 arcmin\n",
      "(768,)\n"
     ]
    },
    {
     "data": {
      "image/png": "[encoded data removed]",
      "text/plain": [
       "<matplotlib.figure.Figure at 0x10fab4650>"
      ]
     },
     "metadata": {},
     "output_type": "display_data"
    },
    {
     "data": {
      "image/png": "[encoded data removed]",
      "text/plain": [
       "<matplotlib.figure.Figure at 0x10e1681d0>"
      ]
     },
     "metadata": {},
     "output_type": "display_data"
    }
   ],
   "source": [
    "map1 = hp.synfast(newcls, nside)\n",
    "map2 = hp.synfast(cltemp, nside)\n",
    "\n",
    "\n",
    "print map1.shape\n",
    "tempentries = map2\n",
    "\n",
    "### healpy.sphtfunc.synfast(cls, nside, lmax=None, mmax=None, alm=False, pol=True, \n",
    "###                         pixwin=False, fwhm=0.0, sigma=None, new=False, verbose=True)\n",
    "# INPUT cls, nside\n",
    "# OUTPUT sky maps\n",
    "viewmap = hp.mollview(map1) ##this map DOES NOT contains monopole, dipole\n",
    "viewmap2 = hp.mollview(map2) ##this map DOES INDEED contain monopol, dipole"
   ]
  },
  {
   "cell_type": "code",
   "execution_count": 290,
   "metadata": {
    "collapsed": false
   },
   "outputs": [
    {
     "name": "stdout",
     "output_type": "stream",
     "text": [
      "24\n",
      "[  2.21183403e-09   5.14610312e-10   1.59350092e-10   2.06906487e-10\n",
      "   2.04116471e-10   2.54657657e-10   8.74245588e-11   4.57432901e-11\n",
      "   3.91106743e-11   4.74688696e-11   2.68537298e-11   1.26166322e-11\n",
      "   3.83227239e-11   1.62178222e-11   2.42116697e-11   2.33645098e-11\n",
      "   1.71747447e-11   1.59800631e-11   1.71642184e-11   2.00970730e-11\n",
      "   1.43334154e-11   1.14114116e-11   9.93758045e-12   9.50092996e-12]\n",
      "24\n",
      "[  2.65405911e-17   4.76064076e-17   2.09390951e-09   4.48537832e-10\n",
      "   2.11152696e-10   1.40050889e-10   1.49378219e-10   1.01167865e-10\n",
      "   1.00757613e-10   3.82803775e-11   4.50515387e-11   3.96444991e-11\n",
      "   4.10856881e-11   3.90750650e-11   3.01770746e-11   2.02594859e-11\n",
      "   2.57745957e-11   2.63577781e-11   1.41412372e-11   1.84111011e-11\n",
      "   1.88088952e-11   1.64770467e-11   1.45661272e-11   1.25779211e-11]\n",
      "***\n",
      "Notice the first two values, power e-18 and e-16, monopole and dipole\n"
     ]
    }
   ],
   "source": [
    "powerspectrum = hp.anafast(map1) # create powerspectrum \\hat{C}_l\n",
    "pwer2 = hp.anafast(map2)\n",
    "print len(powerspectrum)\n",
    "print powerspectrum\n",
    "print len(pwer2)\n",
    "print pwer2\n",
    "print \"***\"\n",
    "print \"Notice the first two values, power e-18 and e-16, monopole and dipole\""
   ]
  },
  {
   "cell_type": "code",
   "execution_count": 300,
   "metadata": {
    "collapsed": false
   },
   "outputs": [
    {
     "name": "stdout",
     "output_type": "stream",
     "text": [
      "Evaluate spherical harmonic likelihood function\n",
      "-2\\ln L = \\sum_{l}(2l+1)\\Big[\\ln\\Big( \f",
      "rac{C^{\text{th}}_l}{\\hat{C}_l}\\Big) +\\Big(\\hat{C}_l/C^{\text{th}}_l\\Big)-1 \\Big]\n",
      "where HEALPix anafast is \\hat(C)_l, frac{1}{2l+1}\\sum_m \u000b",
      "ert\\hat{a}_{lm}\u000b",
      "ert^2\n",
      "****\n",
      "We foolishly guess-timate Sum_ell(2*ell +1)\n",
      "Calculate sum( [(2*i + 1) for i in ell])\n",
      "Our crazy guess is something around the value = 672\n",
      "(24,)\n",
      "1206.794541\n",
      "**************\n",
      "**************\n"
     ]
    }
   ],
   "source": [
    "print \"Evaluate spherical harmonic likelihood function\"\n",
    "print \"-2\\ln L = \\sum_{l}(2l+1)\\Big[\\ln\\Big( \\frac{C^{\\text{th}}_l}{\\hat{C}_l}\\Big) +\\Big(\\hat{C}_l/C^{\\text{th}}_l\\Big)-1 \\Big]\"\n",
    "print \"where HEALPix anafast is \\hat(C)_l, frac{1}{2l+1}\\sum_m \\vert\\hat{a}_{lm}\\vert^2\"\n",
    "\n",
    "\n",
    "\n",
    "print \"****\"\n",
    "print \"We foolishly guess-timate Sum_ell(2*ell +1)\"\n",
    "print \"Calculate sum( [(2*i + 1) for i in ell])\"\n",
    "estimatesum = np.sum( [(2*i + 1) for i in newellval], axis=0) #newellval HAS NO monopole, dipole\n",
    "print \"Our crazy guess is something around the value = \" + str(estimatesum)\n",
    "\n",
    "\n",
    "#C^th_l is newcls, NO MONOPOLE, NO DIPOLE\n",
    "#\\hat(C)_l is powerspectrum = hp.anafast(map1), where map1 = hp.synfast(newcls, nside)\n",
    "#type(newcls) = numpy.ndarray\n",
    "#type(powerspectrum) = numpy.ndarray\n",
    "spherlikepart = ( (np.log(newcls/powerspectrum)) + (powerspectrum/newcls) - 1 )\n",
    "print spherlikepart.shape\n",
    "\n",
    "sphericalharmoniclikelihood = np.sum( [(2*i +1 ) * spherlikepart for i in newellval])\n",
    "\n",
    "print sphericalharmoniclikelihood\n",
    "\n",
    "print \"**************\"\n",
    "print \"**************\"\n"
   ]
  },
  {
   "cell_type": "code",
   "execution_count": 292,
   "metadata": {
    "collapsed": true
   },
   "outputs": [],
   "source": [
    "# Compute temperature space (real space) likelihood\n",
    "#\n",
    "# where T is a temperature map array (3072,), S is our above matrix = entirething, \n",
    "# and N is the number of pixels in a vector\n",
    "#\n",
    "# First Year Wilkinson Microwave Anisotropy Probe (WMAP) Observations: \n",
    "# Parameter Estimation Methodology L. Verde, et al., 2003, ApJS, 148, 195\n",
    "#\n",
    "# http://lambda.gsfc.nasa.gov/product/map/dr1/\n",
    "# pub_papers/firstyear/methodology/wmap_param_method.pdf\n",
    "#\n",
    "# print \"−2 ln L \\propto T*S^{-1}*T + ln detS + N ln 2\\pi\""
   ]
  },
  {
   "cell_type": "code",
   "execution_count": 293,
   "metadata": {
    "collapsed": false
   },
   "outputs": [
    {
     "name": "stdout",
     "output_type": "stream",
     "text": [
      "(1, 768)\n"
     ]
    }
   ],
   "source": [
    "tempvalues = np.matrix(tempentries) #create matrix of temperature values from CAMB map\n",
    "# tempvalues.shape = (1, 192)\n",
    "print tempvalues.shape"
   ]
  },
  {
   "cell_type": "code",
   "execution_count": 294,
   "metadata": {
    "collapsed": false
   },
   "outputs": [],
   "source": [
    "temptranspose = tempvalues.T\n",
    "# temptranspose.shape = (192, 1)"
   ]
  },
  {
   "cell_type": "code",
   "execution_count": 295,
   "metadata": {
    "collapsed": false
   },
   "outputs": [
    {
     "data": {
      "text/plain": [
       "(768, 768)"
      ]
     },
     "execution_count": 295,
     "metadata": {},
     "output_type": "execute_result"
    }
   ],
   "source": [
    "## Invert covariance matrix, S_ij\n",
    "## numpy.linalg.inv(a)\n",
    "## Compute the (multiplicative) inverse of a matrix.\n",
    "## Given a square matrix a, return the matrix ainv satisfying \n",
    "## dot(a, ainv) = dot(ainv, a) = eye(a.shape[0]).\n",
    "##\n",
    "\n",
    "inverse = np.linalg.inv(covmatrix)\n",
    "inversematrix = np.matrix(inverse) # S^{-1}\n",
    "inversematrix.shape"
   ]
  },
  {
   "cell_type": "code",
   "execution_count": 296,
   "metadata": {
    "collapsed": false
   },
   "outputs": [
    {
     "name": "stdout",
     "output_type": "stream",
     "text": [
      "(1.0, 12963.490901780076)\n"
     ]
    },
    {
     "data": {
      "text/plain": [
       "numpy.float64"
      ]
     },
     "execution_count": 296,
     "metadata": {},
     "output_type": "execute_result"
    }
   ],
   "source": [
    "# WARNING: DO NOT USE NP.LIGALG.DET(A)! \n",
    "# Operatioin will not succeed, gives inf or zero\n",
    "#\n",
    "#\n",
    "#\n",
    "# numpy.linalg.slogdet\n",
    "# numpy.linalg.slogdet(a)[source]\n",
    "# Compute the sign and (natural) logarithm of the determinant of an array.\n",
    "# INPUT array\n",
    "# OUTPUT (sign, ln det a)\n",
    "# sign = A number representing the sign of the determinant. \n",
    "# For a real matrix, this is 1, 0, or -1. \n",
    "# For a complex matrix, this is a complex number with absolute value 1 (i.e., it is on the unit circle), or else 0.\n",
    "# ln det a = The natural log of the absolute value of the determinant.\n",
    "#\n",
    "lnDetS = np.linalg.slogdet(inversematrix) #type()=tuple\n",
    "print lnDetS \n",
    "type(lnDetS[1])"
   ]
  },
  {
   "cell_type": "code",
   "execution_count": 297,
   "metadata": {
    "collapsed": false
   },
   "outputs": [
    {
     "data": {
      "text/plain": [
       "(768, 1)"
      ]
     },
     "execution_count": 297,
     "metadata": {},
     "output_type": "execute_result"
    }
   ],
   "source": [
    "type(temptranspose)\n",
    "temptranspose.shape"
   ]
  },
  {
   "cell_type": "code",
   "execution_count": 298,
   "metadata": {
    "collapsed": false
   },
   "outputs": [],
   "source": [
    "realtemplikehd = ( tempvalues * inversematrix * temptranspose ) \n",
    "realtemplikehdpt2 = ( tempvalues * inversematrix * temptranspose ) + lnDetS[1]\n",
    "realtemplikehdpt3 = ( tempvalues * inversematrix * temptranspose ) + ( lnDetS[1] ) + ((192)*2*math.pi)"
   ]
  },
  {
   "cell_type": "code",
   "execution_count": 299,
   "metadata": {
    "collapsed": false
   },
   "outputs": [
    {
     "name": "stdout",
     "output_type": "stream",
     "text": [
      "Real space (temperature space) likelihood function\n",
      "Formalism:  −2 ln L \\propto T*S^{-1}*T + ln detS + N ln 2\\pi\n",
      "First number: T*S^(-1)*T \n",
      "[[ 0.28574513]]\n",
      "Second number: T*S^{-1}*T + ln detS \n",
      "[[ 12963.77664691]]\n",
      "Third number:  −2 ln L \\propto T*S^{-1}*T + ln detS + N ln 2\\pi\n",
      "[[ 14170.14822588]]\n",
      "**************\n",
      "**************\n",
      "END\n"
     ]
    }
   ],
   "source": [
    "print \"Real space (temperature space) likelihood function\"\n",
    "print \"Formalism:  −2 ln L \\propto T*S^{-1}*T + ln detS + N ln 2\\pi\"\n",
    "print \"First number: T*S^(-1)*T \"\n",
    "\n",
    "print realtemplikehd\n",
    "\n",
    "print \"Second number: T*S^{-1}*T + ln detS \"\n",
    "\n",
    "print realtemplikehdpt2\n",
    "\n",
    "print \"Third number:  −2 ln L \\propto T*S^{-1}*T + ln detS + N ln 2\\pi\"\n",
    "\n",
    "print realtemplikehdpt3\n",
    "\n",
    "print \"**************\"\n",
    "print \"**************\"\n",
    "print \"END\""
   ]
  },
  {
   "cell_type": "code",
   "execution_count": null,
   "metadata": {
    "collapsed": false
   },
   "outputs": [],
   "source": []
  },
  {
   "cell_type": "code",
   "execution_count": null,
   "metadata": {
    "collapsed": false
   },
   "outputs": [],
   "source": []
  },
  {
   "cell_type": "code",
   "execution_count": null,
   "metadata": {
    "collapsed": true
   },
   "outputs": [],
   "source": []
  },
  {
   "cell_type": "code",
   "execution_count": null,
   "metadata": {
    "collapsed": false
   },
   "outputs": [],
   "source": []
  },
  {
   "cell_type": "code",
   "execution_count": null,
   "metadata": {
    "collapsed": true
   },
   "outputs": [],
   "source": []
  },
  {
   "cell_type": "code",
   "execution_count": null,
   "metadata": {
    "collapsed": true
   },
   "outputs": [],
   "source": []
  }
 ],
 "metadata": {
  "kernelspec": {
   "display_name": "Python 2",
   "language": "python",
   "name": "python2"
  },
  "language_info": {
   "codemirror_mode": {
    "name": "ipython",
    "version": 2
   },
   "file_extension": ".py",
   "mimetype": "text/x-python",
   "name": "python",
   "nbconvert_exporter": "python",
   "pygments_lexer": "ipython2",
   "version": "2.7.9"
  }
 },
 "nbformat": 4,
 "nbformat_minor": 0
}
